{
 "cells": [
  {
   "metadata": {},
   "cell_type": "markdown",
   "source": "# Tests for Tiktok Research API",
   "id": "dd514476832d7a4c"
  },
  {
   "metadata": {},
   "cell_type": "markdown",
   "source": "## Config",
   "id": "2acc27439154d579"
  },
  {
   "cell_type": "code",
   "id": "initial_id",
   "metadata": {
    "collapsed": true,
    "ExecuteTime": {
     "end_time": "2025-10-12T09:58:46.324120Z",
     "start_time": "2025-10-12T09:58:46.274263Z"
    }
   },
   "source": [
    "from dotenv import load_dotenv\n",
    "import os\n",
    "import requests\n",
    "import json\n",
    "from typing import Optional, Dict, Any, List\n",
    "\n",
    "load_dotenv()"
   ],
   "outputs": [
    {
     "data": {
      "text/plain": [
       "True"
      ]
     },
     "execution_count": 1,
     "metadata": {},
     "output_type": "execute_result"
    }
   ],
   "execution_count": 1
  },
  {
   "metadata": {
    "ExecuteTime": {
     "end_time": "2025-10-12T09:58:46.331767Z",
     "start_time": "2025-10-12T09:58:46.328983Z"
    }
   },
   "cell_type": "code",
   "source": [
    "TIKTOK_CLIENT_ID = os.getenv(\"TIKTOK_CLIENT_ID\")\n",
    "assert TIKTOK_CLIENT_ID is not None, \"bad .env\"\n",
    "TIKTOK_CLIENT_SECRET = os.getenv(\"TIKTOK_CLIENT_SECRET\")\n",
    "assert TIKTOK_CLIENT_SECRET is not None, \"bad .env\"\n",
    "TIKTOK_CLIENT_KEY = os.getenv(\"TIKTOK_CLIENT_KEY\")\n",
    "assert TIKTOK_CLIENT_KEY is not None, \"bad .env\""
   ],
   "id": "8b90add20da124ee",
   "outputs": [],
   "execution_count": 2
  },
  {
   "metadata": {
    "ExecuteTime": {
     "end_time": "2025-10-12T09:58:46.377989Z",
     "start_time": "2025-10-12T09:58:46.375479Z"
    }
   },
   "cell_type": "code",
   "source": "tiktok_account = \"coldplay\"",
   "id": "2b00f1664247d797",
   "outputs": [],
   "execution_count": 3
  },
  {
   "metadata": {},
   "cell_type": "markdown",
   "source": "## Get access token",
   "id": "8a32d10e35b4ace7"
  },
  {
   "metadata": {
    "ExecuteTime": {
     "end_time": "2025-10-12T09:58:46.427695Z",
     "start_time": "2025-10-12T09:58:46.421543Z"
    }
   },
   "cell_type": "code",
   "source": [
    "def get_access_token(client_key: str, client_secret: str) -> Optional[Dict[str, Any]]:\n",
    "    \"\"\"\n",
    "    Requests an access token using the Client Credentials grant flow for the\n",
    "    TikTok Open API.\n",
    "\n",
    "    Args:\n",
    "        client_key: Your application's client key.\n",
    "        client_secret: Your application's client secret.\n",
    "\n",
    "    Returns:\n",
    "        A dictionary containing the token information (e.g., access_token,\n",
    "        token_type, expires_in, scope) on success, or None on failure.\n",
    "    \"\"\"\n",
    "    url = 'https://open.tiktokapis.com/v2/oauth/token/'\n",
    "\n",
    "    # Headers specific for this OAuth endpoint\n",
    "    headers = {\n",
    "        # The Content-Type header is usually handled by requests when using 'data',\n",
    "        # but we set it explicitly as good practice based on the curl command.\n",
    "        'Content-Type': 'application/x-www-form-urlencoded',\n",
    "        'Cache-Control': 'no-cache'\n",
    "    }\n",
    "\n",
    "    # Form-encoded data payload\n",
    "    data = {\n",
    "        'client_key': client_key,\n",
    "        'client_secret': client_secret,\n",
    "        'grant_type': 'client_credentials',\n",
    "        'scope': 'research.data.basic'\n",
    "    }\n",
    "\n",
    "    print(\"Attempting to request access token...\")\n",
    "\n",
    "    try:\n",
    "        # Send the POST request. Using 'data' sends the content as\n",
    "        # application/x-www-form-urlencoded.\n",
    "        response = requests.post(\n",
    "            url,\n",
    "            headers=headers,\n",
    "            data=data,\n",
    "            timeout=10\n",
    "        )\n",
    "\n",
    "        # Check for HTTP errors\n",
    "        response.raise_for_status()\n",
    "\n",
    "        # Parse the JSON response\n",
    "        response_data = response.json()\n",
    "\n",
    "        # Check if the token was successfully generated (it should contain 'access_token')\n",
    "        if 'access_token' in response_data:\n",
    "            print(\"Access token successfully received.\")\n",
    "            return response_data\n",
    "        else:\n",
    "            print(f\"API returned success status but no token: {response_data.get('error_description', response.text)}\")\n",
    "            return None\n",
    "\n",
    "\n",
    "    except requests.exceptions.HTTPError as errh:\n",
    "        print(f\"HTTP Error during token request: {errh}\")\n",
    "        # The response text often contains the specific API error message\n",
    "        if 'response' in locals() and response.text:\n",
    "            print(f\"API Response Content: {response.text}\")\n",
    "    except requests.exceptions.RequestException as err:\n",
    "        print(f\"An unexpected request error occurred: {err}\")\n",
    "    except json.JSONDecodeError:\n",
    "        print(\"Failed to decode JSON response from API during token request.\")\n",
    "\n",
    "    return None"
   ],
   "id": "180ab6a3b68203e7",
   "outputs": [],
   "execution_count": 4
  },
  {
   "metadata": {
    "ExecuteTime": {
     "end_time": "2025-10-12T09:58:46.718076Z",
     "start_time": "2025-10-12T09:58:46.472667Z"
    }
   },
   "cell_type": "code",
   "source": [
    "access_token_info = get_access_token(TIKTOK_CLIENT_KEY, TIKTOK_CLIENT_SECRET)\n",
    "access_token = access_token_info[\"access_token\"]\n"
   ],
   "id": "50eb957f7acd712d",
   "outputs": [
    {
     "name": "stdout",
     "output_type": "stream",
     "text": [
      "Attempting to request access token...\n",
      "Access token successfully received.\n"
     ]
    }
   ],
   "execution_count": 5
  },
  {
   "metadata": {},
   "cell_type": "markdown",
   "source": "a## General info",
   "id": "fdfc45b6decd7b2"
  },
  {
   "metadata": {
    "ExecuteTime": {
     "end_time": "2025-10-12T09:58:46.730996Z",
     "start_time": "2025-10-12T09:58:46.724194Z"
    }
   },
   "cell_type": "code",
   "source": [
    "def get_tiktok_user_info(username: str, auth_token: str) -> Optional[Dict[str, Any]]:\n",
    "    \"\"\"\n",
    "    Fetches public profile information for a given TikTok username using the\n",
    "    TikTok Research API v2.\n",
    "\n",
    "    Args:\n",
    "        username: The TikTok username (e.g., 'joe123456').\n",
    "        auth_token: Your valid Bearer Authorization token.\n",
    "\n",
    "    Returns:\n",
    "        A dictionary containing the user's information on success, or None on failure.\n",
    "    \"\"\"\n",
    "    url = 'https://open.tiktokapis.com/v2/research/user/info/'\n",
    "\n",
    "    # Define the fields we want to retrieve\n",
    "    fields_to_query = (\n",
    "        # ',display_name'\n",
    "        # ',bio_description'\n",
    "        # ',avatar_url'\n",
    "        'is_verified'\n",
    "        ',follower_count'\n",
    "        ',following_count'\n",
    "        ',likes_count'\n",
    "        ',video_count'\n",
    "    )\n",
    "\n",
    "    # Headers for authorization and content type\n",
    "    headers = {\n",
    "        'Authorization': f'Bearer {auth_token}',\n",
    "        'Content-Type': 'application/json'\n",
    "    }\n",
    "\n",
    "    # Query parameters (fields list)\n",
    "    params = {\n",
    "        'fields': fields_to_query\n",
    "    }\n",
    "\n",
    "    # JSON request body (username)\n",
    "    data = {\n",
    "        'username': username\n",
    "    }\n",
    "\n",
    "    print(f\"Attempting to fetch data for username: {username}...\")\n",
    "\n",
    "    response = None\n",
    "\n",
    "    try:\n",
    "        # Send the POST request\n",
    "        response = requests.post(\n",
    "            url,\n",
    "            headers=headers,\n",
    "            params=params,\n",
    "            json=data\n",
    "        )\n",
    "\n",
    "        # Check for HTTP errors (4xx or 5xx status codes)\n",
    "        response.raise_for_status()\n",
    "\n",
    "        # Parse the JSON response\n",
    "        response_data = response.json()[\"data\"]\n",
    "\n",
    "        # Check if the user is verified\n",
    "        if not response_data[\"is_verified\"]:\n",
    "            print(\"User is not verified.\")\n",
    "            return None\n",
    "        return response_data\n",
    "\n",
    "    except requests.exceptions.HTTPError as errh:\n",
    "        print(f\"HTTP Error: {errh}\")\n",
    "        if response is not None:\n",
    "            print(f\"API Response Content: {response.text}\")\n",
    "    except requests.exceptions.ConnectionError as errc:\n",
    "        print(f\"Error Connecting: {errc}\")\n",
    "    except requests.exceptions.Timeout as errt:\n",
    "        print(f\"Timeout Error: {errt}\")\n",
    "    except requests.exceptions.RequestException as err:\n",
    "        print(f\"An unexpected request error occurred: {err}\")\n",
    "    except json.JSONDecodeError:\n",
    "        print(\"Failed to decode JSON response from API.\")\n",
    "\n",
    "    return None"
   ],
   "id": "69a4c473b9e3ce17",
   "outputs": [],
   "execution_count": 6
  },
  {
   "metadata": {
    "ExecuteTime": {
     "end_time": "2025-10-12T09:58:47.033605Z",
     "start_time": "2025-10-12T09:58:46.777182Z"
    }
   },
   "cell_type": "code",
   "source": "get_tiktok_user_info(tiktok_account, access_token)",
   "id": "14ce783ac56381c8",
   "outputs": [
    {
     "name": "stdout",
     "output_type": "stream",
     "text": [
      "Attempting to fetch data for username: coldplay...\n"
     ]
    },
    {
     "data": {
      "text/plain": [
       "{'following_count': 37,\n",
       " 'is_verified': True,\n",
       " 'likes_count': 87842758,\n",
       " 'video_count': 391,\n",
       " 'follower_count': 8121541}"
      ]
     },
     "execution_count": 7,
     "metadata": {},
     "output_type": "execute_result"
    }
   ],
   "execution_count": 7
  },
  {
   "metadata": {},
   "cell_type": "markdown",
   "source": "## Get following list",
   "id": "eb2c25ad251181f7"
  },
  {
   "metadata": {
    "ExecuteTime": {
     "end_time": "2025-10-12T09:58:47.053583Z",
     "start_time": "2025-10-12T09:58:47.041102Z"
    }
   },
   "cell_type": "code",
   "source": [
    "def get_all_following_list(username: str, auth_token: str, max_count: int = 100) -> Optional[List[Dict[str, Any]]]:\n",
    "    \"\"\"\n",
    "    Fetches the complete list of users that a given TikTok username is following,\n",
    "    handling pagination automatically.\n",
    "\n",
    "    Args:\n",
    "        username: The TikTok username (e.g., 'joe123456').\n",
    "        auth_token: Your valid Bearer Authorization token.\n",
    "        max_count: The maximum number of users to fetch per API request (max 100).\n",
    "\n",
    "    Returns:\n",
    "        A list of dictionaries, where each dictionary represents a user being followed.\n",
    "    \"\"\"\n",
    "    url = 'https://open.tiktokapis.com/v2/research/user/following/'\n",
    "    all_following = []\n",
    "    cursor = None\n",
    "\n",
    "    # Define the fields we want to retrieve (using the same fields as the info query)\n",
    "    fields_to_query = (\n",
    "        'display_name,bio_description,avatar_url,is_verified,'\n",
    "        'follower_count,following_count,likes_count,video_count'\n",
    "    )\n",
    "\n",
    "    headers = {\n",
    "        'Authorization': f'Bearer {auth_token}',\n",
    "        'Content-Type': 'application/json'\n",
    "    }\n",
    "\n",
    "    # Query parameters (fields list)\n",
    "    params = {\n",
    "        'fields': fields_to_query\n",
    "    }\n",
    "\n",
    "    print(f\"Starting pagination to fetch all users followed by: {username}...\")\n",
    "\n",
    "    response = None\n",
    "\n",
    "    while True:\n",
    "        data = {\n",
    "            'username': username,\n",
    "            'max_count': max_count\n",
    "        }\n",
    "\n",
    "        if cursor:\n",
    "            data['cursor'] = cursor\n",
    "\n",
    "        try:\n",
    "            # Send the POST request\n",
    "            response = requests.post(\n",
    "                url,\n",
    "                headers=headers,\n",
    "                params=params,\n",
    "                json=data,\n",
    "                timeout=10\n",
    "            )\n",
    "\n",
    "            response.raise_for_status()\n",
    "            response_data = response.json()\n",
    "            data_block = response_data.get('data', {})\n",
    "\n",
    "            # Check for API-level errors\n",
    "            if response_data.get('error', {}) and response_data['error'].get('code') != \"ok\":\n",
    "                print(f\"API Error in response: {response_data.get('error')}\")\n",
    "                # Print specific error detail if available\n",
    "                if response_data.get('error', {}).get('message'):\n",
    "                    print(f\"Error Message: {response_data['error']['message']}\")\n",
    "                return None\n",
    "\n",
    "            # FIX: Changed key from 'users' to 'user_following' based on provided JSON structure\n",
    "            users = data_block.get('user_following', [])\n",
    "            all_following.extend(map(lambda user: user['username'], users))\n",
    "\n",
    "            has_more = data_block.get('has_more', False)\n",
    "            cursor = data_block.get('cursor')\n",
    "\n",
    "            print(f\"Fetched {len(users)} users in this page. Total collected: {len(all_following)}. Has more: {has_more}\")\n",
    "\n",
    "            if not has_more or not cursor or cursor == -1: # Added check for cursor being -1\n",
    "                break\n",
    "\n",
    "        except requests.exceptions.HTTPError as errh:\n",
    "            print(f\"HTTP Error during following list fetch: {errh}\")\n",
    "            if response is not None:\n",
    "                print(f\"API Response Content: {response.text}\")\n",
    "            return None\n",
    "        except requests.exceptions.RequestException as err:\n",
    "            print(f\"An unexpected request error occurred: {err}\")\n",
    "            return None\n",
    "        except json.JSONDecodeError:\n",
    "            print(\"Failed to decode JSON response from API.\")\n",
    "            return None\n",
    "\n",
    "    print(f\"Finished fetching. Total following users found: {len(all_following)}\")\n",
    "    return all_following"
   ],
   "id": "83fb0396f5b4f4f4",
   "outputs": [],
   "execution_count": 8
  },
  {
   "metadata": {
    "ExecuteTime": {
     "end_time": "2025-10-12T09:58:47.727365Z",
     "start_time": "2025-10-12T09:58:47.088907Z"
    }
   },
   "cell_type": "code",
   "source": "get_all_following_list(tiktok_account, access_token)",
   "id": "bf33ca9d6efe9bdb",
   "outputs": [
    {
     "name": "stdout",
     "output_type": "stream",
     "text": [
      "Starting pagination to fetch all users followed by: coldplay...\n",
      "Fetched 36 users in this page. Total collected: 36. Has more: False\n",
      "Finished fetching. Total following users found: 36\n"
     ]
    },
    {
     "data": {
      "text/plain": [
       "['igaswiatek_official',\n",
       " 'beargrylls',\n",
       " 'akashasky',\n",
       " 'twice_tiktok_official',\n",
       " 'willstevoe',\n",
       " 'tinistoessel',\n",
       " 'paralympics',\n",
       " 'pokemonnewstv',\n",
       " 'divinelyrcs',\n",
       " 'c4news',\n",
       " 'qvc',\n",
       " 'legitpat',\n",
       " 'sum41',\n",
       " 'pattylat0',\n",
       " 'ayrastarr',\n",
       " 'roses_are_rosie',\n",
       " 'mr.mr.muscle',\n",
       " 'itsyujen',\n",
       " 'annaleemedia',\n",
       " 'selenagomez',\n",
       " 'lizzo',\n",
       " 'shakira',\n",
       " 'mariahdez19',\n",
       " 'theethanfields',\n",
       " 'imkevinhart',\n",
       " 'red',\n",
       " 'glastonbury',\n",
       " '__mariayakovleva__',\n",
       " 'alessiasmusic',\n",
       " 'johnlegend',\n",
       " 'progresspop',\n",
       " 'therock',\n",
       " 'callherdaddy',\n",
       " 'oxfam',\n",
       " 'tovelo',\n",
       " 'dualipaofficial']"
      ]
     },
     "execution_count": 9,
     "metadata": {},
     "output_type": "execute_result"
    }
   ],
   "execution_count": 9
  }
 ],
 "metadata": {
  "kernelspec": {
   "display_name": "Python 3",
   "language": "python",
   "name": "python3"
  },
  "language_info": {
   "codemirror_mode": {
    "name": "ipython",
    "version": 2
   },
   "file_extension": ".py",
   "mimetype": "text/x-python",
   "name": "python",
   "nbconvert_exporter": "python",
   "pygments_lexer": "ipython2",
   "version": "2.7.6"
  }
 },
 "nbformat": 4,
 "nbformat_minor": 5
}
