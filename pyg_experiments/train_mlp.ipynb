{
 "cells": [
  {
   "cell_type": "code",
   "execution_count": 1,
   "metadata": {},
   "outputs": [],
   "source": [
    "import torch\n",
    "import torch.nn as nn\n",
    "import torch.optim as optim\n",
    "from torch.utils.data import TensorDataset, random_split\n",
    "import tqdm\n",
    "import pandas as pd\n",
    "import copy\n",
    "import numpy as np\n",
    "import multiprocessing as mp\n",
    "from sklearn.metrics import roc_auc_score, confusion_matrix"
   ]
  },
  {
   "cell_type": "code",
   "execution_count": 2,
   "metadata": {},
   "outputs": [
    {
     "name": "stdout",
     "output_type": "stream",
     "text": [
      "Device: 'cuda'\n"
     ]
    }
   ],
   "source": [
    "device = torch.device('cuda' if torch.cuda.is_available() else 'cpu')\n",
    "print(f\"Device: '{device}'\")"
   ]
  },
  {
   "cell_type": "code",
   "execution_count": 3,
   "metadata": {},
   "outputs": [
    {
     "name": "stdout",
     "output_type": "stream",
     "text": [
      "x_train shape: torch.Size([631620, 85])\n",
      "x_test shape: torch.Size([282120, 85])\n",
      "y_train shape: torch.Size([631620])\n",
      "y_test shape: torch.Size([282120])\n"
     ]
    },
    {
     "name": "stderr",
     "output_type": "stream",
     "text": [
      "/tmp/ipykernel_197968/3772927696.py:5: FutureWarning: You are using `torch.load` with `weights_only=False` (the current default value), which uses the default pickle module implicitly. It is possible to construct malicious pickle data which will execute arbitrary code during unpickling (See https://github.com/pytorch/pytorch/blob/main/SECURITY.md#untrusted-models for more details). In a future release, the default value for `weights_only` will be flipped to `True`. This limits the functions that could be executed during unpickling. Arbitrary objects will no longer be allowed to be loaded via this mode unless they are explicitly allowlisted by the user via `torch.serialization.add_safe_globals`. We recommend you start setting `weights_only=True` for any use case where you don't have full control of the loaded file. Please open an issue on GitHub for any issues related to this experimental feature.\n",
      "  x_train = torch.load(f\"ds/mlp{year}{month}{perc}x_train.pt\")\n",
      "/tmp/ipykernel_197968/3772927696.py:6: FutureWarning: You are using `torch.load` with `weights_only=False` (the current default value), which uses the default pickle module implicitly. It is possible to construct malicious pickle data which will execute arbitrary code during unpickling (See https://github.com/pytorch/pytorch/blob/main/SECURITY.md#untrusted-models for more details). In a future release, the default value for `weights_only` will be flipped to `True`. This limits the functions that could be executed during unpickling. Arbitrary objects will no longer be allowed to be loaded via this mode unless they are explicitly allowlisted by the user via `torch.serialization.add_safe_globals`. We recommend you start setting `weights_only=True` for any use case where you don't have full control of the loaded file. Please open an issue on GitHub for any issues related to this experimental feature.\n",
      "  x_test = torch.load(f\"ds/mlp{year}{month}{perc}x_test.pt\")\n",
      "/tmp/ipykernel_197968/3772927696.py:7: FutureWarning: You are using `torch.load` with `weights_only=False` (the current default value), which uses the default pickle module implicitly. It is possible to construct malicious pickle data which will execute arbitrary code during unpickling (See https://github.com/pytorch/pytorch/blob/main/SECURITY.md#untrusted-models for more details). In a future release, the default value for `weights_only` will be flipped to `True`. This limits the functions that could be executed during unpickling. Arbitrary objects will no longer be allowed to be loaded via this mode unless they are explicitly allowlisted by the user via `torch.serialization.add_safe_globals`. We recommend you start setting `weights_only=True` for any use case where you don't have full control of the loaded file. Please open an issue on GitHub for any issues related to this experimental feature.\n",
      "  y_train = torch.load(f\"ds/mlp{year}{month}{perc}y_train.pt\")\n",
      "/tmp/ipykernel_197968/3772927696.py:8: FutureWarning: You are using `torch.load` with `weights_only=False` (the current default value), which uses the default pickle module implicitly. It is possible to construct malicious pickle data which will execute arbitrary code during unpickling (See https://github.com/pytorch/pytorch/blob/main/SECURITY.md#untrusted-models for more details). In a future release, the default value for `weights_only` will be flipped to `True`. This limits the functions that could be executed during unpickling. Arbitrary objects will no longer be allowed to be loaded via this mode unless they are explicitly allowlisted by the user via `torch.serialization.add_safe_globals`. We recommend you start setting `weights_only=True` for any use case where you don't have full control of the loaded file. Please open an issue on GitHub for any issues related to this experimental feature.\n",
      "  y_test = torch.load(f\"ds/mlp{year}{month}{perc}y_test.pt\")\n"
     ]
    }
   ],
   "source": [
    "year = 2019\n",
    "month = 11\n",
    "perc = 0.9\n",
    "\n",
    "x_train = torch.load(f\"ds/mlp{year}{month}{perc}x_train.pt\")\n",
    "x_test = torch.load(f\"ds/mlp{year}{month}{perc}x_test.pt\")\n",
    "y_train = torch.load(f\"ds/mlp{year}{month}{perc}y_train.pt\")\n",
    "y_test = torch.load(f\"ds/mlp{year}{month}{perc}y_test.pt\")\n",
    "\n",
    "print(f\"x_train shape:\", x_train.shape)\n",
    "print(f\"x_test shape:\", x_test.shape)\n",
    "print(f\"y_train shape:\", y_train.shape)\n",
    "print(f\"y_test shape:\", y_test.shape)"
   ]
  },
  {
   "cell_type": "code",
   "execution_count": 4,
   "metadata": {},
   "outputs": [],
   "source": [
    "def apply_normalization(x_train, x_test):\n",
    "    mean = torch.mean(x_train, dim=0)\n",
    "    std = torch.std(x_train, dim=0)\n",
    "\n",
    "    x_train_normalized = (x_train - mean) / std\n",
    "    x_test_normalized = (x_test - mean) / std\n",
    "\n",
    "    return x_train_normalized, x_test_normalized"
   ]
  },
  {
   "cell_type": "code",
   "execution_count": 5,
   "metadata": {},
   "outputs": [],
   "source": [
    "def apply_pca_explained_variance_normalized(x_train, x_test, target_variance=0.9):\n",
    "    # Calculate mean and standard deviation from training data\n",
    "    x_train_normalized, x_test_normalized = apply_normalization(x_train, x_test)\n",
    "\n",
    "    # Perform PCA with all components initially\n",
    "    U, S, V = torch.pca_lowrank(x_train_normalized)\n",
    "\n",
    "    # Calculate explained variance ratio\n",
    "    explained_variance_ratio = S**2 / torch.sum(S**2)\n",
    "    cumulative_variance_ratio = torch.cumsum(explained_variance_ratio, dim=0)\n",
    "\n",
    "    # Find the number of components to explain target variance\n",
    "    n_components = torch.argmax((cumulative_variance_ratio >= target_variance).int()) + 1\n",
    "\n",
    "    # Project the normalized data onto the selected components\n",
    "    x_train_pca = torch.matmul(x_train_normalized, V[:, :n_components])\n",
    "    x_test_pca = torch.matmul(x_test_normalized, V[:, :n_components])\n",
    "\n",
    "    return x_train_pca, x_test_pca, n_components"
   ]
  },
  {
   "cell_type": "code",
   "execution_count": null,
   "metadata": {},
   "outputs": [],
   "source": [
    "apply_norm = False\n",
    "\n",
    "if apply_norm:\n",
    "    index_mask = [0, 1, 2, 8, *[i for i in range(15, 42)]]\n",
    "    index_mask += [i + 42 for i in index_mask] + [84]\n",
    "    keep_indexes = [i for i in range(x_train.shape[1]) if i not in index_mask]\n",
    "    x_train_norm, x_test_norm = apply_normalization(x_train[:, index_mask], x_test[:, index_mask])\n",
    "\n",
    "    new_x_train = torch.hstack([x_train_norm, x_train[:, keep_indexes]])\n",
    "    new_x_test = torch.hstack([x_test_norm, x_test[:, keep_indexes]])\n",
    "\n",
    "    x_train = new_x_train\n",
    "    x_test = new_x_test\n",
    "\n",
    "    print(new_x_train.shape)\n",
    "    print(new_x_test.shape)"
   ]
  },
  {
   "cell_type": "code",
   "execution_count": 7,
   "metadata": {},
   "outputs": [
    {
     "name": "stdout",
     "output_type": "stream",
     "text": [
      "Number of components used: 6\n",
      "torch.Size([631620, 28])\n",
      "torch.Size([282120, 28])\n"
     ]
    }
   ],
   "source": [
    "apply_PCA = True\n",
    "\n",
    "if apply_PCA:\n",
    "    index_mask = [0, 1, 2, 8, *[i for i in range(15, 42)]]\n",
    "    index_mask += [i + 42 for i in index_mask] + [84]\n",
    "    keep_indexes = [i for i in range(x_train.shape[1]) if i not in index_mask]\n",
    "    x_train_pca, x_test_pca, num_components_used = apply_pca_explained_variance_normalized(x_train[:, index_mask], x_test[:, index_mask], target_variance=0.9)\n",
    "\n",
    "    new_x_train = torch.hstack([x_train_pca, x_train[:, keep_indexes]])\n",
    "    new_x_test = torch.hstack([x_test_pca, x_test[:, keep_indexes]])\n",
    "\n",
    "    x_train = new_x_train\n",
    "    x_test = new_x_test\n",
    "\n",
    "    print(f\"Number of components used: {num_components_used}\")\n",
    "    print(new_x_train.shape)\n",
    "    print(new_x_test.shape)"
   ]
  },
  {
   "cell_type": "code",
   "execution_count": 8,
   "metadata": {},
   "outputs": [
    {
     "name": "stdout",
     "output_type": "stream",
     "text": [
      "Latest epoch: 20\n",
      "Is trained? False\n"
     ]
    }
   ],
   "source": [
    "results_df = pd.read_csv(\"results.csv\", dtype={\n",
    "    \"model\": str,\n",
    "    \"year\": int,\n",
    "    \"month\": int,\n",
    "    \"perc\": float,\n",
    "    \"epoch\": int,\n",
    "    \"train_loss\": float,\n",
    "    \"val_loss\": float,\n",
    "    \"acc\": float,\n",
    "    \"prec\": float,\n",
    "    \"rec\": float,\n",
    "    \"f1\": float,\n",
    "    \"auc\": float,\n",
    "    \"tp\": int,\n",
    "    \"fp\": int,\n",
    "    \"fn\": int,\n",
    "    \"tn\": int,\n",
    "    \"best_threshold\": float,\n",
    "    \"done\": bool\n",
    "})\n",
    "\n",
    "filtered_df = results_df[\n",
    "    (results_df[\"model\"] == \"minimlppca\") &\n",
    "    (results_df[\"year\"] == year) &\n",
    "    (results_df[\"month\"] == month) &\n",
    "    (results_df[\"perc\"] == perc)\n",
    "]\n",
    "\n",
    "if filtered_df.empty:\n",
    "    latest_epoch = 0\n",
    "    is_trained = False\n",
    "else:\n",
    "    latest_epoch = filtered_df[\"epoch\"].max()\n",
    "    is_trained = filtered_df[\"done\"].any()\n",
    "\n",
    "print(\"Latest epoch:\", latest_epoch)\n",
    "print(\"Is trained?\", is_trained)"
   ]
  },
  {
   "cell_type": "code",
   "execution_count": 9,
   "metadata": {},
   "outputs": [],
   "source": [
    "input_size = x_train.shape[1]"
   ]
  },
  {
   "cell_type": "code",
   "execution_count": 10,
   "metadata": {},
   "outputs": [],
   "source": [
    "train_dataset = TensorDataset(x_train, y_train)\n",
    "test_dataset = TensorDataset(x_test, y_test)"
   ]
  },
  {
   "cell_type": "code",
   "execution_count": 11,
   "metadata": {},
   "outputs": [],
   "source": [
    "train_size = int(0.8 * x_train.shape[0])\n",
    "val_size = x_train.shape[0] - train_size\n",
    "train_dataset, val_dataset = random_split(train_dataset, [train_size, val_size])"
   ]
  },
  {
   "cell_type": "code",
   "execution_count": 12,
   "metadata": {},
   "outputs": [],
   "source": [
    "train_loader = torch.utils.data.DataLoader(train_dataset, batch_size=128, shuffle=True, num_workers=10, pin_memory=True)\n",
    "val_loader = torch.utils.data.DataLoader(val_dataset, batch_size=128, num_workers=10, pin_memory=True)\n",
    "test_loader = torch.utils.data.DataLoader(test_dataset, batch_size=128, num_workers=10, pin_memory=True)"
   ]
  },
  {
   "cell_type": "code",
   "execution_count": 13,
   "metadata": {},
   "outputs": [],
   "source": [
    "class MLP(nn.Module):\n",
    "    def __init__(self, input_size: int):\n",
    "        super(MLP, self).__init__()\n",
    "        # self.layers = nn.Sequential(\n",
    "        #     nn.Linear(input_size, 256),\n",
    "        #     nn.ReLU(),\n",
    "        #     nn.Linear(256, 256),\n",
    "        #     nn.ReLU(),\n",
    "        #     nn.Linear(256, 256),\n",
    "        #     nn.ReLU(),\n",
    "        #     nn.Linear(256, 1)\n",
    "        # )\n",
    "        self.layers = nn.Sequential(\n",
    "            nn.Linear(input_size, 128),\n",
    "            nn.ReLU(),\n",
    "            nn.Linear(128, 1),\n",
    "        )\n",
    "\n",
    "    def forward(self, x):\n",
    "        return self.layers(x)"
   ]
  },
  {
   "cell_type": "code",
   "execution_count": 14,
   "metadata": {},
   "outputs": [],
   "source": [
    "def calculate_metrics(threshold, all_probs, all_labels):\n",
    "    preds_binary = (all_probs > threshold).astype(int)\n",
    "    cm = confusion_matrix(all_labels, preds_binary)\n",
    "    tp = cm[1, 1]\n",
    "    fp = cm[0, 1]\n",
    "    fn = cm[1, 0]\n",
    "    tn = cm[0, 0]\n",
    "    precision = 0 if tp == 0 else tp / (tp + fp)\n",
    "    recall = 0 if tp == 0 else tp / (tp + fn)\n",
    "    f1 = 0 if precision * recall == 0 else 2 * precision * recall / (precision + recall)\n",
    "    return threshold, f1"
   ]
  },
  {
   "cell_type": "code",
   "execution_count": 15,
   "metadata": {},
   "outputs": [],
   "source": [
    "def train(model, train_loader, val_loader, optimizer, criterion, device, num_epochs, results_df, patience=5):\n",
    "    best_threshold = 0.0\n",
    "    best_val_f1 = 0.0\n",
    "    epochs_no_improve = 0\n",
    "    best_model_state = None\n",
    "    train_losses = list()\n",
    "    val_losses = list()\n",
    "    best_epoch = 0\n",
    "\n",
    "    for epoch in range(num_epochs):\n",
    "        print(f\"Epoch {epoch + 1}/{num_epochs}\")\n",
    "        model.train()  # Set model to training mode\n",
    "        train_loss = 0.0\n",
    "        for inputs, targets in tqdm.tqdm(train_loader):\n",
    "            inputs = inputs.to(device)\n",
    "            targets = targets.to(device)\n",
    "\n",
    "            optimizer.zero_grad()  # Zero the gradients\n",
    "            outputs = model(inputs).squeeze(1)\n",
    "            loss = criterion(outputs, targets)\n",
    "            loss.backward()  # Backpropagate the loss\n",
    "            optimizer.step()  # Update the weights\n",
    "\n",
    "            train_loss += loss.item()\n",
    "\n",
    "        train_loss /= len(train_loader)\n",
    "        print(\"Train loss:\", train_loss)\n",
    "    \n",
    "        # Validation\n",
    "        model.eval()\n",
    "        val_loss = 0.0\n",
    "        all_labels = []\n",
    "        all_probs = []  # Store probabilities for ROC-AUC\n",
    "        print(\"Validating...\")\n",
    "        with torch.no_grad():\n",
    "            for inputs, targets in tqdm.tqdm(val_loader):\n",
    "                inputs = inputs.to(device)\n",
    "                targets = targets.to(device)\n",
    "\n",
    "                outputs = model(inputs).squeeze(1)\n",
    "                loss = criterion(outputs, targets)\n",
    "                val_loss += loss.item()\n",
    "\n",
    "                # Get predictions and probabilities (assuming binary classification with sigmoid output)\n",
    "                probs = torch.sigmoid(outputs).cpu().numpy()  # Apply sigmoid if needed\n",
    "                labels = targets.cpu().numpy()\n",
    "\n",
    "                all_labels.extend(labels)\n",
    "                all_probs.extend(probs.flatten())\n",
    "\n",
    "        val_loss /= len(val_loader)\n",
    "\n",
    "        # Find threshold for predictions\n",
    "        print(\"Looking for threshold\")\n",
    "\n",
    "        with mp.Pool(10) as pool:\n",
    "            results = pool.starmap(\n",
    "                calculate_metrics, \n",
    "                [\n",
    "                    (threshold, all_probs, all_labels)\n",
    "                    for threshold in np.arange(0.05, 0.96, 0.01)\n",
    "                ]\n",
    "            )\n",
    "\n",
    "        best_threshold_epoch = 0\n",
    "        best_f1_epoch = -1\n",
    "        for threshold, f1 in results:\n",
    "            if f1 > best_f1_epoch:\n",
    "                best_f1_epoch = f1\n",
    "                best_threshold_epoch = threshold\n",
    "\n",
    "        print(f\"Best threshold: {best_threshold_epoch}\")\n",
    "        all_preds = (all_probs > best_threshold_epoch).astype(int)\n",
    "\n",
    "        cm = confusion_matrix(all_labels, all_preds)\n",
    "        tp = cm[1, 1]\n",
    "        fp = cm[0, 1]\n",
    "        fn = cm[1, 0]\n",
    "        tn = cm[0, 0]\n",
    "\n",
    "        accuracy = (tp + tn) / (tp + fp + fn + tn) if (tp + fp + fn + tn) > 0 else 0.0 # Handle division by zero\n",
    "        precision = tp / (tp + fp) if (tp + fp) > 0 else 0.0\n",
    "        recall = tp / (tp + fn) if (tp + fn) > 0 else 0.0\n",
    "        f1 = 2 * precision * recall / (precision + recall) if (precision + recall) > 0 else 0.0\n",
    "        roc_auc = roc_auc_score(all_labels, all_probs)\n",
    "\n",
    "        print(f\"Validation Metrics - Epoch {epoch+1}/{num_epochs}:\")\n",
    "        print(f\"Loss      :{val_loss:.4f}\")\n",
    "        print(f\"Accuracy:  {accuracy:.4f}\")\n",
    "        print(f\"Precision: {precision:.4f}\")\n",
    "        print(f\"Recall:    {recall:.4f}\")\n",
    "        print(f\"F1-score:  {f1:.4f}\")\n",
    "        print(f\"ROC-AUC:   {roc_auc:.4f}\")\n",
    "        print(f\"Confusion Matrix:\\n{tp} {fn}\\n{fp} {tn}\")\n",
    "\n",
    "        new_row = pd.DataFrame(\n",
    "            {\n",
    "                \"model\": [\"minimlppca\"],\n",
    "                \"year\": [year],\n",
    "                \"month\": [month],\n",
    "                \"perc\": [perc],\n",
    "                \"epoch\": [latest_epoch + epoch + 1],\n",
    "                \"train_loss\": [train_loss],\n",
    "                \"val_loss\": [val_loss],\n",
    "                \"acc\": [accuracy],\n",
    "                \"prec\": [precision],\n",
    "                \"rec\": [recall],\n",
    "                \"f1\": [f1],\n",
    "                \"auc\": [roc_auc],\n",
    "                \"tp\": [tp],\n",
    "                \"fp\": [fp],\n",
    "                \"fn\": [fn],\n",
    "                \"tn\": [tn],\n",
    "                \"best_threshold\": [best_threshold_epoch],\n",
    "                \"done\": [False]\n",
    "            }\n",
    "        )\n",
    "        results_df = pd.concat([results_df, new_row], ignore_index=True)\n",
    "        results_df.to_csv(\"results.csv\", index=False)\n",
    "\n",
    "        torch.save(model.state_dict(), f\"./model_minimlppca_{year}_{month}_{perc}_{latest_epoch + epoch + 1}.pth\")\n",
    "\n",
    "        if f1 > best_val_f1:\n",
    "            best_val_f1 = f1\n",
    "            best_threshold = best_threshold_epoch\n",
    "            epochs_no_improve = 0\n",
    "            best_model_state = copy.deepcopy(model.state_dict())\n",
    "            best_epoch = latest_epoch + epoch + 1\n",
    "        else:\n",
    "            epochs_no_improve += 1\n",
    "            if epochs_no_improve == patience:\n",
    "                print(f\"Early stopping!!!\")\n",
    "                print(f\"Early stopping!!!\")\n",
    "                print(f\"Early stopping!!!\")\n",
    "                print(\"Best epoch:\", best_epoch)\n",
    "                model.load_state_dict(best_model_state)\n",
    "                break\n",
    "    \n",
    "    return best_threshold\n"
   ]
  },
  {
   "cell_type": "code",
   "execution_count": 16,
   "metadata": {},
   "outputs": [],
   "source": [
    "def test(model, test_loader, device, criterion, best_threshold):\n",
    "    model.eval()\n",
    "    test_loss = 0.0\n",
    "    all_labels = []\n",
    "    all_preds = []\n",
    "    all_probs = []\n",
    "    with torch.no_grad():\n",
    "        for inputs, targets in tqdm.tqdm(test_loader):\n",
    "            inputs = inputs.to(device)\n",
    "            targets = targets.to(device)\n",
    "\n",
    "            outputs = model(inputs).squeeze(1)\n",
    "            loss = criterion(outputs, targets)  # Use criterion here\n",
    "            test_loss += loss.item()\n",
    "\n",
    "            probs = torch.sigmoid(outputs).cpu().numpy()  # Apply sigmoid if needed\n",
    "            preds = (probs > best_threshold).astype(int)  # Convert probabilities to predictions\n",
    "            labels = targets.cpu().numpy()\n",
    "\n",
    "            all_labels.extend(labels)\n",
    "            all_preds.extend(preds.flatten())\n",
    "            all_probs.extend(probs.flatten())\n",
    "\n",
    "    test_loss /= len(test_loader)\n",
    "\n",
    "    cm = confusion_matrix(all_labels, all_preds)\n",
    "    tp = cm[1, 1]\n",
    "    fp = cm[0, 1]\n",
    "    fn = cm[1, 0]\n",
    "    tn = cm[0, 0]\n",
    "\n",
    "    accuracy = (tp + tn) / (tp + fp + fn + tn) if (tp + fp + fn + tn) > 0 else 0.0\n",
    "    precision = tp / (tp + fp) if (tp + fp) > 0 else 0.0\n",
    "    recall = tp / (tp + fn) if (tp + fn) > 0 else 0.0\n",
    "    f1 = 2 * precision * recall / (precision + recall) if (precision + recall) > 0 else 0.0\n",
    "    try:\n",
    "      roc_auc = roc_auc_score(all_labels, all_probs)\n",
    "    except ValueError:\n",
    "        roc_auc = 0.0\n",
    "\n",
    "    print(f\"Test Metrics:\")\n",
    "    print(f\"Accuracy:  {accuracy:.4f}\")\n",
    "    print(f\"Precision: {precision:.4f}\")\n",
    "    print(f\"Recall:    {recall:.4f}\")\n",
    "    print(f\"F1-score:  {f1:.4f}\")\n",
    "    print(f\"ROC-AUC:   {roc_auc:.4f}\")\n",
    "    print(f\"Confusion Matrix:\\n{tp} {fn}\\n{fp} {tn}\")\n",
    "    print(f\"Test Loss: {test_loss:.4f}\") # Print the loss as well\n"
   ]
  },
  {
   "cell_type": "code",
   "execution_count": 17,
   "metadata": {},
   "outputs": [
    {
     "name": "stdout",
     "output_type": "stream",
     "text": [
      "Epoch 1/1000\n"
     ]
    },
    {
     "name": "stderr",
     "output_type": "stream",
     "text": [
      "100%|██████████| 3948/3948 [00:05<00:00, 784.22it/s]\n"
     ]
    },
    {
     "name": "stdout",
     "output_type": "stream",
     "text": [
      "Train loss: 0.3923774455252208\n",
      "Validating...\n"
     ]
    },
    {
     "name": "stderr",
     "output_type": "stream",
     "text": [
      "100%|██████████| 987/987 [00:01<00:00, 902.29it/s] "
     ]
    },
    {
     "name": "stdout",
     "output_type": "stream",
     "text": [
      "Looking for threshold\n"
     ]
    },
    {
     "name": "stderr",
     "output_type": "stream",
     "text": [
      "\n"
     ]
    },
    {
     "name": "stdout",
     "output_type": "stream",
     "text": [
      "Best threshold: 0.45000000000000007\n",
      "Validation Metrics - Epoch 1/1000:\n",
      "Loss      :0.3432\n",
      "Accuracy:  0.8468\n",
      "Precision: 0.8360\n",
      "Recall:    0.8633\n",
      "F1-score:  0.8495\n",
      "ROC-AUC:   0.9268\n",
      "Confusion Matrix:\n",
      "54617 8646\n",
      "10711 52350\n",
      "Epoch 2/1000\n"
     ]
    },
    {
     "name": "stderr",
     "output_type": "stream",
     "text": [
      "100%|██████████| 3948/3948 [00:04<00:00, 822.39it/s]\n"
     ]
    },
    {
     "name": "stdout",
     "output_type": "stream",
     "text": [
      "Train loss: 0.33690401085151367\n",
      "Validating...\n"
     ]
    },
    {
     "name": "stderr",
     "output_type": "stream",
     "text": [
      "100%|██████████| 987/987 [00:01<00:00, 915.30it/s] "
     ]
    },
    {
     "name": "stdout",
     "output_type": "stream",
     "text": [
      "Looking for threshold\n"
     ]
    },
    {
     "name": "stderr",
     "output_type": "stream",
     "text": [
      "\n"
     ]
    },
    {
     "name": "stdout",
     "output_type": "stream",
     "text": [
      "Best threshold: 0.44000000000000006\n",
      "Validation Metrics - Epoch 2/1000:\n",
      "Loss      :0.3298\n",
      "Accuracy:  0.8538\n",
      "Precision: 0.8421\n",
      "Recall:    0.8716\n",
      "F1-score:  0.8566\n",
      "ROC-AUC:   0.9324\n",
      "Confusion Matrix:\n",
      "55140 8123\n",
      "10340 52721\n",
      "Epoch 3/1000\n"
     ]
    },
    {
     "name": "stderr",
     "output_type": "stream",
     "text": [
      "100%|██████████| 3948/3948 [00:04<00:00, 809.69it/s]\n"
     ]
    },
    {
     "name": "stdout",
     "output_type": "stream",
     "text": [
      "Train loss: 0.3282670692183085\n",
      "Validating...\n"
     ]
    },
    {
     "name": "stderr",
     "output_type": "stream",
     "text": [
      "100%|██████████| 987/987 [00:01<00:00, 941.47it/s] "
     ]
    },
    {
     "name": "stdout",
     "output_type": "stream",
     "text": [
      "Looking for threshold\n"
     ]
    },
    {
     "name": "stderr",
     "output_type": "stream",
     "text": [
      "\n"
     ]
    },
    {
     "name": "stdout",
     "output_type": "stream",
     "text": [
      "Best threshold: 0.42000000000000004\n",
      "Validation Metrics - Epoch 3/1000:\n",
      "Loss      :0.3247\n",
      "Accuracy:  0.8565\n",
      "Precision: 0.8437\n",
      "Recall:    0.8756\n",
      "F1-score:  0.8594\n",
      "ROC-AUC:   0.9345\n",
      "Confusion Matrix:\n",
      "55392 7871\n",
      "10259 52802\n",
      "Epoch 4/1000\n"
     ]
    },
    {
     "name": "stderr",
     "output_type": "stream",
     "text": [
      "100%|██████████| 3948/3948 [00:04<00:00, 833.30it/s]\n"
     ]
    },
    {
     "name": "stdout",
     "output_type": "stream",
     "text": [
      "Train loss: 0.3240999711230171\n",
      "Validating...\n"
     ]
    },
    {
     "name": "stderr",
     "output_type": "stream",
     "text": [
      "100%|██████████| 987/987 [00:01<00:00, 922.69it/s] "
     ]
    },
    {
     "name": "stdout",
     "output_type": "stream",
     "text": [
      "Looking for threshold\n"
     ]
    },
    {
     "name": "stderr",
     "output_type": "stream",
     "text": [
      "\n"
     ]
    },
    {
     "name": "stdout",
     "output_type": "stream",
     "text": [
      "Best threshold: 0.43000000000000005\n",
      "Validation Metrics - Epoch 4/1000:\n",
      "Loss      :0.3215\n",
      "Accuracy:  0.8568\n",
      "Precision: 0.8395\n",
      "Recall:    0.8829\n",
      "F1-score:  0.8606\n",
      "ROC-AUC:   0.9358\n",
      "Confusion Matrix:\n",
      "55854 7409\n",
      "10678 52383\n",
      "Epoch 5/1000\n"
     ]
    },
    {
     "name": "stderr",
     "output_type": "stream",
     "text": [
      "100%|██████████| 3948/3948 [00:04<00:00, 819.54it/s]\n"
     ]
    },
    {
     "name": "stdout",
     "output_type": "stream",
     "text": [
      "Train loss: 0.32131303745683326\n",
      "Validating...\n"
     ]
    },
    {
     "name": "stderr",
     "output_type": "stream",
     "text": [
      "100%|██████████| 987/987 [00:01<00:00, 943.52it/s] "
     ]
    },
    {
     "name": "stdout",
     "output_type": "stream",
     "text": [
      "Looking for threshold\n"
     ]
    },
    {
     "name": "stderr",
     "output_type": "stream",
     "text": [
      "\n"
     ]
    },
    {
     "name": "stdout",
     "output_type": "stream",
     "text": [
      "Best threshold: 0.42000000000000004\n",
      "Validation Metrics - Epoch 5/1000:\n",
      "Loss      :0.3192\n",
      "Accuracy:  0.8584\n",
      "Precision: 0.8440\n",
      "Recall:    0.8800\n",
      "F1-score:  0.8616\n",
      "ROC-AUC:   0.9366\n",
      "Confusion Matrix:\n",
      "55673 7590\n",
      "10292 52769\n",
      "Epoch 6/1000\n"
     ]
    },
    {
     "name": "stderr",
     "output_type": "stream",
     "text": [
      "100%|██████████| 3948/3948 [00:04<00:00, 825.78it/s]\n"
     ]
    },
    {
     "name": "stdout",
     "output_type": "stream",
     "text": [
      "Train loss: 0.31917107852200366\n",
      "Validating...\n"
     ]
    },
    {
     "name": "stderr",
     "output_type": "stream",
     "text": [
      "100%|██████████| 987/987 [00:01<00:00, 911.06it/s] "
     ]
    },
    {
     "name": "stdout",
     "output_type": "stream",
     "text": [
      "Looking for threshold\n"
     ]
    },
    {
     "name": "stderr",
     "output_type": "stream",
     "text": [
      "\n"
     ]
    },
    {
     "name": "stdout",
     "output_type": "stream",
     "text": [
      "Best threshold: 0.42000000000000004\n",
      "Validation Metrics - Epoch 6/1000:\n",
      "Loss      :0.3173\n",
      "Accuracy:  0.8592\n",
      "Precision: 0.8438\n",
      "Recall:    0.8822\n",
      "F1-score:  0.8626\n",
      "ROC-AUC:   0.9373\n",
      "Confusion Matrix:\n",
      "55812 7451\n",
      "10333 52728\n",
      "Epoch 7/1000\n"
     ]
    },
    {
     "name": "stderr",
     "output_type": "stream",
     "text": [
      "100%|██████████| 3948/3948 [00:04<00:00, 833.76it/s]\n"
     ]
    },
    {
     "name": "stdout",
     "output_type": "stream",
     "text": [
      "Train loss: 0.3173643898335875\n",
      "Validating...\n"
     ]
    },
    {
     "name": "stderr",
     "output_type": "stream",
     "text": [
      "100%|██████████| 987/987 [00:01<00:00, 892.77it/s] "
     ]
    },
    {
     "name": "stdout",
     "output_type": "stream",
     "text": [
      "Looking for threshold\n"
     ]
    },
    {
     "name": "stderr",
     "output_type": "stream",
     "text": [
      "\n"
     ]
    },
    {
     "name": "stdout",
     "output_type": "stream",
     "text": [
      "Best threshold: 0.42000000000000004\n",
      "Validation Metrics - Epoch 7/1000:\n",
      "Loss      :0.3157\n",
      "Accuracy:  0.8599\n",
      "Precision: 0.8436\n",
      "Recall:    0.8843\n",
      "F1-score:  0.8634\n",
      "ROC-AUC:   0.9379\n",
      "Confusion Matrix:\n",
      "55941 7322\n",
      "10373 52688\n",
      "Epoch 8/1000\n"
     ]
    },
    {
     "name": "stderr",
     "output_type": "stream",
     "text": [
      "100%|██████████| 3948/3948 [00:04<00:00, 828.38it/s]\n"
     ]
    },
    {
     "name": "stdout",
     "output_type": "stream",
     "text": [
      "Train loss: 0.3157955976703186\n",
      "Validating...\n"
     ]
    },
    {
     "name": "stderr",
     "output_type": "stream",
     "text": [
      "100%|██████████| 987/987 [00:01<00:00, 885.71it/s] "
     ]
    },
    {
     "name": "stdout",
     "output_type": "stream",
     "text": [
      "Looking for threshold\n"
     ]
    },
    {
     "name": "stderr",
     "output_type": "stream",
     "text": [
      "\n"
     ]
    },
    {
     "name": "stdout",
     "output_type": "stream",
     "text": [
      "Best threshold: 0.42000000000000004\n",
      "Validation Metrics - Epoch 8/1000:\n",
      "Loss      :0.3145\n",
      "Accuracy:  0.8616\n",
      "Precision: 0.8502\n",
      "Recall:    0.8784\n",
      "F1-score:  0.8641\n",
      "ROC-AUC:   0.9385\n",
      "Confusion Matrix:\n",
      "55570 7693\n",
      "9790 53271\n",
      "Epoch 9/1000\n"
     ]
    },
    {
     "name": "stderr",
     "output_type": "stream",
     "text": [
      "100%|██████████| 3948/3948 [00:04<00:00, 804.06it/s]\n"
     ]
    },
    {
     "name": "stdout",
     "output_type": "stream",
     "text": [
      "Train loss: 0.3144125412723093\n",
      "Validating...\n"
     ]
    },
    {
     "name": "stderr",
     "output_type": "stream",
     "text": [
      "100%|██████████| 987/987 [00:01<00:00, 939.66it/s] "
     ]
    },
    {
     "name": "stdout",
     "output_type": "stream",
     "text": [
      "Looking for threshold\n"
     ]
    },
    {
     "name": "stderr",
     "output_type": "stream",
     "text": [
      "\n"
     ]
    },
    {
     "name": "stdout",
     "output_type": "stream",
     "text": [
      "Best threshold: 0.43000000000000005\n",
      "Validation Metrics - Epoch 9/1000:\n",
      "Loss      :0.3131\n",
      "Accuracy:  0.8625\n",
      "Precision: 0.8528\n",
      "Recall:    0.8768\n",
      "F1-score:  0.8646\n",
      "ROC-AUC:   0.9390\n",
      "Confusion Matrix:\n",
      "55471 7792\n",
      "9577 53484\n",
      "Epoch 10/1000\n"
     ]
    },
    {
     "name": "stderr",
     "output_type": "stream",
     "text": [
      "100%|██████████| 3948/3948 [00:04<00:00, 799.63it/s]\n"
     ]
    },
    {
     "name": "stdout",
     "output_type": "stream",
     "text": [
      "Train loss: 0.31316951468677506\n",
      "Validating...\n"
     ]
    },
    {
     "name": "stderr",
     "output_type": "stream",
     "text": [
      "100%|██████████| 987/987 [00:01<00:00, 916.43it/s] \n"
     ]
    },
    {
     "name": "stdout",
     "output_type": "stream",
     "text": [
      "Looking for threshold\n",
      "Best threshold: 0.43000000000000005\n",
      "Validation Metrics - Epoch 10/1000:\n",
      "Loss      :0.3121\n",
      "Accuracy:  0.8634\n",
      "Precision: 0.8554\n",
      "Recall:    0.8753\n",
      "F1-score:  0.8652\n",
      "ROC-AUC:   0.9394\n",
      "Confusion Matrix:\n",
      "55371 7892\n",
      "9358 53703\n",
      "Epoch 11/1000\n"
     ]
    },
    {
     "name": "stderr",
     "output_type": "stream",
     "text": [
      "100%|██████████| 3948/3948 [00:04<00:00, 802.88it/s]\n"
     ]
    },
    {
     "name": "stdout",
     "output_type": "stream",
     "text": [
      "Train loss: 0.3120156243564268\n",
      "Validating...\n"
     ]
    },
    {
     "name": "stderr",
     "output_type": "stream",
     "text": [
      "100%|██████████| 987/987 [00:01<00:00, 895.51it/s] "
     ]
    },
    {
     "name": "stdout",
     "output_type": "stream",
     "text": [
      "Looking for threshold\n"
     ]
    },
    {
     "name": "stderr",
     "output_type": "stream",
     "text": [
      "\n"
     ]
    },
    {
     "name": "stdout",
     "output_type": "stream",
     "text": [
      "Best threshold: 0.45000000000000007\n",
      "Validation Metrics - Epoch 11/1000:\n",
      "Loss      :0.3110\n",
      "Accuracy:  0.8639\n",
      "Precision: 0.8569\n",
      "Recall:    0.8743\n",
      "F1-score:  0.8655\n",
      "ROC-AUC:   0.9398\n",
      "Confusion Matrix:\n",
      "55313 7950\n",
      "9238 53823\n",
      "Epoch 12/1000\n"
     ]
    },
    {
     "name": "stderr",
     "output_type": "stream",
     "text": [
      "100%|██████████| 3948/3948 [00:04<00:00, 817.97it/s]\n"
     ]
    },
    {
     "name": "stdout",
     "output_type": "stream",
     "text": [
      "Train loss: 0.3109359159582533\n",
      "Validating...\n"
     ]
    },
    {
     "name": "stderr",
     "output_type": "stream",
     "text": [
      "100%|██████████| 987/987 [00:01<00:00, 899.70it/s] "
     ]
    },
    {
     "name": "stdout",
     "output_type": "stream",
     "text": [
      "Looking for threshold\n"
     ]
    },
    {
     "name": "stderr",
     "output_type": "stream",
     "text": [
      "\n"
     ]
    },
    {
     "name": "stdout",
     "output_type": "stream",
     "text": [
      "Best threshold: 0.44000000000000006\n",
      "Validation Metrics - Epoch 12/1000:\n",
      "Loss      :0.3100\n",
      "Accuracy:  0.8641\n",
      "Precision: 0.8545\n",
      "Recall:    0.8783\n",
      "F1-score:  0.8662\n",
      "ROC-AUC:   0.9402\n",
      "Confusion Matrix:\n",
      "55562 7701\n",
      "9463 53598\n",
      "Epoch 13/1000\n"
     ]
    },
    {
     "name": "stderr",
     "output_type": "stream",
     "text": [
      "100%|██████████| 3948/3948 [00:05<00:00, 782.91it/s]\n"
     ]
    },
    {
     "name": "stdout",
     "output_type": "stream",
     "text": [
      "Train loss: 0.30993176978213566\n",
      "Validating...\n"
     ]
    },
    {
     "name": "stderr",
     "output_type": "stream",
     "text": [
      "100%|██████████| 987/987 [00:01<00:00, 896.21it/s] "
     ]
    },
    {
     "name": "stdout",
     "output_type": "stream",
     "text": [
      "Looking for threshold\n"
     ]
    },
    {
     "name": "stderr",
     "output_type": "stream",
     "text": [
      "\n"
     ]
    },
    {
     "name": "stdout",
     "output_type": "stream",
     "text": [
      "Best threshold: 0.45000000000000007\n",
      "Validation Metrics - Epoch 13/1000:\n",
      "Loss      :0.3091\n",
      "Accuracy:  0.8653\n",
      "Precision: 0.8600\n",
      "Recall:    0.8732\n",
      "F1-score:  0.8666\n",
      "ROC-AUC:   0.9405\n",
      "Confusion Matrix:\n",
      "55242 8021\n",
      "8991 54070\n",
      "Epoch 14/1000\n"
     ]
    },
    {
     "name": "stderr",
     "output_type": "stream",
     "text": [
      "100%|██████████| 3948/3948 [00:05<00:00, 789.07it/s]\n"
     ]
    },
    {
     "name": "stdout",
     "output_type": "stream",
     "text": [
      "Train loss: 0.30899418574939985\n",
      "Validating...\n"
     ]
    },
    {
     "name": "stderr",
     "output_type": "stream",
     "text": [
      "100%|██████████| 987/987 [00:01<00:00, 864.33it/s] "
     ]
    },
    {
     "name": "stdout",
     "output_type": "stream",
     "text": [
      "Looking for threshold\n"
     ]
    },
    {
     "name": "stderr",
     "output_type": "stream",
     "text": [
      "\n"
     ]
    },
    {
     "name": "stdout",
     "output_type": "stream",
     "text": [
      "Best threshold: 0.43000000000000005\n",
      "Validation Metrics - Epoch 14/1000:\n",
      "Loss      :0.3084\n",
      "Accuracy:  0.8657\n",
      "Precision: 0.8588\n",
      "Recall:    0.8757\n",
      "F1-score:  0.8672\n",
      "ROC-AUC:   0.9409\n",
      "Confusion Matrix:\n",
      "55401 7862\n",
      "9109 53952\n",
      "Epoch 15/1000\n"
     ]
    },
    {
     "name": "stderr",
     "output_type": "stream",
     "text": [
      "100%|██████████| 3948/3948 [00:04<00:00, 813.01it/s]\n"
     ]
    },
    {
     "name": "stdout",
     "output_type": "stream",
     "text": [
      "Train loss: 0.30808433859392986\n",
      "Validating...\n"
     ]
    },
    {
     "name": "stderr",
     "output_type": "stream",
     "text": [
      "100%|██████████| 987/987 [00:01<00:00, 889.00it/s] "
     ]
    },
    {
     "name": "stdout",
     "output_type": "stream",
     "text": [
      "Looking for threshold\n"
     ]
    },
    {
     "name": "stderr",
     "output_type": "stream",
     "text": [
      "\n"
     ]
    },
    {
     "name": "stdout",
     "output_type": "stream",
     "text": [
      "Best threshold: 0.44000000000000006\n",
      "Validation Metrics - Epoch 15/1000:\n",
      "Loss      :0.3073\n",
      "Accuracy:  0.8656\n",
      "Precision: 0.8583\n",
      "Recall:    0.8762\n",
      "F1-score:  0.8672\n",
      "ROC-AUC:   0.9412\n",
      "Confusion Matrix:\n",
      "55433 7830\n",
      "9149 53912\n",
      "Epoch 16/1000\n"
     ]
    },
    {
     "name": "stderr",
     "output_type": "stream",
     "text": [
      "100%|██████████| 3948/3948 [00:04<00:00, 822.72it/s]\n"
     ]
    },
    {
     "name": "stdout",
     "output_type": "stream",
     "text": [
      "Train loss: 0.30722729385035014\n",
      "Validating...\n"
     ]
    },
    {
     "name": "stderr",
     "output_type": "stream",
     "text": [
      "100%|██████████| 987/987 [00:01<00:00, 875.94it/s] "
     ]
    },
    {
     "name": "stdout",
     "output_type": "stream",
     "text": [
      "Looking for threshold\n"
     ]
    },
    {
     "name": "stderr",
     "output_type": "stream",
     "text": [
      "\n"
     ]
    },
    {
     "name": "stdout",
     "output_type": "stream",
     "text": [
      "Best threshold: 0.45000000000000007\n",
      "Validation Metrics - Epoch 16/1000:\n",
      "Loss      :0.3065\n",
      "Accuracy:  0.8669\n",
      "Precision: 0.8648\n",
      "Recall:    0.8704\n",
      "F1-score:  0.8676\n",
      "ROC-AUC:   0.9415\n",
      "Confusion Matrix:\n",
      "55063 8200\n",
      "8608 54453\n",
      "Epoch 17/1000\n"
     ]
    },
    {
     "name": "stderr",
     "output_type": "stream",
     "text": [
      "100%|██████████| 3948/3948 [00:04<00:00, 823.81it/s]\n"
     ]
    },
    {
     "name": "stdout",
     "output_type": "stream",
     "text": [
      "Train loss: 0.30640110388971875\n",
      "Validating...\n"
     ]
    },
    {
     "name": "stderr",
     "output_type": "stream",
     "text": [
      "100%|██████████| 987/987 [00:01<00:00, 888.01it/s] "
     ]
    },
    {
     "name": "stdout",
     "output_type": "stream",
     "text": [
      "Looking for threshold\n"
     ]
    },
    {
     "name": "stderr",
     "output_type": "stream",
     "text": [
      "\n"
     ]
    },
    {
     "name": "stdout",
     "output_type": "stream",
     "text": [
      "Best threshold: 0.4600000000000001\n",
      "Validation Metrics - Epoch 17/1000:\n",
      "Loss      :0.3059\n",
      "Accuracy:  0.8680\n",
      "Precision: 0.8685\n",
      "Recall:    0.8678\n",
      "F1-score:  0.8682\n",
      "ROC-AUC:   0.9418\n",
      "Confusion Matrix:\n",
      "54899 8364\n",
      "8311 54750\n",
      "Epoch 18/1000\n"
     ]
    },
    {
     "name": "stderr",
     "output_type": "stream",
     "text": [
      "100%|██████████| 3948/3948 [00:04<00:00, 805.46it/s]\n"
     ]
    },
    {
     "name": "stdout",
     "output_type": "stream",
     "text": [
      "Train loss: 0.3056424611116917\n",
      "Validating...\n"
     ]
    },
    {
     "name": "stderr",
     "output_type": "stream",
     "text": [
      "100%|██████████| 987/987 [00:01<00:00, 886.23it/s] "
     ]
    },
    {
     "name": "stdout",
     "output_type": "stream",
     "text": [
      "Looking for threshold\n"
     ]
    },
    {
     "name": "stderr",
     "output_type": "stream",
     "text": [
      "\n"
     ]
    },
    {
     "name": "stdout",
     "output_type": "stream",
     "text": [
      "Best threshold: 0.4700000000000001\n",
      "Validation Metrics - Epoch 18/1000:\n",
      "Loss      :0.3049\n",
      "Accuracy:  0.8686\n",
      "Precision: 0.8713\n",
      "Recall:    0.8655\n",
      "F1-score:  0.8684\n",
      "ROC-AUC:   0.9421\n",
      "Confusion Matrix:\n",
      "54755 8508\n",
      "8085 54976\n",
      "Epoch 19/1000\n"
     ]
    },
    {
     "name": "stderr",
     "output_type": "stream",
     "text": [
      "100%|██████████| 3948/3948 [00:04<00:00, 812.12it/s]\n"
     ]
    },
    {
     "name": "stdout",
     "output_type": "stream",
     "text": [
      "Train loss: 0.3049181972148148\n",
      "Validating...\n"
     ]
    },
    {
     "name": "stderr",
     "output_type": "stream",
     "text": [
      "100%|██████████| 987/987 [00:01<00:00, 902.59it/s] "
     ]
    },
    {
     "name": "stdout",
     "output_type": "stream",
     "text": [
      "Looking for threshold\n"
     ]
    },
    {
     "name": "stderr",
     "output_type": "stream",
     "text": [
      "\n"
     ]
    },
    {
     "name": "stdout",
     "output_type": "stream",
     "text": [
      "Best threshold: 0.44000000000000006\n",
      "Validation Metrics - Epoch 19/1000:\n",
      "Loss      :0.3043\n",
      "Accuracy:  0.8669\n",
      "Precision: 0.8586\n",
      "Recall:    0.8790\n",
      "F1-score:  0.8687\n",
      "ROC-AUC:   0.9424\n",
      "Confusion Matrix:\n",
      "55606 7657\n",
      "9155 53906\n",
      "Epoch 20/1000\n"
     ]
    },
    {
     "name": "stderr",
     "output_type": "stream",
     "text": [
      "100%|██████████| 3948/3948 [00:04<00:00, 796.24it/s]\n"
     ]
    },
    {
     "name": "stdout",
     "output_type": "stream",
     "text": [
      "Train loss: 0.3041828722063652\n",
      "Validating...\n"
     ]
    },
    {
     "name": "stderr",
     "output_type": "stream",
     "text": [
      "100%|██████████| 987/987 [00:01<00:00, 880.61it/s] "
     ]
    },
    {
     "name": "stdout",
     "output_type": "stream",
     "text": [
      "Looking for threshold\n"
     ]
    },
    {
     "name": "stderr",
     "output_type": "stream",
     "text": [
      "\n"
     ]
    },
    {
     "name": "stdout",
     "output_type": "stream",
     "text": [
      "Best threshold: 0.45000000000000007\n",
      "Validation Metrics - Epoch 20/1000:\n",
      "Loss      :0.3037\n",
      "Accuracy:  0.8682\n",
      "Precision: 0.8651\n",
      "Recall:    0.8730\n",
      "F1-score:  0.8690\n",
      "ROC-AUC:   0.9426\n",
      "Confusion Matrix:\n",
      "55231 8032\n",
      "8613 54448\n",
      "Epoch 21/1000\n"
     ]
    },
    {
     "name": "stderr",
     "output_type": "stream",
     "text": [
      "100%|██████████| 3948/3948 [00:05<00:00, 786.59it/s]\n"
     ]
    },
    {
     "name": "stdout",
     "output_type": "stream",
     "text": [
      "Train loss: 0.3035499969725672\n",
      "Validating...\n"
     ]
    },
    {
     "name": "stderr",
     "output_type": "stream",
     "text": [
      "100%|██████████| 987/987 [00:01<00:00, 861.47it/s] "
     ]
    },
    {
     "name": "stdout",
     "output_type": "stream",
     "text": [
      "Looking for threshold\n"
     ]
    },
    {
     "name": "stderr",
     "output_type": "stream",
     "text": [
      "\n"
     ]
    },
    {
     "name": "stdout",
     "output_type": "stream",
     "text": [
      "Best threshold: 0.4700000000000001\n",
      "Validation Metrics - Epoch 21/1000:\n",
      "Loss      :0.3033\n",
      "Accuracy:  0.8687\n",
      "Precision: 0.8667\n",
      "Recall:    0.8719\n",
      "F1-score:  0.8693\n",
      "ROC-AUC:   0.9428\n",
      "Confusion Matrix:\n",
      "55161 8102\n",
      "8486 54575\n",
      "Epoch 22/1000\n"
     ]
    },
    {
     "name": "stderr",
     "output_type": "stream",
     "text": [
      "100%|██████████| 3948/3948 [00:05<00:00, 785.79it/s]\n"
     ]
    },
    {
     "name": "stdout",
     "output_type": "stream",
     "text": [
      "Train loss: 0.30291937586399437\n",
      "Validating...\n"
     ]
    },
    {
     "name": "stderr",
     "output_type": "stream",
     "text": [
      "100%|██████████| 987/987 [00:01<00:00, 913.69it/s] "
     ]
    },
    {
     "name": "stdout",
     "output_type": "stream",
     "text": [
      "Looking for threshold\n"
     ]
    },
    {
     "name": "stderr",
     "output_type": "stream",
     "text": [
      "\n"
     ]
    },
    {
     "name": "stdout",
     "output_type": "stream",
     "text": [
      "Best threshold: 0.44000000000000006\n",
      "Validation Metrics - Epoch 22/1000:\n",
      "Loss      :0.3025\n",
      "Accuracy:  0.8687\n",
      "Precision: 0.8638\n",
      "Recall:    0.8759\n",
      "F1-score:  0.8698\n",
      "ROC-AUC:   0.9431\n",
      "Confusion Matrix:\n",
      "55411 7852\n",
      "8735 54326\n",
      "Epoch 23/1000\n"
     ]
    },
    {
     "name": "stderr",
     "output_type": "stream",
     "text": [
      "100%|██████████| 3948/3948 [00:04<00:00, 847.82it/s]\n"
     ]
    },
    {
     "name": "stdout",
     "output_type": "stream",
     "text": [
      "Train loss: 0.30228804134534487\n",
      "Validating...\n"
     ]
    },
    {
     "name": "stderr",
     "output_type": "stream",
     "text": [
      "100%|██████████| 987/987 [00:01<00:00, 896.29it/s] "
     ]
    },
    {
     "name": "stdout",
     "output_type": "stream",
     "text": [
      "Looking for threshold\n"
     ]
    },
    {
     "name": "stderr",
     "output_type": "stream",
     "text": [
      "\n"
     ]
    },
    {
     "name": "stdout",
     "output_type": "stream",
     "text": [
      "Best threshold: 0.4600000000000001\n",
      "Validation Metrics - Epoch 23/1000:\n",
      "Loss      :0.3021\n",
      "Accuracy:  0.8690\n",
      "Precision: 0.8647\n",
      "Recall:    0.8754\n",
      "F1-score:  0.8700\n",
      "ROC-AUC:   0.9433\n",
      "Confusion Matrix:\n",
      "55383 7880\n",
      "8667 54394\n",
      "Epoch 24/1000\n"
     ]
    },
    {
     "name": "stderr",
     "output_type": "stream",
     "text": [
      "100%|██████████| 3948/3948 [00:04<00:00, 790.66it/s]\n"
     ]
    },
    {
     "name": "stdout",
     "output_type": "stream",
     "text": [
      "Train loss: 0.3017178834043254\n",
      "Validating...\n"
     ]
    },
    {
     "name": "stderr",
     "output_type": "stream",
     "text": [
      "100%|██████████| 987/987 [00:01<00:00, 901.36it/s] "
     ]
    },
    {
     "name": "stdout",
     "output_type": "stream",
     "text": [
      "Looking for threshold\n"
     ]
    },
    {
     "name": "stderr",
     "output_type": "stream",
     "text": [
      "\n"
     ]
    },
    {
     "name": "stdout",
     "output_type": "stream",
     "text": [
      "Best threshold: 0.4600000000000001\n",
      "Validation Metrics - Epoch 24/1000:\n",
      "Loss      :0.3015\n",
      "Accuracy:  0.8695\n",
      "Precision: 0.8673\n",
      "Recall:    0.8729\n",
      "F1-score:  0.8701\n",
      "ROC-AUC:   0.9434\n",
      "Confusion Matrix:\n",
      "55221 8042\n",
      "8447 54614\n",
      "Epoch 25/1000\n"
     ]
    },
    {
     "name": "stderr",
     "output_type": "stream",
     "text": [
      "100%|██████████| 3948/3948 [00:04<00:00, 808.72it/s]\n"
     ]
    },
    {
     "name": "stdout",
     "output_type": "stream",
     "text": [
      "Train loss: 0.3011923013434282\n",
      "Validating...\n"
     ]
    },
    {
     "name": "stderr",
     "output_type": "stream",
     "text": [
      "100%|██████████| 987/987 [00:01<00:00, 889.20it/s] "
     ]
    },
    {
     "name": "stdout",
     "output_type": "stream",
     "text": [
      "Looking for threshold\n"
     ]
    },
    {
     "name": "stderr",
     "output_type": "stream",
     "text": [
      "\n"
     ]
    },
    {
     "name": "stdout",
     "output_type": "stream",
     "text": [
      "Best threshold: 0.4800000000000001\n",
      "Validation Metrics - Epoch 25/1000:\n",
      "Loss      :0.3012\n",
      "Accuracy:  0.8702\n",
      "Precision: 0.8707\n",
      "Recall:    0.8701\n",
      "F1-score:  0.8704\n",
      "ROC-AUC:   0.9436\n",
      "Confusion Matrix:\n",
      "55043 8220\n",
      "8173 54888\n",
      "Epoch 26/1000\n"
     ]
    },
    {
     "name": "stderr",
     "output_type": "stream",
     "text": [
      "100%|██████████| 3948/3948 [00:04<00:00, 798.22it/s]\n"
     ]
    },
    {
     "name": "stdout",
     "output_type": "stream",
     "text": [
      "Train loss: 0.300693557911912\n",
      "Validating...\n"
     ]
    },
    {
     "name": "stderr",
     "output_type": "stream",
     "text": [
      "100%|██████████| 987/987 [00:01<00:00, 881.00it/s] "
     ]
    },
    {
     "name": "stdout",
     "output_type": "stream",
     "text": [
      "Looking for threshold\n"
     ]
    },
    {
     "name": "stderr",
     "output_type": "stream",
     "text": [
      "\n"
     ]
    },
    {
     "name": "stdout",
     "output_type": "stream",
     "text": [
      "Best threshold: 0.44000000000000006\n",
      "Validation Metrics - Epoch 26/1000:\n",
      "Loss      :0.3007\n",
      "Accuracy:  0.8689\n",
      "Precision: 0.8622\n",
      "Recall:    0.8786\n",
      "F1-score:  0.8703\n",
      "ROC-AUC:   0.9437\n",
      "Confusion Matrix:\n",
      "55583 7680\n",
      "8880 54181\n",
      "Epoch 27/1000\n"
     ]
    },
    {
     "name": "stderr",
     "output_type": "stream",
     "text": [
      "100%|██████████| 3948/3948 [00:05<00:00, 747.29it/s]\n"
     ]
    },
    {
     "name": "stdout",
     "output_type": "stream",
     "text": [
      "Train loss: 0.30019606914080627\n",
      "Validating...\n"
     ]
    },
    {
     "name": "stderr",
     "output_type": "stream",
     "text": [
      "100%|██████████| 987/987 [00:01<00:00, 886.78it/s] "
     ]
    },
    {
     "name": "stdout",
     "output_type": "stream",
     "text": [
      "Looking for threshold\n"
     ]
    },
    {
     "name": "stderr",
     "output_type": "stream",
     "text": [
      "\n"
     ]
    },
    {
     "name": "stdout",
     "output_type": "stream",
     "text": [
      "Best threshold: 0.44000000000000006\n",
      "Validation Metrics - Epoch 27/1000:\n",
      "Loss      :0.3007\n",
      "Accuracy:  0.8702\n",
      "Precision: 0.8696\n",
      "Recall:    0.8714\n",
      "F1-score:  0.8705\n",
      "ROC-AUC:   0.9438\n",
      "Confusion Matrix:\n",
      "55128 8135\n",
      "8268 54793\n",
      "Epoch 28/1000\n"
     ]
    },
    {
     "name": "stderr",
     "output_type": "stream",
     "text": [
      "100%|██████████| 3948/3948 [00:05<00:00, 777.99it/s]\n"
     ]
    },
    {
     "name": "stdout",
     "output_type": "stream",
     "text": [
      "Train loss: 0.29973691247079026\n",
      "Validating...\n"
     ]
    },
    {
     "name": "stderr",
     "output_type": "stream",
     "text": [
      "100%|██████████| 987/987 [00:01<00:00, 824.56it/s] "
     ]
    },
    {
     "name": "stdout",
     "output_type": "stream",
     "text": [
      "Looking for threshold\n"
     ]
    },
    {
     "name": "stderr",
     "output_type": "stream",
     "text": [
      "\n"
     ]
    },
    {
     "name": "stdout",
     "output_type": "stream",
     "text": [
      "Best threshold: 0.45000000000000007\n",
      "Validation Metrics - Epoch 28/1000:\n",
      "Loss      :0.3000\n",
      "Accuracy:  0.8708\n",
      "Precision: 0.8720\n",
      "Recall:    0.8696\n",
      "F1-score:  0.8708\n",
      "ROC-AUC:   0.9441\n",
      "Confusion Matrix:\n",
      "55015 8248\n",
      "8079 54982\n",
      "Epoch 29/1000\n"
     ]
    },
    {
     "name": "stderr",
     "output_type": "stream",
     "text": [
      "100%|██████████| 3948/3948 [00:04<00:00, 808.71it/s]\n"
     ]
    },
    {
     "name": "stdout",
     "output_type": "stream",
     "text": [
      "Train loss: 0.2992901184427219\n",
      "Validating...\n"
     ]
    },
    {
     "name": "stderr",
     "output_type": "stream",
     "text": [
      "100%|██████████| 987/987 [00:01<00:00, 866.58it/s] "
     ]
    },
    {
     "name": "stdout",
     "output_type": "stream",
     "text": [
      "Looking for threshold\n"
     ]
    },
    {
     "name": "stderr",
     "output_type": "stream",
     "text": [
      "\n"
     ]
    },
    {
     "name": "stdout",
     "output_type": "stream",
     "text": [
      "Best threshold: 0.44000000000000006\n",
      "Validation Metrics - Epoch 29/1000:\n",
      "Loss      :0.2996\n",
      "Accuracy:  0.8701\n",
      "Precision: 0.8667\n",
      "Recall:    0.8754\n",
      "F1-score:  0.8710\n",
      "ROC-AUC:   0.9443\n",
      "Confusion Matrix:\n",
      "55379 7884\n",
      "8521 54540\n",
      "Epoch 30/1000\n"
     ]
    },
    {
     "name": "stderr",
     "output_type": "stream",
     "text": [
      "100%|██████████| 3948/3948 [00:04<00:00, 790.83it/s]\n"
     ]
    },
    {
     "name": "stdout",
     "output_type": "stream",
     "text": [
      "Train loss: 0.2988774882593657\n",
      "Validating...\n"
     ]
    },
    {
     "name": "stderr",
     "output_type": "stream",
     "text": [
      "100%|██████████| 987/987 [00:01<00:00, 889.27it/s] "
     ]
    },
    {
     "name": "stdout",
     "output_type": "stream",
     "text": [
      "Looking for threshold\n"
     ]
    },
    {
     "name": "stderr",
     "output_type": "stream",
     "text": [
      "\n"
     ]
    },
    {
     "name": "stdout",
     "output_type": "stream",
     "text": [
      "Best threshold: 0.44000000000000006\n",
      "Validation Metrics - Epoch 30/1000:\n",
      "Loss      :0.2991\n",
      "Accuracy:  0.8702\n",
      "Precision: 0.8670\n",
      "Recall:    0.8752\n",
      "F1-score:  0.8711\n",
      "ROC-AUC:   0.9443\n",
      "Confusion Matrix:\n",
      "55365 7898\n",
      "8494 54567\n",
      "Epoch 31/1000\n"
     ]
    },
    {
     "name": "stderr",
     "output_type": "stream",
     "text": [
      "100%|██████████| 3948/3948 [00:04<00:00, 814.46it/s]\n"
     ]
    },
    {
     "name": "stdout",
     "output_type": "stream",
     "text": [
      "Train loss: 0.2984958001975774\n",
      "Validating...\n"
     ]
    },
    {
     "name": "stderr",
     "output_type": "stream",
     "text": [
      "100%|██████████| 987/987 [00:01<00:00, 879.74it/s] "
     ]
    },
    {
     "name": "stdout",
     "output_type": "stream",
     "text": [
      "Looking for threshold\n"
     ]
    },
    {
     "name": "stderr",
     "output_type": "stream",
     "text": [
      "\n"
     ]
    },
    {
     "name": "stdout",
     "output_type": "stream",
     "text": [
      "Best threshold: 0.4600000000000001\n",
      "Validation Metrics - Epoch 31/1000:\n",
      "Loss      :0.2986\n",
      "Accuracy:  0.8710\n",
      "Precision: 0.8707\n",
      "Recall:    0.8719\n",
      "F1-score:  0.8713\n",
      "ROC-AUC:   0.9445\n",
      "Confusion Matrix:\n",
      "55158 8105\n",
      "8188 54873\n",
      "Epoch 32/1000\n"
     ]
    },
    {
     "name": "stderr",
     "output_type": "stream",
     "text": [
      "100%|██████████| 3948/3948 [00:04<00:00, 805.12it/s]\n"
     ]
    },
    {
     "name": "stdout",
     "output_type": "stream",
     "text": [
      "Train loss: 0.29809604950528495\n",
      "Validating...\n"
     ]
    },
    {
     "name": "stderr",
     "output_type": "stream",
     "text": [
      "100%|██████████| 987/987 [00:01<00:00, 882.26it/s] "
     ]
    },
    {
     "name": "stdout",
     "output_type": "stream",
     "text": [
      "Looking for threshold\n"
     ]
    },
    {
     "name": "stderr",
     "output_type": "stream",
     "text": [
      "\n"
     ]
    },
    {
     "name": "stdout",
     "output_type": "stream",
     "text": [
      "Best threshold: 0.44000000000000006\n",
      "Validation Metrics - Epoch 32/1000:\n",
      "Loss      :0.2986\n",
      "Accuracy:  0.8707\n",
      "Precision: 0.8678\n",
      "Recall:    0.8751\n",
      "F1-score:  0.8714\n",
      "ROC-AUC:   0.9446\n",
      "Confusion Matrix:\n",
      "55362 7901\n",
      "8436 54625\n",
      "Epoch 33/1000\n"
     ]
    },
    {
     "name": "stderr",
     "output_type": "stream",
     "text": [
      "100%|██████████| 3948/3948 [00:04<00:00, 819.82it/s]\n"
     ]
    },
    {
     "name": "stdout",
     "output_type": "stream",
     "text": [
      "Train loss: 0.2977409826548206\n",
      "Validating...\n"
     ]
    },
    {
     "name": "stderr",
     "output_type": "stream",
     "text": [
      "100%|██████████| 987/987 [00:01<00:00, 866.54it/s] "
     ]
    },
    {
     "name": "stdout",
     "output_type": "stream",
     "text": [
      "Looking for threshold\n"
     ]
    },
    {
     "name": "stderr",
     "output_type": "stream",
     "text": [
      "\n"
     ]
    },
    {
     "name": "stdout",
     "output_type": "stream",
     "text": [
      "Best threshold: 0.45000000000000007\n",
      "Validation Metrics - Epoch 33/1000:\n",
      "Loss      :0.2980\n",
      "Accuracy:  0.8711\n",
      "Precision: 0.8689\n",
      "Recall:    0.8746\n",
      "F1-score:  0.8718\n",
      "ROC-AUC:   0.9447\n",
      "Confusion Matrix:\n",
      "55331 7932\n",
      "8348 54713\n",
      "Epoch 34/1000\n"
     ]
    },
    {
     "name": "stderr",
     "output_type": "stream",
     "text": [
      "100%|██████████| 3948/3948 [00:04<00:00, 810.09it/s]\n"
     ]
    },
    {
     "name": "stdout",
     "output_type": "stream",
     "text": [
      "Train loss: 0.2973734629175342\n",
      "Validating...\n"
     ]
    },
    {
     "name": "stderr",
     "output_type": "stream",
     "text": [
      "100%|██████████| 987/987 [00:01<00:00, 853.95it/s] "
     ]
    },
    {
     "name": "stdout",
     "output_type": "stream",
     "text": [
      "Looking for threshold\n"
     ]
    },
    {
     "name": "stderr",
     "output_type": "stream",
     "text": [
      "\n"
     ]
    },
    {
     "name": "stdout",
     "output_type": "stream",
     "text": [
      "Best threshold: 0.44000000000000006\n",
      "Validation Metrics - Epoch 34/1000:\n",
      "Loss      :0.2979\n",
      "Accuracy:  0.8710\n",
      "Precision: 0.8677\n",
      "Recall:    0.8760\n",
      "F1-score:  0.8718\n",
      "ROC-AUC:   0.9448\n",
      "Confusion Matrix:\n",
      "55420 7843\n",
      "8451 54610\n",
      "Epoch 35/1000\n"
     ]
    },
    {
     "name": "stderr",
     "output_type": "stream",
     "text": [
      "100%|██████████| 3948/3948 [00:04<00:00, 810.70it/s]\n"
     ]
    },
    {
     "name": "stdout",
     "output_type": "stream",
     "text": [
      "Train loss: 0.2970147241650502\n",
      "Validating...\n"
     ]
    },
    {
     "name": "stderr",
     "output_type": "stream",
     "text": [
      "100%|██████████| 987/987 [00:01<00:00, 872.32it/s] "
     ]
    },
    {
     "name": "stdout",
     "output_type": "stream",
     "text": [
      "Looking for threshold\n"
     ]
    },
    {
     "name": "stderr",
     "output_type": "stream",
     "text": [
      "\n"
     ]
    },
    {
     "name": "stdout",
     "output_type": "stream",
     "text": [
      "Best threshold: 0.44000000000000006\n",
      "Validation Metrics - Epoch 35/1000:\n",
      "Loss      :0.2975\n",
      "Accuracy:  0.8710\n",
      "Precision: 0.8671\n",
      "Recall:    0.8768\n",
      "F1-score:  0.8719\n",
      "ROC-AUC:   0.9450\n",
      "Confusion Matrix:\n",
      "55468 7795\n",
      "8505 54556\n",
      "Epoch 36/1000\n"
     ]
    },
    {
     "name": "stderr",
     "output_type": "stream",
     "text": [
      "100%|██████████| 3948/3948 [00:04<00:00, 811.73it/s]\n"
     ]
    },
    {
     "name": "stdout",
     "output_type": "stream",
     "text": [
      "Train loss: 0.29668835370132385\n",
      "Validating...\n"
     ]
    },
    {
     "name": "stderr",
     "output_type": "stream",
     "text": [
      "100%|██████████| 987/987 [00:01<00:00, 872.34it/s] "
     ]
    },
    {
     "name": "stdout",
     "output_type": "stream",
     "text": [
      "Looking for threshold\n"
     ]
    },
    {
     "name": "stderr",
     "output_type": "stream",
     "text": [
      "\n"
     ]
    },
    {
     "name": "stdout",
     "output_type": "stream",
     "text": [
      "Best threshold: 0.4800000000000001\n",
      "Validation Metrics - Epoch 36/1000:\n",
      "Loss      :0.2971\n",
      "Accuracy:  0.8722\n",
      "Precision: 0.8762\n",
      "Recall:    0.8675\n",
      "F1-score:  0.8718\n",
      "ROC-AUC:   0.9450\n",
      "Confusion Matrix:\n",
      "54878 8385\n",
      "7755 55306\n",
      "Epoch 37/1000\n"
     ]
    },
    {
     "name": "stderr",
     "output_type": "stream",
     "text": [
      "100%|██████████| 3948/3948 [00:05<00:00, 779.96it/s]\n"
     ]
    },
    {
     "name": "stdout",
     "output_type": "stream",
     "text": [
      "Train loss: 0.2963705954407063\n",
      "Validating...\n"
     ]
    },
    {
     "name": "stderr",
     "output_type": "stream",
     "text": [
      "100%|██████████| 987/987 [00:01<00:00, 863.98it/s] "
     ]
    },
    {
     "name": "stdout",
     "output_type": "stream",
     "text": [
      "Looking for threshold\n"
     ]
    },
    {
     "name": "stderr",
     "output_type": "stream",
     "text": [
      "\n"
     ]
    },
    {
     "name": "stdout",
     "output_type": "stream",
     "text": [
      "Best threshold: 0.42000000000000004\n",
      "Validation Metrics - Epoch 37/1000:\n",
      "Loss      :0.2975\n",
      "Accuracy:  0.8712\n",
      "Precision: 0.8669\n",
      "Recall:    0.8776\n",
      "F1-score:  0.8722\n",
      "ROC-AUC:   0.9452\n",
      "Confusion Matrix:\n",
      "55521 7742\n",
      "8523 54538\n",
      "Epoch 38/1000\n"
     ]
    },
    {
     "name": "stderr",
     "output_type": "stream",
     "text": [
      "100%|██████████| 3948/3948 [00:05<00:00, 786.56it/s]\n"
     ]
    },
    {
     "name": "stdout",
     "output_type": "stream",
     "text": [
      "Train loss: 0.2960912488899151\n",
      "Validating...\n"
     ]
    },
    {
     "name": "stderr",
     "output_type": "stream",
     "text": [
      "100%|██████████| 987/987 [00:01<00:00, 882.16it/s] "
     ]
    },
    {
     "name": "stdout",
     "output_type": "stream",
     "text": [
      "Looking for threshold\n"
     ]
    },
    {
     "name": "stderr",
     "output_type": "stream",
     "text": [
      "\n"
     ]
    },
    {
     "name": "stdout",
     "output_type": "stream",
     "text": [
      "Best threshold: 0.44000000000000006\n",
      "Validation Metrics - Epoch 38/1000:\n",
      "Loss      :0.2966\n",
      "Accuracy:  0.8712\n",
      "Precision: 0.8664\n",
      "Recall:    0.8783\n",
      "F1-score:  0.8723\n",
      "ROC-AUC:   0.9452\n",
      "Confusion Matrix:\n",
      "55566 7697\n",
      "8568 54493\n",
      "Epoch 39/1000\n"
     ]
    },
    {
     "name": "stderr",
     "output_type": "stream",
     "text": [
      "100%|██████████| 3948/3948 [00:04<00:00, 825.70it/s]\n"
     ]
    },
    {
     "name": "stdout",
     "output_type": "stream",
     "text": [
      "Train loss: 0.29575583854314647\n",
      "Validating...\n"
     ]
    },
    {
     "name": "stderr",
     "output_type": "stream",
     "text": [
      "100%|██████████| 987/987 [00:01<00:00, 867.37it/s] "
     ]
    },
    {
     "name": "stdout",
     "output_type": "stream",
     "text": [
      "Looking for threshold\n"
     ]
    },
    {
     "name": "stderr",
     "output_type": "stream",
     "text": [
      "\n"
     ]
    },
    {
     "name": "stdout",
     "output_type": "stream",
     "text": [
      "Best threshold: 0.45000000000000007\n",
      "Validation Metrics - Epoch 39/1000:\n",
      "Loss      :0.2962\n",
      "Accuracy:  0.8714\n",
      "Precision: 0.8677\n",
      "Recall:    0.8768\n",
      "F1-score:  0.8722\n",
      "ROC-AUC:   0.9453\n",
      "Confusion Matrix:\n",
      "55471 7792\n",
      "8458 54603\n",
      "Epoch 40/1000\n"
     ]
    },
    {
     "name": "stderr",
     "output_type": "stream",
     "text": [
      "100%|██████████| 3948/3948 [00:04<00:00, 810.96it/s]\n"
     ]
    },
    {
     "name": "stdout",
     "output_type": "stream",
     "text": [
      "Train loss: 0.2954935487265403\n",
      "Validating...\n"
     ]
    },
    {
     "name": "stderr",
     "output_type": "stream",
     "text": [
      "100%|██████████| 987/987 [00:01<00:00, 858.62it/s] "
     ]
    },
    {
     "name": "stdout",
     "output_type": "stream",
     "text": [
      "Looking for threshold\n"
     ]
    },
    {
     "name": "stderr",
     "output_type": "stream",
     "text": [
      "\n"
     ]
    },
    {
     "name": "stdout",
     "output_type": "stream",
     "text": [
      "Best threshold: 0.43000000000000005\n",
      "Validation Metrics - Epoch 40/1000:\n",
      "Loss      :0.2964\n",
      "Accuracy:  0.8717\n",
      "Precision: 0.8682\n",
      "Recall:    0.8770\n",
      "F1-score:  0.8726\n",
      "ROC-AUC:   0.9455\n",
      "Confusion Matrix:\n",
      "55482 7781\n",
      "8424 54637\n",
      "Epoch 41/1000\n"
     ]
    },
    {
     "name": "stderr",
     "output_type": "stream",
     "text": [
      "100%|██████████| 3948/3948 [00:04<00:00, 803.01it/s]\n"
     ]
    },
    {
     "name": "stdout",
     "output_type": "stream",
     "text": [
      "Train loss: 0.2951793783469826\n",
      "Validating...\n"
     ]
    },
    {
     "name": "stderr",
     "output_type": "stream",
     "text": [
      "100%|██████████| 987/987 [00:01<00:00, 870.40it/s] "
     ]
    },
    {
     "name": "stdout",
     "output_type": "stream",
     "text": [
      "Looking for threshold\n"
     ]
    },
    {
     "name": "stderr",
     "output_type": "stream",
     "text": [
      "\n"
     ]
    },
    {
     "name": "stdout",
     "output_type": "stream",
     "text": [
      "Best threshold: 0.44000000000000006\n",
      "Validation Metrics - Epoch 41/1000:\n",
      "Loss      :0.2959\n",
      "Accuracy:  0.8716\n",
      "Precision: 0.8681\n",
      "Recall:    0.8769\n",
      "F1-score:  0.8725\n",
      "ROC-AUC:   0.9455\n",
      "Confusion Matrix:\n",
      "55476 7787\n",
      "8427 54634\n",
      "Epoch 42/1000\n"
     ]
    },
    {
     "name": "stderr",
     "output_type": "stream",
     "text": [
      "100%|██████████| 3948/3948 [00:04<00:00, 810.22it/s]\n"
     ]
    },
    {
     "name": "stdout",
     "output_type": "stream",
     "text": [
      "Train loss: 0.2949000754617268\n",
      "Validating...\n"
     ]
    },
    {
     "name": "stderr",
     "output_type": "stream",
     "text": [
      "100%|██████████| 987/987 [00:01<00:00, 880.22it/s] "
     ]
    },
    {
     "name": "stdout",
     "output_type": "stream",
     "text": [
      "Looking for threshold\n"
     ]
    },
    {
     "name": "stderr",
     "output_type": "stream",
     "text": [
      "\n"
     ]
    },
    {
     "name": "stdout",
     "output_type": "stream",
     "text": [
      "Best threshold: 0.43000000000000005\n",
      "Validation Metrics - Epoch 42/1000:\n",
      "Loss      :0.2959\n",
      "Accuracy:  0.8713\n",
      "Precision: 0.8658\n",
      "Recall:    0.8793\n",
      "F1-score:  0.8725\n",
      "ROC-AUC:   0.9455\n",
      "Confusion Matrix:\n",
      "55625 7638\n",
      "8623 54438\n",
      "Epoch 43/1000\n"
     ]
    },
    {
     "name": "stderr",
     "output_type": "stream",
     "text": [
      "100%|██████████| 3948/3948 [00:04<00:00, 816.15it/s]\n"
     ]
    },
    {
     "name": "stdout",
     "output_type": "stream",
     "text": [
      "Train loss: 0.2946455805942703\n",
      "Validating...\n"
     ]
    },
    {
     "name": "stderr",
     "output_type": "stream",
     "text": [
      "100%|██████████| 987/987 [00:01<00:00, 854.88it/s] "
     ]
    },
    {
     "name": "stdout",
     "output_type": "stream",
     "text": [
      "Looking for threshold\n"
     ]
    },
    {
     "name": "stderr",
     "output_type": "stream",
     "text": [
      "\n"
     ]
    },
    {
     "name": "stdout",
     "output_type": "stream",
     "text": [
      "Best threshold: 0.45000000000000007\n",
      "Validation Metrics - Epoch 43/1000:\n",
      "Loss      :0.2957\n",
      "Accuracy:  0.8726\n",
      "Precision: 0.8722\n",
      "Recall:    0.8736\n",
      "F1-score:  0.8729\n",
      "ROC-AUC:   0.9456\n",
      "Confusion Matrix:\n",
      "55266 7997\n",
      "8096 54965\n",
      "Epoch 44/1000\n"
     ]
    },
    {
     "name": "stderr",
     "output_type": "stream",
     "text": [
      "100%|██████████| 3948/3948 [00:05<00:00, 780.97it/s]\n"
     ]
    },
    {
     "name": "stdout",
     "output_type": "stream",
     "text": [
      "Train loss: 0.2943898232874537\n",
      "Validating...\n"
     ]
    },
    {
     "name": "stderr",
     "output_type": "stream",
     "text": [
      "100%|██████████| 987/987 [00:01<00:00, 884.78it/s] "
     ]
    },
    {
     "name": "stdout",
     "output_type": "stream",
     "text": [
      "Looking for threshold\n"
     ]
    },
    {
     "name": "stderr",
     "output_type": "stream",
     "text": [
      "\n"
     ]
    },
    {
     "name": "stdout",
     "output_type": "stream",
     "text": [
      "Best threshold: 0.45000000000000007\n",
      "Validation Metrics - Epoch 44/1000:\n",
      "Loss      :0.2953\n",
      "Accuracy:  0.8723\n",
      "Precision: 0.8697\n",
      "Recall:    0.8764\n",
      "F1-score:  0.8730\n",
      "ROC-AUC:   0.9457\n",
      "Confusion Matrix:\n",
      "55444 7819\n",
      "8310 54751\n",
      "Epoch 45/1000\n"
     ]
    },
    {
     "name": "stderr",
     "output_type": "stream",
     "text": [
      "100%|██████████| 3948/3948 [00:04<00:00, 814.58it/s]\n"
     ]
    },
    {
     "name": "stdout",
     "output_type": "stream",
     "text": [
      "Train loss: 0.2941557666986969\n",
      "Validating...\n"
     ]
    },
    {
     "name": "stderr",
     "output_type": "stream",
     "text": [
      "100%|██████████| 987/987 [00:01<00:00, 899.13it/s] "
     ]
    },
    {
     "name": "stdout",
     "output_type": "stream",
     "text": [
      "Looking for threshold\n"
     ]
    },
    {
     "name": "stderr",
     "output_type": "stream",
     "text": [
      "\n"
     ]
    },
    {
     "name": "stdout",
     "output_type": "stream",
     "text": [
      "Best threshold: 0.44000000000000006\n",
      "Validation Metrics - Epoch 45/1000:\n",
      "Loss      :0.2950\n",
      "Accuracy:  0.8721\n",
      "Precision: 0.8687\n",
      "Recall:    0.8772\n",
      "F1-score:  0.8729\n",
      "ROC-AUC:   0.9458\n",
      "Confusion Matrix:\n",
      "55492 7771\n",
      "8387 54674\n",
      "Epoch 46/1000\n"
     ]
    },
    {
     "name": "stderr",
     "output_type": "stream",
     "text": [
      "100%|██████████| 3948/3948 [00:04<00:00, 790.96it/s]\n"
     ]
    },
    {
     "name": "stdout",
     "output_type": "stream",
     "text": [
      "Train loss: 0.2938900682716626\n",
      "Validating...\n"
     ]
    },
    {
     "name": "stderr",
     "output_type": "stream",
     "text": [
      "100%|██████████| 987/987 [00:01<00:00, 857.88it/s] "
     ]
    },
    {
     "name": "stdout",
     "output_type": "stream",
     "text": [
      "Looking for threshold\n"
     ]
    },
    {
     "name": "stderr",
     "output_type": "stream",
     "text": [
      "\n"
     ]
    },
    {
     "name": "stdout",
     "output_type": "stream",
     "text": [
      "Best threshold: 0.4600000000000001\n",
      "Validation Metrics - Epoch 46/1000:\n",
      "Loss      :0.2947\n",
      "Accuracy:  0.8721\n",
      "Precision: 0.8688\n",
      "Recall:    0.8770\n",
      "F1-score:  0.8729\n",
      "ROC-AUC:   0.9459\n",
      "Confusion Matrix:\n",
      "55482 7781\n",
      "8379 54682\n",
      "Epoch 47/1000\n"
     ]
    },
    {
     "name": "stderr",
     "output_type": "stream",
     "text": [
      "100%|██████████| 3948/3948 [00:04<00:00, 796.12it/s]\n"
     ]
    },
    {
     "name": "stdout",
     "output_type": "stream",
     "text": [
      "Train loss: 0.2936736189145991\n",
      "Validating...\n"
     ]
    },
    {
     "name": "stderr",
     "output_type": "stream",
     "text": [
      "100%|██████████| 987/987 [00:01<00:00, 862.48it/s] "
     ]
    },
    {
     "name": "stdout",
     "output_type": "stream",
     "text": [
      "Looking for threshold\n"
     ]
    },
    {
     "name": "stderr",
     "output_type": "stream",
     "text": [
      "\n"
     ]
    },
    {
     "name": "stdout",
     "output_type": "stream",
     "text": [
      "Best threshold: 0.45000000000000007\n",
      "Validation Metrics - Epoch 47/1000:\n",
      "Loss      :0.2947\n",
      "Accuracy:  0.8718\n",
      "Precision: 0.8662\n",
      "Recall:    0.8801\n",
      "F1-score:  0.8731\n",
      "ROC-AUC:   0.9460\n",
      "Confusion Matrix:\n",
      "55675 7588\n",
      "8603 54458\n",
      "Epoch 48/1000\n"
     ]
    },
    {
     "name": "stderr",
     "output_type": "stream",
     "text": [
      "100%|██████████| 3948/3948 [00:04<00:00, 792.55it/s]\n"
     ]
    },
    {
     "name": "stdout",
     "output_type": "stream",
     "text": [
      "Train loss: 0.2934356439583147\n",
      "Validating...\n"
     ]
    },
    {
     "name": "stderr",
     "output_type": "stream",
     "text": [
      "100%|██████████| 987/987 [00:01<00:00, 882.64it/s] "
     ]
    },
    {
     "name": "stdout",
     "output_type": "stream",
     "text": [
      "Looking for threshold\n"
     ]
    },
    {
     "name": "stderr",
     "output_type": "stream",
     "text": [
      "\n"
     ]
    },
    {
     "name": "stdout",
     "output_type": "stream",
     "text": [
      "Best threshold: 0.43000000000000005\n",
      "Validation Metrics - Epoch 48/1000:\n",
      "Loss      :0.2947\n",
      "Accuracy:  0.8722\n",
      "Precision: 0.8680\n",
      "Recall:    0.8785\n",
      "F1-score:  0.8732\n",
      "ROC-AUC:   0.9460\n",
      "Confusion Matrix:\n",
      "55576 7687\n",
      "8452 54609\n",
      "Epoch 49/1000\n"
     ]
    },
    {
     "name": "stderr",
     "output_type": "stream",
     "text": [
      "100%|██████████| 3948/3948 [00:04<00:00, 810.29it/s]\n"
     ]
    },
    {
     "name": "stdout",
     "output_type": "stream",
     "text": [
      "Train loss: 0.2932080580214116\n",
      "Validating...\n"
     ]
    },
    {
     "name": "stderr",
     "output_type": "stream",
     "text": [
      "100%|██████████| 987/987 [00:01<00:00, 866.00it/s] "
     ]
    },
    {
     "name": "stdout",
     "output_type": "stream",
     "text": [
      "Looking for threshold\n"
     ]
    },
    {
     "name": "stderr",
     "output_type": "stream",
     "text": [
      "\n"
     ]
    },
    {
     "name": "stdout",
     "output_type": "stream",
     "text": [
      "Best threshold: 0.42000000000000004\n",
      "Validation Metrics - Epoch 49/1000:\n",
      "Loss      :0.2944\n",
      "Accuracy:  0.8718\n",
      "Precision: 0.8649\n",
      "Recall:    0.8817\n",
      "F1-score:  0.8732\n",
      "ROC-AUC:   0.9461\n",
      "Confusion Matrix:\n",
      "55777 7486\n",
      "8714 54347\n",
      "Epoch 50/1000\n"
     ]
    },
    {
     "name": "stderr",
     "output_type": "stream",
     "text": [
      "100%|██████████| 3948/3948 [00:04<00:00, 792.20it/s]\n"
     ]
    },
    {
     "name": "stdout",
     "output_type": "stream",
     "text": [
      "Train loss: 0.29294958559696194\n",
      "Validating...\n"
     ]
    },
    {
     "name": "stderr",
     "output_type": "stream",
     "text": [
      "100%|██████████| 987/987 [00:01<00:00, 888.18it/s] "
     ]
    },
    {
     "name": "stdout",
     "output_type": "stream",
     "text": [
      "Looking for threshold\n"
     ]
    },
    {
     "name": "stderr",
     "output_type": "stream",
     "text": [
      "\n"
     ]
    },
    {
     "name": "stdout",
     "output_type": "stream",
     "text": [
      "Best threshold: 0.45000000000000007\n",
      "Validation Metrics - Epoch 50/1000:\n",
      "Loss      :0.2940\n",
      "Accuracy:  0.8728\n",
      "Precision: 0.8699\n",
      "Recall:    0.8771\n",
      "F1-score:  0.8735\n",
      "ROC-AUC:   0.9462\n",
      "Confusion Matrix:\n",
      "55491 7772\n",
      "8301 54760\n",
      "Epoch 51/1000\n"
     ]
    },
    {
     "name": "stderr",
     "output_type": "stream",
     "text": [
      "100%|██████████| 3948/3948 [00:04<00:00, 800.74it/s]\n"
     ]
    },
    {
     "name": "stdout",
     "output_type": "stream",
     "text": [
      "Train loss: 0.29274528554386886\n",
      "Validating...\n"
     ]
    },
    {
     "name": "stderr",
     "output_type": "stream",
     "text": [
      "100%|██████████| 987/987 [00:01<00:00, 850.50it/s] "
     ]
    },
    {
     "name": "stdout",
     "output_type": "stream",
     "text": [
      "Looking for threshold\n"
     ]
    },
    {
     "name": "stderr",
     "output_type": "stream",
     "text": [
      "\n"
     ]
    },
    {
     "name": "stdout",
     "output_type": "stream",
     "text": [
      "Best threshold: 0.43000000000000005\n",
      "Validation Metrics - Epoch 51/1000:\n",
      "Loss      :0.2940\n",
      "Accuracy:  0.8725\n",
      "Precision: 0.8673\n",
      "Recall:    0.8800\n",
      "F1-score:  0.8736\n",
      "ROC-AUC:   0.9462\n",
      "Confusion Matrix:\n",
      "55673 7590\n",
      "8520 54541\n",
      "Epoch 52/1000\n"
     ]
    },
    {
     "name": "stderr",
     "output_type": "stream",
     "text": [
      "100%|██████████| 3948/3948 [00:04<00:00, 813.61it/s]\n"
     ]
    },
    {
     "name": "stdout",
     "output_type": "stream",
     "text": [
      "Train loss: 0.29255937281788424\n",
      "Validating...\n"
     ]
    },
    {
     "name": "stderr",
     "output_type": "stream",
     "text": [
      "100%|██████████| 987/987 [00:01<00:00, 867.11it/s] "
     ]
    },
    {
     "name": "stdout",
     "output_type": "stream",
     "text": [
      "Looking for threshold\n"
     ]
    },
    {
     "name": "stderr",
     "output_type": "stream",
     "text": [
      "\n"
     ]
    },
    {
     "name": "stdout",
     "output_type": "stream",
     "text": [
      "Best threshold: 0.4600000000000001\n",
      "Validation Metrics - Epoch 52/1000:\n",
      "Loss      :0.2936\n",
      "Accuracy:  0.8733\n",
      "Precision: 0.8722\n",
      "Recall:    0.8753\n",
      "F1-score:  0.8738\n",
      "ROC-AUC:   0.9464\n",
      "Confusion Matrix:\n",
      "55376 7887\n",
      "8115 54946\n",
      "Epoch 53/1000\n"
     ]
    },
    {
     "name": "stderr",
     "output_type": "stream",
     "text": [
      "100%|██████████| 3948/3948 [00:04<00:00, 814.22it/s]\n"
     ]
    },
    {
     "name": "stdout",
     "output_type": "stream",
     "text": [
      "Train loss: 0.2923740944216498\n",
      "Validating...\n"
     ]
    },
    {
     "name": "stderr",
     "output_type": "stream",
     "text": [
      "100%|██████████| 987/987 [00:01<00:00, 849.95it/s] "
     ]
    },
    {
     "name": "stdout",
     "output_type": "stream",
     "text": [
      "Looking for threshold\n"
     ]
    },
    {
     "name": "stderr",
     "output_type": "stream",
     "text": [
      "\n"
     ]
    },
    {
     "name": "stdout",
     "output_type": "stream",
     "text": [
      "Best threshold: 0.4600000000000001\n",
      "Validation Metrics - Epoch 53/1000:\n",
      "Loss      :0.2932\n",
      "Accuracy:  0.8735\n",
      "Precision: 0.8711\n",
      "Recall:    0.8773\n",
      "F1-score:  0.8742\n",
      "ROC-AUC:   0.9465\n",
      "Confusion Matrix:\n",
      "55503 7760\n",
      "8215 54846\n",
      "Epoch 54/1000\n"
     ]
    },
    {
     "name": "stderr",
     "output_type": "stream",
     "text": [
      "100%|██████████| 3948/3948 [00:04<00:00, 803.74it/s]\n"
     ]
    },
    {
     "name": "stdout",
     "output_type": "stream",
     "text": [
      "Train loss: 0.29212897844620145\n",
      "Validating...\n"
     ]
    },
    {
     "name": "stderr",
     "output_type": "stream",
     "text": [
      "100%|██████████| 987/987 [00:01<00:00, 844.06it/s] "
     ]
    },
    {
     "name": "stdout",
     "output_type": "stream",
     "text": [
      "Looking for threshold\n"
     ]
    },
    {
     "name": "stderr",
     "output_type": "stream",
     "text": [
      "\n"
     ]
    },
    {
     "name": "stdout",
     "output_type": "stream",
     "text": [
      "Best threshold: 0.4700000000000001\n",
      "Validation Metrics - Epoch 54/1000:\n",
      "Loss      :0.2932\n",
      "Accuracy:  0.8738\n",
      "Precision: 0.8752\n",
      "Recall:    0.8724\n",
      "F1-score:  0.8738\n",
      "ROC-AUC:   0.9464\n",
      "Confusion Matrix:\n",
      "55191 8072\n",
      "7867 55194\n",
      "Epoch 55/1000\n"
     ]
    },
    {
     "name": "stderr",
     "output_type": "stream",
     "text": [
      "100%|██████████| 3948/3948 [00:04<00:00, 796.12it/s]\n"
     ]
    },
    {
     "name": "stdout",
     "output_type": "stream",
     "text": [
      "Train loss: 0.291983163650426\n",
      "Validating...\n"
     ]
    },
    {
     "name": "stderr",
     "output_type": "stream",
     "text": [
      "100%|██████████| 987/987 [00:01<00:00, 846.24it/s] "
     ]
    },
    {
     "name": "stdout",
     "output_type": "stream",
     "text": [
      "Looking for threshold\n"
     ]
    },
    {
     "name": "stderr",
     "output_type": "stream",
     "text": [
      "\n"
     ]
    },
    {
     "name": "stdout",
     "output_type": "stream",
     "text": [
      "Best threshold: 0.45000000000000007\n",
      "Validation Metrics - Epoch 55/1000:\n",
      "Loss      :0.2930\n",
      "Accuracy:  0.8737\n",
      "Precision: 0.8726\n",
      "Recall:    0.8756\n",
      "F1-score:  0.8741\n",
      "ROC-AUC:   0.9465\n",
      "Confusion Matrix:\n",
      "55392 7871\n",
      "8088 54973\n",
      "Epoch 56/1000\n"
     ]
    },
    {
     "name": "stderr",
     "output_type": "stream",
     "text": [
      "100%|██████████| 3948/3948 [00:04<00:00, 799.95it/s]\n"
     ]
    },
    {
     "name": "stdout",
     "output_type": "stream",
     "text": [
      "Train loss: 0.29175561079576146\n",
      "Validating...\n"
     ]
    },
    {
     "name": "stderr",
     "output_type": "stream",
     "text": [
      "100%|██████████| 987/987 [00:01<00:00, 840.74it/s] "
     ]
    },
    {
     "name": "stdout",
     "output_type": "stream",
     "text": [
      "Looking for threshold\n"
     ]
    },
    {
     "name": "stderr",
     "output_type": "stream",
     "text": [
      "\n"
     ]
    },
    {
     "name": "stdout",
     "output_type": "stream",
     "text": [
      "Best threshold: 0.45000000000000007\n",
      "Validation Metrics - Epoch 56/1000:\n",
      "Loss      :0.2928\n",
      "Accuracy:  0.8731\n",
      "Precision: 0.8690\n",
      "Recall:    0.8791\n",
      "F1-score:  0.8740\n",
      "ROC-AUC:   0.9466\n",
      "Confusion Matrix:\n",
      "55617 7646\n",
      "8387 54674\n",
      "Epoch 57/1000\n"
     ]
    },
    {
     "name": "stderr",
     "output_type": "stream",
     "text": [
      "100%|██████████| 3948/3948 [00:04<00:00, 822.44it/s]\n"
     ]
    },
    {
     "name": "stdout",
     "output_type": "stream",
     "text": [
      "Train loss: 0.29158540150828155\n",
      "Validating...\n"
     ]
    },
    {
     "name": "stderr",
     "output_type": "stream",
     "text": [
      "100%|██████████| 987/987 [00:01<00:00, 867.00it/s] "
     ]
    },
    {
     "name": "stdout",
     "output_type": "stream",
     "text": [
      "Looking for threshold\n"
     ]
    },
    {
     "name": "stderr",
     "output_type": "stream",
     "text": [
      "\n"
     ]
    },
    {
     "name": "stdout",
     "output_type": "stream",
     "text": [
      "Best threshold: 0.44000000000000006\n",
      "Validation Metrics - Epoch 57/1000:\n",
      "Loss      :0.2928\n",
      "Accuracy:  0.8729\n",
      "Precision: 0.8692\n",
      "Recall:    0.8785\n",
      "F1-score:  0.8738\n",
      "ROC-AUC:   0.9466\n",
      "Confusion Matrix:\n",
      "55578 7685\n",
      "8367 54694\n",
      "Epoch 58/1000\n"
     ]
    },
    {
     "name": "stderr",
     "output_type": "stream",
     "text": [
      "100%|██████████| 3948/3948 [00:05<00:00, 776.82it/s]\n"
     ]
    },
    {
     "name": "stdout",
     "output_type": "stream",
     "text": [
      "Train loss: 0.29141384736835774\n",
      "Validating...\n"
     ]
    },
    {
     "name": "stderr",
     "output_type": "stream",
     "text": [
      "100%|██████████| 987/987 [00:01<00:00, 869.49it/s] "
     ]
    },
    {
     "name": "stdout",
     "output_type": "stream",
     "text": [
      "Looking for threshold\n"
     ]
    },
    {
     "name": "stderr",
     "output_type": "stream",
     "text": [
      "\n"
     ]
    },
    {
     "name": "stdout",
     "output_type": "stream",
     "text": [
      "Best threshold: 0.44000000000000006\n",
      "Validation Metrics - Epoch 58/1000:\n",
      "Loss      :0.2925\n",
      "Accuracy:  0.8729\n",
      "Precision: 0.8665\n",
      "Recall:    0.8820\n",
      "F1-score:  0.8742\n",
      "ROC-AUC:   0.9467\n",
      "Confusion Matrix:\n",
      "55799 7464\n",
      "8596 54465\n",
      "Epoch 59/1000\n"
     ]
    },
    {
     "name": "stderr",
     "output_type": "stream",
     "text": [
      "100%|██████████| 3948/3948 [00:04<00:00, 790.39it/s]\n"
     ]
    },
    {
     "name": "stdout",
     "output_type": "stream",
     "text": [
      "Train loss: 0.29124885463847455\n",
      "Validating...\n"
     ]
    },
    {
     "name": "stderr",
     "output_type": "stream",
     "text": [
      "100%|██████████| 987/987 [00:01<00:00, 882.49it/s] "
     ]
    },
    {
     "name": "stdout",
     "output_type": "stream",
     "text": [
      "Looking for threshold\n"
     ]
    },
    {
     "name": "stderr",
     "output_type": "stream",
     "text": [
      "\n"
     ]
    },
    {
     "name": "stdout",
     "output_type": "stream",
     "text": [
      "Best threshold: 0.4700000000000001\n",
      "Validation Metrics - Epoch 59/1000:\n",
      "Loss      :0.2923\n",
      "Accuracy:  0.8744\n",
      "Precision: 0.8753\n",
      "Recall:    0.8735\n",
      "F1-score:  0.8744\n",
      "ROC-AUC:   0.9468\n",
      "Confusion Matrix:\n",
      "55263 8000\n",
      "7871 55190\n",
      "Epoch 60/1000\n"
     ]
    },
    {
     "name": "stderr",
     "output_type": "stream",
     "text": [
      "100%|██████████| 3948/3948 [00:04<00:00, 790.41it/s]\n"
     ]
    },
    {
     "name": "stdout",
     "output_type": "stream",
     "text": [
      "Train loss: 0.29101540282625316\n",
      "Validating...\n"
     ]
    },
    {
     "name": "stderr",
     "output_type": "stream",
     "text": [
      "100%|██████████| 987/987 [00:01<00:00, 856.63it/s] "
     ]
    },
    {
     "name": "stdout",
     "output_type": "stream",
     "text": [
      "Looking for threshold\n"
     ]
    },
    {
     "name": "stderr",
     "output_type": "stream",
     "text": [
      "\n"
     ]
    },
    {
     "name": "stdout",
     "output_type": "stream",
     "text": [
      "Best threshold: 0.4700000000000001\n",
      "Validation Metrics - Epoch 60/1000:\n",
      "Loss      :0.2923\n",
      "Accuracy:  0.8739\n",
      "Precision: 0.8737\n",
      "Recall:    0.8745\n",
      "F1-score:  0.8741\n",
      "ROC-AUC:   0.9468\n",
      "Confusion Matrix:\n",
      "55324 7939\n",
      "7995 55066\n",
      "Epoch 61/1000\n"
     ]
    },
    {
     "name": "stderr",
     "output_type": "stream",
     "text": [
      "100%|██████████| 3948/3948 [00:04<00:00, 818.51it/s]\n"
     ]
    },
    {
     "name": "stdout",
     "output_type": "stream",
     "text": [
      "Train loss: 0.29087271930115804\n",
      "Validating...\n"
     ]
    },
    {
     "name": "stderr",
     "output_type": "stream",
     "text": [
      "100%|██████████| 987/987 [00:01<00:00, 843.22it/s] "
     ]
    },
    {
     "name": "stdout",
     "output_type": "stream",
     "text": [
      "Looking for threshold\n"
     ]
    },
    {
     "name": "stderr",
     "output_type": "stream",
     "text": [
      "\n"
     ]
    },
    {
     "name": "stdout",
     "output_type": "stream",
     "text": [
      "Best threshold: 0.44000000000000006\n",
      "Validation Metrics - Epoch 61/1000:\n",
      "Loss      :0.2920\n",
      "Accuracy:  0.8727\n",
      "Precision: 0.8641\n",
      "Recall:    0.8851\n",
      "F1-score:  0.8745\n",
      "ROC-AUC:   0.9469\n",
      "Confusion Matrix:\n",
      "55997 7266\n",
      "8809 54252\n",
      "Epoch 62/1000\n"
     ]
    },
    {
     "name": "stderr",
     "output_type": "stream",
     "text": [
      "100%|██████████| 3948/3948 [00:04<00:00, 816.09it/s]\n"
     ]
    },
    {
     "name": "stdout",
     "output_type": "stream",
     "text": [
      "Train loss: 0.2906936113482007\n",
      "Validating...\n"
     ]
    },
    {
     "name": "stderr",
     "output_type": "stream",
     "text": [
      "100%|██████████| 987/987 [00:01<00:00, 848.59it/s] "
     ]
    },
    {
     "name": "stdout",
     "output_type": "stream",
     "text": [
      "Looking for threshold\n"
     ]
    },
    {
     "name": "stderr",
     "output_type": "stream",
     "text": [
      "\n"
     ]
    },
    {
     "name": "stdout",
     "output_type": "stream",
     "text": [
      "Best threshold: 0.4700000000000001\n",
      "Validation Metrics - Epoch 62/1000:\n",
      "Loss      :0.2918\n",
      "Accuracy:  0.8747\n",
      "Precision: 0.8772\n",
      "Recall:    0.8719\n",
      "F1-score:  0.8745\n",
      "ROC-AUC:   0.9470\n",
      "Confusion Matrix:\n",
      "55160 8103\n",
      "7723 55338\n",
      "Epoch 63/1000\n"
     ]
    },
    {
     "name": "stderr",
     "output_type": "stream",
     "text": [
      "100%|██████████| 3948/3948 [00:04<00:00, 811.18it/s]\n"
     ]
    },
    {
     "name": "stdout",
     "output_type": "stream",
     "text": [
      "Train loss: 0.29050308707893924\n",
      "Validating...\n"
     ]
    },
    {
     "name": "stderr",
     "output_type": "stream",
     "text": [
      "100%|██████████| 987/987 [00:01<00:00, 862.88it/s] "
     ]
    },
    {
     "name": "stdout",
     "output_type": "stream",
     "text": [
      "Looking for threshold\n"
     ]
    },
    {
     "name": "stderr",
     "output_type": "stream",
     "text": [
      "\n"
     ]
    },
    {
     "name": "stdout",
     "output_type": "stream",
     "text": [
      "Best threshold: 0.45000000000000007\n",
      "Validation Metrics - Epoch 63/1000:\n",
      "Loss      :0.2919\n",
      "Accuracy:  0.8737\n",
      "Precision: 0.8708\n",
      "Recall:    0.8781\n",
      "F1-score:  0.8744\n",
      "ROC-AUC:   0.9469\n",
      "Confusion Matrix:\n",
      "55553 7710\n",
      "8246 54815\n",
      "Epoch 64/1000\n"
     ]
    },
    {
     "name": "stderr",
     "output_type": "stream",
     "text": [
      "100%|██████████| 3948/3948 [00:04<00:00, 807.36it/s]\n"
     ]
    },
    {
     "name": "stdout",
     "output_type": "stream",
     "text": [
      "Train loss: 0.29034620586107085\n",
      "Validating...\n"
     ]
    },
    {
     "name": "stderr",
     "output_type": "stream",
     "text": [
      "100%|██████████| 987/987 [00:01<00:00, 864.72it/s] "
     ]
    },
    {
     "name": "stdout",
     "output_type": "stream",
     "text": [
      "Looking for threshold\n"
     ]
    },
    {
     "name": "stderr",
     "output_type": "stream",
     "text": [
      "\n"
     ]
    },
    {
     "name": "stdout",
     "output_type": "stream",
     "text": [
      "Best threshold: 0.44000000000000006\n",
      "Validation Metrics - Epoch 64/1000:\n",
      "Loss      :0.2917\n",
      "Accuracy:  0.8735\n",
      "Precision: 0.8678\n",
      "Recall:    0.8816\n",
      "F1-score:  0.8746\n",
      "ROC-AUC:   0.9470\n",
      "Confusion Matrix:\n",
      "55772 7491\n",
      "8495 54566\n",
      "Epoch 65/1000\n"
     ]
    },
    {
     "name": "stderr",
     "output_type": "stream",
     "text": [
      "100%|██████████| 3948/3948 [00:04<00:00, 811.70it/s]\n"
     ]
    },
    {
     "name": "stdout",
     "output_type": "stream",
     "text": [
      "Train loss: 0.2902361991217977\n",
      "Validating...\n"
     ]
    },
    {
     "name": "stderr",
     "output_type": "stream",
     "text": [
      "100%|██████████| 987/987 [00:01<00:00, 855.05it/s] "
     ]
    },
    {
     "name": "stdout",
     "output_type": "stream",
     "text": [
      "Looking for threshold\n"
     ]
    },
    {
     "name": "stderr",
     "output_type": "stream",
     "text": [
      "\n"
     ]
    },
    {
     "name": "stdout",
     "output_type": "stream",
     "text": [
      "Best threshold: 0.43000000000000005\n",
      "Validation Metrics - Epoch 65/1000:\n",
      "Loss      :0.2916\n",
      "Accuracy:  0.8735\n",
      "Precision: 0.8672\n",
      "Recall:    0.8825\n",
      "F1-score:  0.8748\n",
      "ROC-AUC:   0.9471\n",
      "Confusion Matrix:\n",
      "55830 7433\n",
      "8548 54513\n",
      "Epoch 66/1000\n"
     ]
    },
    {
     "name": "stderr",
     "output_type": "stream",
     "text": [
      "100%|██████████| 3948/3948 [00:04<00:00, 797.67it/s]\n"
     ]
    },
    {
     "name": "stdout",
     "output_type": "stream",
     "text": [
      "Train loss: 0.29003423983806775\n",
      "Validating...\n"
     ]
    },
    {
     "name": "stderr",
     "output_type": "stream",
     "text": [
      "100%|██████████| 987/987 [00:01<00:00, 880.75it/s] "
     ]
    },
    {
     "name": "stdout",
     "output_type": "stream",
     "text": [
      "Looking for threshold\n"
     ]
    },
    {
     "name": "stderr",
     "output_type": "stream",
     "text": [
      "\n"
     ]
    },
    {
     "name": "stdout",
     "output_type": "stream",
     "text": [
      "Best threshold: 0.45000000000000007\n",
      "Validation Metrics - Epoch 66/1000:\n",
      "Loss      :0.2917\n",
      "Accuracy:  0.8753\n",
      "Precision: 0.8783\n",
      "Recall:    0.8718\n",
      "F1-score:  0.8750\n",
      "ROC-AUC:   0.9471\n",
      "Confusion Matrix:\n",
      "55151 8112\n",
      "7640 55421\n",
      "Epoch 67/1000\n"
     ]
    },
    {
     "name": "stderr",
     "output_type": "stream",
     "text": [
      "100%|██████████| 3948/3948 [00:04<00:00, 805.85it/s]\n"
     ]
    },
    {
     "name": "stdout",
     "output_type": "stream",
     "text": [
      "Train loss: 0.2898574387909431\n",
      "Validating...\n"
     ]
    },
    {
     "name": "stderr",
     "output_type": "stream",
     "text": [
      "100%|██████████| 987/987 [00:01<00:00, 872.23it/s] "
     ]
    },
    {
     "name": "stdout",
     "output_type": "stream",
     "text": [
      "Looking for threshold\n"
     ]
    },
    {
     "name": "stderr",
     "output_type": "stream",
     "text": [
      "\n"
     ]
    },
    {
     "name": "stdout",
     "output_type": "stream",
     "text": [
      "Best threshold: 0.4800000000000001\n",
      "Validation Metrics - Epoch 67/1000:\n",
      "Loss      :0.2914\n",
      "Accuracy:  0.8750\n",
      "Precision: 0.8785\n",
      "Recall:    0.8709\n",
      "F1-score:  0.8747\n",
      "ROC-AUC:   0.9471\n",
      "Confusion Matrix:\n",
      "55093 8170\n",
      "7620 55441\n",
      "Epoch 68/1000\n"
     ]
    },
    {
     "name": "stderr",
     "output_type": "stream",
     "text": [
      "100%|██████████| 3948/3948 [00:04<00:00, 809.21it/s]\n"
     ]
    },
    {
     "name": "stdout",
     "output_type": "stream",
     "text": [
      "Train loss: 0.2897276913798145\n",
      "Validating...\n"
     ]
    },
    {
     "name": "stderr",
     "output_type": "stream",
     "text": [
      "100%|██████████| 987/987 [00:01<00:00, 885.81it/s] "
     ]
    },
    {
     "name": "stdout",
     "output_type": "stream",
     "text": [
      "Looking for threshold\n"
     ]
    },
    {
     "name": "stderr",
     "output_type": "stream",
     "text": [
      "\n"
     ]
    },
    {
     "name": "stdout",
     "output_type": "stream",
     "text": [
      "Best threshold: 0.45000000000000007\n",
      "Validation Metrics - Epoch 68/1000:\n",
      "Loss      :0.2914\n",
      "Accuracy:  0.8748\n",
      "Precision: 0.8746\n",
      "Recall:    0.8756\n",
      "F1-score:  0.8751\n",
      "ROC-AUC:   0.9471\n",
      "Confusion Matrix:\n",
      "55392 7871\n",
      "7942 55119\n",
      "Epoch 69/1000\n"
     ]
    },
    {
     "name": "stderr",
     "output_type": "stream",
     "text": [
      "100%|██████████| 3948/3948 [00:04<00:00, 807.91it/s]\n"
     ]
    },
    {
     "name": "stdout",
     "output_type": "stream",
     "text": [
      "Train loss: 0.289579194035332\n",
      "Validating...\n"
     ]
    },
    {
     "name": "stderr",
     "output_type": "stream",
     "text": [
      "100%|██████████| 987/987 [00:01<00:00, 884.86it/s] "
     ]
    },
    {
     "name": "stdout",
     "output_type": "stream",
     "text": [
      "Looking for threshold\n"
     ]
    },
    {
     "name": "stderr",
     "output_type": "stream",
     "text": [
      "\n"
     ]
    },
    {
     "name": "stdout",
     "output_type": "stream",
     "text": [
      "Best threshold: 0.45000000000000007\n",
      "Validation Metrics - Epoch 69/1000:\n",
      "Loss      :0.2910\n",
      "Accuracy:  0.8749\n",
      "Precision: 0.8740\n",
      "Recall:    0.8767\n",
      "F1-score:  0.8753\n",
      "ROC-AUC:   0.9472\n",
      "Confusion Matrix:\n",
      "55465 7798\n",
      "7999 55062\n",
      "Epoch 70/1000\n"
     ]
    },
    {
     "name": "stderr",
     "output_type": "stream",
     "text": [
      "100%|██████████| 3948/3948 [00:05<00:00, 779.56it/s]\n"
     ]
    },
    {
     "name": "stdout",
     "output_type": "stream",
     "text": [
      "Train loss: 0.2894649758761354\n",
      "Validating...\n"
     ]
    },
    {
     "name": "stderr",
     "output_type": "stream",
     "text": [
      "100%|██████████| 987/987 [00:01<00:00, 872.54it/s] "
     ]
    },
    {
     "name": "stdout",
     "output_type": "stream",
     "text": [
      "Looking for threshold\n"
     ]
    },
    {
     "name": "stderr",
     "output_type": "stream",
     "text": [
      "\n"
     ]
    },
    {
     "name": "stdout",
     "output_type": "stream",
     "text": [
      "Best threshold: 0.45000000000000007\n",
      "Validation Metrics - Epoch 70/1000:\n",
      "Loss      :0.2911\n",
      "Accuracy:  0.8751\n",
      "Precision: 0.8769\n",
      "Recall:    0.8731\n",
      "F1-score:  0.8750\n",
      "ROC-AUC:   0.9473\n",
      "Confusion Matrix:\n",
      "55238 8025\n",
      "7755 55306\n",
      "Epoch 71/1000\n"
     ]
    },
    {
     "name": "stderr",
     "output_type": "stream",
     "text": [
      "100%|██████████| 3948/3948 [00:04<00:00, 813.70it/s]\n"
     ]
    },
    {
     "name": "stdout",
     "output_type": "stream",
     "text": [
      "Train loss: 0.28928827058444634\n",
      "Validating...\n"
     ]
    },
    {
     "name": "stderr",
     "output_type": "stream",
     "text": [
      "100%|██████████| 987/987 [00:01<00:00, 868.85it/s] "
     ]
    },
    {
     "name": "stdout",
     "output_type": "stream",
     "text": [
      "Looking for threshold\n"
     ]
    },
    {
     "name": "stderr",
     "output_type": "stream",
     "text": [
      "\n"
     ]
    },
    {
     "name": "stdout",
     "output_type": "stream",
     "text": [
      "Best threshold: 0.42000000000000004\n",
      "Validation Metrics - Epoch 71/1000:\n",
      "Loss      :0.2913\n",
      "Accuracy:  0.8741\n",
      "Precision: 0.8683\n",
      "Recall:    0.8823\n",
      "F1-score:  0.8753\n",
      "ROC-AUC:   0.9473\n",
      "Confusion Matrix:\n",
      "55820 7443\n",
      "8464 54597\n",
      "Epoch 72/1000\n"
     ]
    },
    {
     "name": "stderr",
     "output_type": "stream",
     "text": [
      "100%|██████████| 3948/3948 [00:04<00:00, 808.86it/s]\n"
     ]
    },
    {
     "name": "stdout",
     "output_type": "stream",
     "text": [
      "Train loss: 0.28910864507656814\n",
      "Validating...\n"
     ]
    },
    {
     "name": "stderr",
     "output_type": "stream",
     "text": [
      "100%|██████████| 987/987 [00:01<00:00, 862.28it/s] "
     ]
    },
    {
     "name": "stdout",
     "output_type": "stream",
     "text": [
      "Looking for threshold\n"
     ]
    },
    {
     "name": "stderr",
     "output_type": "stream",
     "text": [
      "\n"
     ]
    },
    {
     "name": "stdout",
     "output_type": "stream",
     "text": [
      "Best threshold: 0.44000000000000006\n",
      "Validation Metrics - Epoch 72/1000:\n",
      "Loss      :0.2906\n",
      "Accuracy:  0.8746\n",
      "Precision: 0.8714\n",
      "Recall:    0.8793\n",
      "F1-score:  0.8753\n",
      "ROC-AUC:   0.9474\n",
      "Confusion Matrix:\n",
      "55625 7638\n",
      "8209 54852\n",
      "Epoch 73/1000\n"
     ]
    },
    {
     "name": "stderr",
     "output_type": "stream",
     "text": [
      "100%|██████████| 3948/3948 [00:04<00:00, 803.61it/s]\n"
     ]
    },
    {
     "name": "stdout",
     "output_type": "stream",
     "text": [
      "Train loss: 0.2889884530614756\n",
      "Validating...\n"
     ]
    },
    {
     "name": "stderr",
     "output_type": "stream",
     "text": [
      "100%|██████████| 987/987 [00:01<00:00, 872.23it/s] "
     ]
    },
    {
     "name": "stdout",
     "output_type": "stream",
     "text": [
      "Looking for threshold\n"
     ]
    },
    {
     "name": "stderr",
     "output_type": "stream",
     "text": [
      "\n"
     ]
    },
    {
     "name": "stdout",
     "output_type": "stream",
     "text": [
      "Best threshold: 0.4800000000000001\n",
      "Validation Metrics - Epoch 73/1000:\n",
      "Loss      :0.2905\n",
      "Accuracy:  0.8757\n",
      "Precision: 0.8779\n",
      "Recall:    0.8732\n",
      "F1-score:  0.8755\n",
      "ROC-AUC:   0.9475\n",
      "Confusion Matrix:\n",
      "55243 8020\n",
      "7686 55375\n",
      "Epoch 74/1000\n"
     ]
    },
    {
     "name": "stderr",
     "output_type": "stream",
     "text": [
      "100%|██████████| 3948/3948 [00:04<00:00, 798.67it/s]\n"
     ]
    },
    {
     "name": "stdout",
     "output_type": "stream",
     "text": [
      "Train loss: 0.2888499867990085\n",
      "Validating...\n"
     ]
    },
    {
     "name": "stderr",
     "output_type": "stream",
     "text": [
      "100%|██████████| 987/987 [00:01<00:00, 861.55it/s] "
     ]
    },
    {
     "name": "stdout",
     "output_type": "stream",
     "text": [
      "Looking for threshold\n"
     ]
    },
    {
     "name": "stderr",
     "output_type": "stream",
     "text": [
      "\n"
     ]
    },
    {
     "name": "stdout",
     "output_type": "stream",
     "text": [
      "Best threshold: 0.45000000000000007\n",
      "Validation Metrics - Epoch 74/1000:\n",
      "Loss      :0.2903\n",
      "Accuracy:  0.8745\n",
      "Precision: 0.8708\n",
      "Recall:    0.8799\n",
      "F1-score:  0.8754\n",
      "ROC-AUC:   0.9475\n",
      "Confusion Matrix:\n",
      "55667 7596\n",
      "8256 54805\n",
      "Epoch 75/1000\n"
     ]
    },
    {
     "name": "stderr",
     "output_type": "stream",
     "text": [
      "100%|██████████| 3948/3948 [00:04<00:00, 793.00it/s]\n"
     ]
    },
    {
     "name": "stdout",
     "output_type": "stream",
     "text": [
      "Train loss: 0.2886871023116805\n",
      "Validating...\n"
     ]
    },
    {
     "name": "stderr",
     "output_type": "stream",
     "text": [
      "100%|██████████| 987/987 [00:01<00:00, 853.86it/s] "
     ]
    },
    {
     "name": "stdout",
     "output_type": "stream",
     "text": [
      "Looking for threshold\n"
     ]
    },
    {
     "name": "stderr",
     "output_type": "stream",
     "text": [
      "\n"
     ]
    },
    {
     "name": "stdout",
     "output_type": "stream",
     "text": [
      "Best threshold: 0.44000000000000006\n",
      "Validation Metrics - Epoch 75/1000:\n",
      "Loss      :0.2908\n",
      "Accuracy:  0.8750\n",
      "Precision: 0.8753\n",
      "Recall:    0.8749\n",
      "F1-score:  0.8751\n",
      "ROC-AUC:   0.9474\n",
      "Confusion Matrix:\n",
      "55349 7914\n",
      "7882 55179\n",
      "Epoch 76/1000\n"
     ]
    },
    {
     "name": "stderr",
     "output_type": "stream",
     "text": [
      "100%|██████████| 3948/3948 [00:05<00:00, 768.40it/s]\n"
     ]
    },
    {
     "name": "stdout",
     "output_type": "stream",
     "text": [
      "Train loss: 0.2886072778291132\n",
      "Validating...\n"
     ]
    },
    {
     "name": "stderr",
     "output_type": "stream",
     "text": [
      "100%|██████████| 987/987 [00:01<00:00, 861.25it/s] "
     ]
    },
    {
     "name": "stdout",
     "output_type": "stream",
     "text": [
      "Looking for threshold\n"
     ]
    },
    {
     "name": "stderr",
     "output_type": "stream",
     "text": [
      "\n"
     ]
    },
    {
     "name": "stdout",
     "output_type": "stream",
     "text": [
      "Best threshold: 0.43000000000000005\n",
      "Validation Metrics - Epoch 76/1000:\n",
      "Loss      :0.2905\n",
      "Accuracy:  0.8752\n",
      "Precision: 0.8734\n",
      "Recall:    0.8780\n",
      "F1-score:  0.8757\n",
      "ROC-AUC:   0.9476\n",
      "Confusion Matrix:\n",
      "55546 7717\n",
      "8053 55008\n",
      "Epoch 77/1000\n"
     ]
    },
    {
     "name": "stderr",
     "output_type": "stream",
     "text": [
      "100%|██████████| 3948/3948 [00:04<00:00, 805.26it/s]\n"
     ]
    },
    {
     "name": "stdout",
     "output_type": "stream",
     "text": [
      "Train loss: 0.28842090325771613\n",
      "Validating...\n"
     ]
    },
    {
     "name": "stderr",
     "output_type": "stream",
     "text": [
      "100%|██████████| 987/987 [00:01<00:00, 851.09it/s] "
     ]
    },
    {
     "name": "stdout",
     "output_type": "stream",
     "text": [
      "Looking for threshold\n"
     ]
    },
    {
     "name": "stderr",
     "output_type": "stream",
     "text": [
      "\n"
     ]
    },
    {
     "name": "stdout",
     "output_type": "stream",
     "text": [
      "Best threshold: 0.43000000000000005\n",
      "Validation Metrics - Epoch 77/1000:\n",
      "Loss      :0.2902\n",
      "Accuracy:  0.8743\n",
      "Precision: 0.8688\n",
      "Recall:    0.8823\n",
      "F1-score:  0.8755\n",
      "ROC-AUC:   0.9475\n",
      "Confusion Matrix:\n",
      "55815 7448\n",
      "8432 54629\n",
      "Epoch 78/1000\n"
     ]
    },
    {
     "name": "stderr",
     "output_type": "stream",
     "text": [
      "100%|██████████| 3948/3948 [00:04<00:00, 798.64it/s]\n"
     ]
    },
    {
     "name": "stdout",
     "output_type": "stream",
     "text": [
      "Train loss: 0.28830205786901525\n",
      "Validating...\n"
     ]
    },
    {
     "name": "stderr",
     "output_type": "stream",
     "text": [
      "100%|██████████| 987/987 [00:01<00:00, 823.18it/s] "
     ]
    },
    {
     "name": "stdout",
     "output_type": "stream",
     "text": [
      "Looking for threshold\n"
     ]
    },
    {
     "name": "stderr",
     "output_type": "stream",
     "text": [
      "\n"
     ]
    },
    {
     "name": "stdout",
     "output_type": "stream",
     "text": [
      "Best threshold: 0.45000000000000007\n",
      "Validation Metrics - Epoch 78/1000:\n",
      "Loss      :0.2905\n",
      "Accuracy:  0.8739\n",
      "Precision: 0.8659\n",
      "Recall:    0.8854\n",
      "F1-score:  0.8755\n",
      "ROC-AUC:   0.9475\n",
      "Confusion Matrix:\n",
      "56012 7251\n",
      "8673 54388\n",
      "Epoch 79/1000\n"
     ]
    },
    {
     "name": "stderr",
     "output_type": "stream",
     "text": [
      "100%|██████████| 3948/3948 [00:04<00:00, 811.20it/s]\n"
     ]
    },
    {
     "name": "stdout",
     "output_type": "stream",
     "text": [
      "Train loss: 0.2881537346658132\n",
      "Validating...\n"
     ]
    },
    {
     "name": "stderr",
     "output_type": "stream",
     "text": [
      "100%|██████████| 987/987 [00:01<00:00, 863.60it/s] "
     ]
    },
    {
     "name": "stdout",
     "output_type": "stream",
     "text": [
      "Looking for threshold\n"
     ]
    },
    {
     "name": "stderr",
     "output_type": "stream",
     "text": [
      "\n"
     ]
    },
    {
     "name": "stdout",
     "output_type": "stream",
     "text": [
      "Best threshold: 0.4600000000000001\n",
      "Validation Metrics - Epoch 79/1000:\n",
      "Loss      :0.2899\n",
      "Accuracy:  0.8751\n",
      "Precision: 0.8747\n",
      "Recall:    0.8761\n",
      "F1-score:  0.8754\n",
      "ROC-AUC:   0.9476\n",
      "Confusion Matrix:\n",
      "55426 7837\n",
      "7938 55123\n",
      "Epoch 80/1000\n"
     ]
    },
    {
     "name": "stderr",
     "output_type": "stream",
     "text": [
      "100%|██████████| 3948/3948 [00:05<00:00, 749.13it/s]\n"
     ]
    },
    {
     "name": "stdout",
     "output_type": "stream",
     "text": [
      "Train loss: 0.28806286737353004\n",
      "Validating...\n"
     ]
    },
    {
     "name": "stderr",
     "output_type": "stream",
     "text": [
      "100%|██████████| 987/987 [00:01<00:00, 833.33it/s] "
     ]
    },
    {
     "name": "stdout",
     "output_type": "stream",
     "text": [
      "Looking for threshold\n"
     ]
    },
    {
     "name": "stderr",
     "output_type": "stream",
     "text": [
      "\n"
     ]
    },
    {
     "name": "stdout",
     "output_type": "stream",
     "text": [
      "Best threshold: 0.43000000000000005\n",
      "Validation Metrics - Epoch 80/1000:\n",
      "Loss      :0.2899\n",
      "Accuracy:  0.8745\n",
      "Precision: 0.8694\n",
      "Recall:    0.8818\n",
      "F1-score:  0.8756\n",
      "ROC-AUC:   0.9477\n",
      "Confusion Matrix:\n",
      "55787 7476\n",
      "8377 54684\n",
      "Epoch 81/1000\n"
     ]
    },
    {
     "name": "stderr",
     "output_type": "stream",
     "text": [
      "100%|██████████| 3948/3948 [00:04<00:00, 790.63it/s]\n"
     ]
    },
    {
     "name": "stdout",
     "output_type": "stream",
     "text": [
      "Train loss: 0.2879265473274233\n",
      "Validating...\n"
     ]
    },
    {
     "name": "stderr",
     "output_type": "stream",
     "text": [
      "100%|██████████| 987/987 [00:01<00:00, 870.86it/s] "
     ]
    },
    {
     "name": "stdout",
     "output_type": "stream",
     "text": [
      "Looking for threshold\n"
     ]
    },
    {
     "name": "stderr",
     "output_type": "stream",
     "text": [
      "\n"
     ]
    },
    {
     "name": "stdout",
     "output_type": "stream",
     "text": [
      "Best threshold: 0.4600000000000001\n",
      "Validation Metrics - Epoch 81/1000:\n",
      "Loss      :0.2899\n",
      "Accuracy:  0.8748\n",
      "Precision: 0.8724\n",
      "Recall:    0.8785\n",
      "F1-score:  0.8755\n",
      "ROC-AUC:   0.9476\n",
      "Confusion Matrix:\n",
      "55579 7684\n",
      "8129 54932\n",
      "Early stopping!!!\n",
      "Early stopping!!!\n",
      "Early stopping!!!\n",
      "Best epoch: 96\n"
     ]
    }
   ],
   "source": [
    "model = MLP(input_size).to(device)\n",
    "criterion = nn.BCEWithLogitsLoss()\n",
    "optimizer = optim.Adam(model.parameters(), lr=1e-4)\n",
    "\n",
    "best_threshold = train(\n",
    "    model,\n",
    "    train_loader,\n",
    "    val_loader,\n",
    "    optimizer,\n",
    "    criterion,\n",
    "    device,\n",
    "    1000,\n",
    "    results_df\n",
    ")"
   ]
  },
  {
   "cell_type": "code",
   "execution_count": 18,
   "metadata": {},
   "outputs": [
    {
     "name": "stderr",
     "output_type": "stream",
     "text": [
      "100%|██████████| 2205/2205 [00:02<00:00, 1035.96it/s]\n"
     ]
    },
    {
     "name": "stdout",
     "output_type": "stream",
     "text": [
      "Test Metrics:\n",
      "Accuracy:  0.8200\n",
      "Precision: 0.8294\n",
      "Recall:    0.8057\n",
      "F1-score:  0.8174\n",
      "ROC-AUC:   0.8955\n",
      "Confusion Matrix:\n",
      "113648 27412\n",
      "23375 117685\n",
      "Test Loss: 0.5182\n"
     ]
    }
   ],
   "source": [
    "test(\n",
    "    model,\n",
    "    test_loader,\n",
    "    device,\n",
    "    criterion,\n",
    "    best_threshold\n",
    ")"
   ]
  }
 ],
 "metadata": {
  "kernelspec": {
   "display_name": "musicbrainz",
   "language": "python",
   "name": "python3"
  },
  "language_info": {
   "codemirror_mode": {
    "name": "ipython",
    "version": 3
   },
   "file_extension": ".py",
   "mimetype": "text/x-python",
   "name": "python",
   "nbconvert_exporter": "python",
   "pygments_lexer": "ipython3",
   "version": "3.12.7"
  }
 },
 "nbformat": 4,
 "nbformat_minor": 2
}
