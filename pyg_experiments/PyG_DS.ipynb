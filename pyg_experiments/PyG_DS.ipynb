{
 "cells": [
  {
   "cell_type": "markdown",
   "id": "4555dc82-32f6-490f-982c-96f49dd267c6",
   "metadata": {},
   "source": [
    "# DataSet PyG\n",
    "\n",
    "by Alejandro Fernández Sánchez"
   ]
  },
  {
   "cell_type": "markdown",
   "id": "e3e3c1b2-72e4-4811-8421-c680d091faac",
   "metadata": {},
   "source": [
    "## Initialization"
   ]
  },
  {
   "cell_type": "code",
   "id": "2bfbfb49-7057-426e-a87a-72834be5573d",
   "metadata": {
    "ExecuteTime": {
     "end_time": "2025-01-03T15:37:24.434637Z",
     "start_time": "2025-01-03T15:37:24.430622Z"
    }
   },
   "source": [
    "from neo4j.graph import Node\n",
    "from neo4j import GraphDatabase, basic_auth\n",
    "from dotenv import load_dotenv\n",
    "import numpy as np\n",
    "import os\n",
    "from typing import Optional\n",
    "import torch\n",
    "\n",
    "from torch_geometric.data import HeteroData"
   ],
   "outputs": [],
   "execution_count": 32
  },
  {
   "cell_type": "code",
   "id": "fbc7a3e8-3adb-492d-918f-db7f9dbc017d",
   "metadata": {
    "ExecuteTime": {
     "end_time": "2025-01-03T15:37:24.821807Z",
     "start_time": "2025-01-03T15:37:24.809233Z"
    }
   },
   "source": [
    "load_dotenv()"
   ],
   "outputs": [
    {
     "data": {
      "text/plain": [
       "True"
      ]
     },
     "execution_count": 33,
     "metadata": {},
     "output_type": "execute_result"
    }
   ],
   "execution_count": 33
  },
  {
   "cell_type": "code",
   "id": "6a9eb8cb-5f11-4bba-af8e-3a7a26fe10f4",
   "metadata": {
    "ExecuteTime": {
     "end_time": "2025-01-03T15:37:24.992964Z",
     "start_time": "2025-01-03T15:37:24.988515Z"
    }
   },
   "source": [
    "DB_HOST = os.getenv(\"NEO4J_HOST\")\n",
    "DB_PORT = os.getenv(\"NEO4J_PORT\")\n",
    "DB_USER = os.getenv(\"NEO4J_USER\")\n",
    "DB_PASS = os.getenv(\"NEO4J_PASS\")\n",
    "LAST_FM_API_KEY = os.getenv(\"LAST_FM_API_KEY\")\n",
    "\n",
    "# .env validation\n",
    "assert DB_HOST is not None and \\\n",
    "    DB_PORT is not None and \\\n",
    "    DB_USER is not None and \\\n",
    "    DB_PASS is not None, \\\n",
    "    \"INVALID .env\""
   ],
   "outputs": [],
   "execution_count": 34
  },
  {
   "cell_type": "code",
   "id": "56c346ad-8560-4842-bc60-11be1d86cffb",
   "metadata": {
    "ExecuteTime": {
     "end_time": "2025-01-03T15:37:25.099301Z",
     "start_time": "2025-01-03T15:37:25.094988Z"
    }
   },
   "source": [
    "driver = GraphDatabase.driver(f\"bolt://{DB_HOST}:{DB_PORT}\", auth=basic_auth(DB_USER, DB_PASS))\n",
    "driver"
   ],
   "outputs": [
    {
     "data": {
      "text/plain": [
       "<neo4j._sync.driver.BoltDriver at 0x7fc31efadcd0>"
      ]
     },
     "execution_count": 35,
     "metadata": {},
     "output_type": "execute_result"
    }
   ],
   "execution_count": 35
  },
  {
   "cell_type": "code",
   "id": "8e6af8ca-c06d-4ef6-babf-b8cdf6f1f7b9",
   "metadata": {
    "ExecuteTime": {
     "end_time": "2025-01-03T15:37:26.080061Z",
     "start_time": "2025-01-03T15:37:25.765733Z"
    }
   },
   "source": [
    "!mkdir -p ds"
   ],
   "outputs": [],
   "execution_count": 36
  },
  {
   "cell_type": "code",
   "id": "d2b34e66-5351-411e-b57a-819acef09e36",
   "metadata": {
    "ExecuteTime": {
     "end_time": "2025-01-03T15:37:26.084906Z",
     "start_time": "2025-01-03T15:37:26.081996Z"
    }
   },
   "source": [
    "if not torch.cuda.is_available():\n",
    "    raise Exception(\"No cuda found!\")"
   ],
   "outputs": [],
   "execution_count": 37
  },
  {
   "cell_type": "code",
   "id": "df74ea6e-a417-434b-a89e-9ffce252ea91",
   "metadata": {
    "ExecuteTime": {
     "end_time": "2025-01-03T15:37:26.689201Z",
     "start_time": "2025-01-03T15:37:26.684671Z"
    }
   },
   "source": [
    "device = torch.device(\"cuda\" if torch.cuda.is_available() else \"cpu\")\n",
    "device"
   ],
   "outputs": [
    {
     "data": {
      "text/plain": [
       "device(type='cuda')"
      ]
     },
     "execution_count": 38,
     "metadata": {},
     "output_type": "execute_result"
    }
   ],
   "execution_count": 38
  },
  {
   "cell_type": "markdown",
   "id": "49721501-0269-451e-b322-a5e28e27a55f",
   "metadata": {},
   "source": [
    "## Dataset creation"
   ]
  },
  {
   "cell_type": "markdown",
   "id": "45fa46ae-f88b-4ada-8350-67aa1f79de68",
   "metadata": {},
   "source": [
    "### Helper class"
   ]
  },
  {
   "cell_type": "code",
   "id": "3ec3a859-835f-428d-bc54-566701814dff",
   "metadata": {
    "ExecuteTime": {
     "end_time": "2025-01-03T15:37:29.826808Z",
     "start_time": "2025-01-03T15:37:29.819962Z"
    }
   },
   "source": [
    "class IdMap:\n",
    "    \"\"\"Helper class to store a mapping from strings to ids.\"\"\"\n",
    "    def __init__(self):\n",
    "        self.str_to_id = dict()\n",
    "        self.id_to_str = list()\n",
    "\n",
    "    def __len__(self):\n",
    "        \"\"\"Return number of terms stored in the IdMap\"\"\"\n",
    "        assert len(self.str_to_id) == len(self.id_to_str)\n",
    "        return len(self.id_to_str)\n",
    "\n",
    "    def _get_str(self, i):\n",
    "        \"\"\"Returns the string corresponding to a given id (`i`).\"\"\"\n",
    "        return self.id_to_str[i]\n",
    "\n",
    "    def _get_id(self, s):\n",
    "        \"\"\"Returns the id corresponding to a string (`s`). \n",
    "        If `s` is not in the IdMap yet, then assigns a new id and returns the new id.\n",
    "        \"\"\"\n",
    "        if s in self.str_to_id:\n",
    "            idx = self.str_to_id[s]\n",
    "        else:\n",
    "            idx = len(self.str_to_id)\n",
    "            self.str_to_id[s] = idx\n",
    "            self.id_to_str.append(s)\n",
    "        assert len(self.str_to_id) == len(self.id_to_str)  \n",
    "        return idx\n",
    "\n",
    "    def __getitem__(self, key):\n",
    "        \"\"\"If `key` is a integer, use _get_str; \n",
    "           If `key` is a string, use _get_id;\"\"\"\n",
    "        if type(key) is int:\n",
    "            return self._get_str(key)\n",
    "        elif type(key) is str:\n",
    "            return self._get_id(key)\n",
    "        else:\n",
    "            raise TypeError(\"Type not supported\")\n",
    "\n",
    "artist_map = IdMap()\n",
    "track_map = IdMap()\n",
    "tag_map = IdMap()"
   ],
   "outputs": [],
   "execution_count": 39
  },
  {
   "cell_type": "markdown",
   "id": "1e9cf2df-6d1c-4cd6-89fd-4909a9fa8b3d",
   "metadata": {},
   "source": [
    "### Helper vars"
   ]
  },
  {
   "metadata": {
    "ExecuteTime": {
     "end_time": "2025-01-03T15:41:57.782886Z",
     "start_time": "2025-01-03T15:41:57.713139Z"
    }
   },
   "cell_type": "code",
   "source": [
    "def get_x_count(x: str):\n",
    "    with driver.session() as session:\n",
    "        query = f\"MATCH {x} return COUNT(*) AS c\"\n",
    "        return session.run(query).data()[0][\"c\"]\n",
    "\n",
    "artist_count = get_x_count(\"(:Artist)\")\n",
    "track_count = get_x_count(\"(:Track)\")\n",
    "tag_count = get_x_count(\"(:Tag)\")\n",
    "\n",
    "print(\"artist_count:\", artist_count)\n",
    "print(\"track_count:\", track_count)\n",
    "print(\"tag_count:\", tag_count)\n",
    "\n",
    "print()\n",
    "\n",
    "worked_in_count = get_x_count(\"()-[:WORKED_IN]->()\")\n",
    "worked_by_count = get_x_count(\"()-[:WORKED_BY]->()\")\n",
    "collab_with_count = get_x_count(\"()-[:COLLAB_WITH]->()\")\n",
    "musically_related_to_count = get_x_count(\"()-[:MUSICALLY_RELATED_TO]->()\")\n",
    "personally_related_to_count = get_x_count(\"()-[:PERSONALLY_RELATED_TO]->()\")\n",
    "linked_to_count = get_x_count(\"()-[:LINKED_TO]->()\")\n",
    "last_fm_match_count = get_x_count(\"()-[:LAST_FM_MATCH]->()\")\n",
    "artist_has_tag_count = get_x_count(\"(:Artist)-[:HAS_TAG]->()\")\n",
    "artist_tags_count = get_x_count(\"()-[:TAGS]->(:Artist)\")\n",
    "track_has_tag_count = get_x_count(\"(:Track)-[:HAS_TAG]->()\")\n",
    "track_tags_count = get_x_count(\"()-[:TAGS]->(:Track)\")\n",
    "\n",
    "print(\"worked_in_count:\", worked_in_count)\n",
    "print(\"worked_by_count:\", worked_by_count)\n",
    "print(\"collab_with_count:\", collab_with_count)\n",
    "print(\"musically_related_to_count:\", musically_related_to_count)\n",
    "print(\"personally_related_to_count:\", personally_related_to_count)\n",
    "print(\"linked_to_count:\", linked_to_count)\n",
    "print(\"last_fm_match_count:\", last_fm_match_count)\n",
    "print(\"artist_has_tag_count:\", artist_has_tag_count)\n",
    "print(\"artist_tags_count:\", artist_tags_count)\n",
    "print(\"track_has_tag_count:\", track_has_tag_count)\n",
    "print(\"track_tags_count:\", track_tags_count)"
   ],
   "id": "6cc2fc5b5a10149a",
   "outputs": [
    {
     "name": "stdout",
     "output_type": "stream",
     "text": [
      "artist_count: 1489250\n",
      "track_count: 24324100\n",
      "tag_count: 23\n",
      "\n",
      "worked_in_count: 27661673\n",
      "worked_by_count: 27661673\n",
      "collab_with_count: 2463052\n",
      "musically_related_to_count: 373262\n",
      "personally_related_to_count: 26720\n",
      "linked_to_count: 23128\n",
      "last_fm_match_count: 154865250\n",
      "artist_has_tag_count: 2410207\n",
      "artist_tags_count: 2410207\n",
      "track_has_tag_count: 4030735\n",
      "track_tags_count: 4030735\n"
     ]
    }
   ],
   "execution_count": 54
  },
  {
   "metadata": {
    "ExecuteTime": {
     "end_time": "2025-01-03T15:41:58.327960Z",
     "start_time": "2025-01-03T15:41:58.325268Z"
    }
   },
   "cell_type": "code",
   "source": [
    "# 1                        -> begin_date\n",
    "# 2                        -> end_date\n",
    "# 3                        -> ended\n",
    "# 4,5,6,7,8                -> gender1-5\n",
    "# 9                        -> popularity_scaled\n",
    "# 10,11,12,13,14,15        -> type1-6\n",
    "artist_attr_count = 15\n",
    "\n",
    "# 1   -> popularity_scaled\n",
    "# 2   -> year\n",
    "# 3,4 -> sem1-2\n",
    "track_attr_count = 4"
   ],
   "id": "c76889cb6c15d276",
   "outputs": [],
   "execution_count": 55
  },
  {
   "cell_type": "code",
   "id": "040497bc-35f2-49b2-b54c-a8c3f057ccaa",
   "metadata": {
    "ExecuteTime": {
     "end_time": "2025-01-03T15:57:28.558836Z",
     "start_time": "2025-01-03T15:57:28.549871Z"
    }
   },
   "source": [
    "# TODO: Check if everything fits into memory or if I have to process everything separately\n",
    "\n",
    "# Nodes\n",
    "artist_seen = set()\n",
    "artist_x = torch.empty((artist_count, artist_attr_count + 1), dtype=torch.float16)\n",
    "\n",
    "track_seen = set()\n",
    "track_x = torch.empty((track_count, track_attr_count + 1), dtype=torch.float16)\n",
    "\n",
    "tag_seen = set()\n",
    "tag_x = torch.ones((tag_count, 1), dtype=torch.float16)\n",
    "\n",
    "# Relationship indexes\n",
    "worked_in_index, worked_in_helper_idx = torch.empty((worked_in_count, 2), dtype=torch.int32), 0\n",
    "worked_by_index, worked_by_helper_idx = torch.empty((worked_by_count, 2), dtype=torch.int32), 0\n",
    "collab_with_index, collab_with_helper_idx = torch.empty((collab_with_count, 2), dtype=torch.int32), 0\n",
    "musically_related_to_index, musically_related_to_helper_idx = torch.empty((musically_related_to_count, 2), dtype=torch.int32), 0\n",
    "personally_related_to_index, personally_related_to_helper_idx = torch.empty((personally_related_to_count, 2), dtype=torch.int32), 0\n",
    "linked_to_index, linked_to_helper_idx = torch.empty((linked_to_count, 2), dtype=torch.int32), 0\n",
    "last_fm_match_index, last_fm_match_helper_idx = torch.empty((last_fm_match_count, 2), dtype=torch.int32), 0\n",
    "artist_has_tag_index, artist_has_tag_helper_idx = torch.empty((artist_has_tag_count, 2), dtype=torch.int32), 0\n",
    "artist_tags_index, artist_tags_helper_idx = torch.empty((artist_tags_count, 2), dtype=torch.int32), 0\n",
    "track_has_tag_index, track_has_tag_helper_idx = torch.empty((track_has_tag_count, 2), dtype=torch.int32), 0\n",
    "track_tags_index, track_tags_helper_idx = torch.empty((track_tags_count, 2), dtype=torch.int32), 0\n",
    "\n",
    "# Relationship attributes\n",
    "collab_with_attributes = torch.empty((collab_with_count, 1), dtype=torch.float16)\n",
    "musically_related_to_attributes = torch.empty((musically_related_to_count, 1), dtype=torch.float16)\n",
    "personally_related_to_attributes = torch.empty((personally_related_to_count, 1), dtype=torch.float16)\n",
    "linked_to_attributes = torch.empty((linked_to_count, 1), dtype=torch.float16)\n",
    "last_fm_match_attributes = torch.empty((last_fm_match_count, 1), dtype=torch.float16)"
   ],
   "outputs": [],
   "execution_count": 64
  },
  {
   "metadata": {
    "ExecuteTime": {
     "end_time": "2025-01-03T15:57:29.047669Z",
     "start_time": "2025-01-03T15:57:29.044170Z"
    }
   },
   "cell_type": "code",
   "source": [
    "def add_relationship_to_dataset(\n",
    "    id0: int,\n",
    "    id1: int,\n",
    "    rel_index: int,\n",
    "    rel_tensor: torch.Tensor,\n",
    "    attribute: Optional[float] = None,\n",
    "    relationship_attributes: Optional[torch.Tensor] = None\n",
    "):\n",
    "    rel_tensor[rel_index, 0] = id0\n",
    "    rel_tensor[rel_index, 1] = id1\n",
    "    if relationship_attributes is not None:\n",
    "        relationship_attributes[rel_index] = attribute"
   ],
   "id": "fc9c0de96386c105",
   "outputs": [],
   "execution_count": 65
  },
  {
   "metadata": {
    "ExecuteTime": {
     "end_time": "2025-01-03T15:57:29.737006Z",
     "start_time": "2025-01-03T15:57:29.730874Z"
    }
   },
   "cell_type": "code",
   "source": [
    "def add_node_to_dataset(node: Node):\n",
    "\n",
    "    def add_node(\n",
    "        id: int,\n",
    "        seen: set[int],\n",
    "        attributes: list,\n",
    "        attributes_tensor: torch.Tensor\n",
    "    ):\n",
    "        if id in seen:\n",
    "            return\n",
    "        seen.add(id)\n",
    "        for j, attribute in enumerate(attributes):\n",
    "            print(attribute)\n",
    "            attributes_tensor[id, j] = attribute\n",
    "\n",
    "    match node, \"Artist\" in node.labels, \"Track\" in node.labels, \"Tag\" in node.labels:\n",
    "\n",
    "        # Artist\n",
    "        case node, True, False, False:\n",
    "            add_node(\n",
    "                artist_map[node[\"main_id\"]],\n",
    "                artist_seen,\n",
    "                [\n",
    "                    node.get(\"begin_date\", -1),\n",
    "                    node.get(\"end_date\", -1),\n",
    "                    node[\"ended\"],\n",
    "                    *[node[f\"gender_{j}\"] for j in range(1, 6)],\n",
    "                    node[\"popularity_scaled\"],\n",
    "                    *[node[f\"type_{j}\"] for j in range(1, 7)],\n",
    "                    1\n",
    "                ],\n",
    "                artist_x\n",
    "            )\n",
    "\n",
    "        # Track\n",
    "        case node, False, True, False:\n",
    "            add_node(\n",
    "                track_map[node[\"id\"]],\n",
    "                track_seen,\n",
    "                [\n",
    "                    node[\"popularity_scaled\"],\n",
    "                    node[\"year\"],\n",
    "                    node[\"month\"] <= 6,\n",
    "                    node[\"month\"] > 6,\n",
    "                    1\n",
    "                ],\n",
    "                track_x\n",
    "            )\n",
    "        \n",
    "        # Tag\n",
    "        case node, False, False, True:\n",
    "            add_node(\n",
    "                tag_map[node[\"id\"]],\n",
    "                tag_seen,\n",
    "                [1],\n",
    "                tag_x\n",
    "            )\n",
    "        \n",
    "        case _: raise NotImplementedError(f\"Unknown node: {node}\")"
   ],
   "id": "82a68fa2c0263d4a",
   "outputs": [],
   "execution_count": 66
  },
  {
   "cell_type": "markdown",
   "id": "43c7f69c-4b66-41b3-8d60-546e4505f109",
   "metadata": {},
   "source": "### Main algo"
  },
  {
   "cell_type": "code",
   "id": "1d647070-d5d0-4550-8256-de0ee66da25f",
   "metadata": {
    "ExecuteTime": {
     "end_time": "2025-01-03T15:57:31.168113Z",
     "start_time": "2025-01-03T15:57:31.083767Z"
    }
   },
   "source": [
    "\n",
    "query = \"\"\"\n",
    "    MATCH (a)-[r]->(b)\n",
    "    return a, r, type(r) as r_type, b\n",
    "    limit 5\n",
    "    ;\n",
    "\"\"\"\n",
    "with driver.session() as session:\n",
    "    records = session.run(query)  # type: ignore\n",
    "    for i, record in enumerate(records):\n",
    "        \n",
    "        # Nodes\n",
    "        add_node_to_dataset(record[\"a\"])\n",
    "        add_node_to_dataset(record[\"b\"])\n",
    "        \n",
    "        # Relationships\n",
    "        # TODO: Maybe change TAGS and HAS_TAGS to be different depending on the node type (Artist or Track), should make this loop faster\n",
    "        match record[\"r_type\"], record[\"a\"], \"Artist\" in record[\"a\"].labels, record[\"b\"], \"Artist\" in record[\"b\"].labels, record[\"r\"]:\n",
    "\n",
    "            # ('Artist', 'HAS_TAG', 'Tag')\n",
    "            case \"HAS_TAG\", artist, True, tag, _, _:\n",
    "                add_relationship_to_dataset(\n",
    "                    artist_map[artist[\"main_id\"]],\n",
    "                    tag_map[tag[\"id\"]],\n",
    "                    artist_has_tag_helper_idx,\n",
    "                    artist_has_tag_index,\n",
    "                )\n",
    "                artist_has_tag_helper_idx += 1\n",
    "\n",
    "            # ('Tag', 'TAGS', 'Artist')\n",
    "            case \"TAGS\", tag, _, artist, True, _:\n",
    "                add_relationship_to_dataset(\n",
    "                    tag_map[tag[\"id\"]],\n",
    "                    artist_map[artist[\"main_id\"]],\n",
    "                    artist_tags_helper_idx,\n",
    "                    artist_tags_index\n",
    "                )\n",
    "                artist_tags_helper_idx += 1\n",
    "\n",
    "            # ('Track', 'HAS_TAG', 'Tag')\n",
    "            case \"HAS_TAG\", track, False, tag, _, _:\n",
    "                add_relationship_to_dataset(\n",
    "                    track_map[track[\"id\"]],\n",
    "                    tag_map[tag[\"id\"]],\n",
    "                    track_has_tag_helper_idx,\n",
    "                    track_has_tag_index\n",
    "                )\n",
    "                track_has_tag_helper_idx += 1\n",
    "\n",
    "            # ('Tag', 'TAGS', 'Track')\n",
    "            case \"TAGS\", tag, _, track, False, _:\n",
    "                add_relationship_to_dataset(\n",
    "                    tag_map[tag[\"id\"]],\n",
    "                    track_map[track[\"id\"]],\n",
    "                    track_tags_helper_idx,\n",
    "                    track_tags_index\n",
    "                )\n",
    "                track_tags_helper_idx += 1\n",
    "\n",
    "            # ('Artist', 'WORKED_IN', 'Track')\n",
    "            case \"WORKED_IN\", artist, _, track, _, _:\n",
    "                add_relationship_to_dataset(\n",
    "                    artist_map[artist[\"main_id\"]],\n",
    "                    track_map[track[\"id\"]],\n",
    "                    worked_in_helper_idx,\n",
    "                    worked_in_index\n",
    "                )\n",
    "                worked_in_helper_idx += 1\n",
    "\n",
    "            # ('Track', 'WORKED_BY', 'Artist')\n",
    "            case \"WORKED_BY\", track, _, artist, _, _:\n",
    "                add_relationship_to_dataset(\n",
    "                    track_map[track[\"id\"]],\n",
    "                    artist_map[artist[\"main_id\"]],\n",
    "                    worked_by_helper_idx,\n",
    "                    worked_by_index\n",
    "                )\n",
    "                worked_by_helper_idx += 1\n",
    "\n",
    "            # ('Artist', 'COLLAB_WITH', 'Artist')\n",
    "            case \"COLLAB_WITH\", artist0, _, artist1, _, r:\n",
    "                add_relationship_to_dataset(\n",
    "                    artist_map[artist0[\"main_id\"]],\n",
    "                    artist_map[artist1[\"main_id\"]],\n",
    "                    collab_with_helper_idx,\n",
    "                    collab_with_index,\n",
    "                    r[\"count\"],\n",
    "                    collab_with_attributes\n",
    "                )\n",
    "                collab_with_helper_idx += 1\n",
    "\n",
    "            # ('Artist', 'MUSICALLY_RELATED_TO', 'Artist')\n",
    "            case \"MUSICALLY_RELATED_TO\", artist0, _, artist1, _, r:\n",
    "                add_relationship_to_dataset(\n",
    "                    artist_map[artist0[\"main_id\"]],\n",
    "                    artist_map[artist1[\"main_id\"]],\n",
    "                    musically_related_to_helper_idx,\n",
    "                    musically_related_to_index,\n",
    "                    r[\"count\"],\n",
    "                    musically_related_to_attributes\n",
    "                )\n",
    "                musically_related_to_helper_idx += 1\n",
    "\n",
    "            # ('Artist', 'PERSONALLY_RELATED_TO', 'Artist')\n",
    "            case \"PERSONALLY_RELATED_TO\", artist0, _, artist1, _, r:\n",
    "                add_relationship_to_dataset(\n",
    "                    artist_map[artist0[\"main_id\"]],\n",
    "                    artist_map[artist1[\"main_id\"]],\n",
    "                    personally_related_to_helper_idx,\n",
    "                    personally_related_to_index,\n",
    "                    r[\"count\"],\n",
    "                    personally_related_to_attributes\n",
    "                )\n",
    "                personally_related_to_helper_idx += 1\n",
    "\n",
    "            # ('Artist', 'MUSICALLY_RELATED_TO', 'Artist')\n",
    "            case \"LINKED_TO\", artist0, _, artist1, _, r:\n",
    "                add_relationship_to_dataset(\n",
    "                    artist_map[artist0[\"main_id\"]],\n",
    "                    artist_map[artist1[\"main_id\"]],\n",
    "                    linked_to_helper_idx,\n",
    "                    linked_to_index,\n",
    "                    r[\"count\"],\n",
    "                    linked_to_attributes\n",
    "                )\n",
    "                linked_to_helper_idx += 1\n",
    "\n",
    "            # ('Artist', 'LAST_FM_MATCH', 'Artist')\n",
    "            case \"LAST_FM_MATCH\", artist0, _, artist1, _, r:\n",
    "                add_relationship_to_dataset(\n",
    "                    artist_map[artist0[\"main_id\"]],\n",
    "                    artist_map[artist1[\"main_id\"]],\n",
    "                    last_fm_match_helper_idx,\n",
    "                    last_fm_match_index,\n",
    "                    r[\"weight\"],\n",
    "                    last_fm_match_attributes,\n",
    "                )\n",
    "                last_fm_match_helper_idx += 1\n",
    "\n",
    "            case _: raise NotImplementedError(f\"Unknown case in match. Relationship type: {record[\"r_type\"]}\")\n",
    "        "
   ],
   "outputs": [
    {
     "name": "stdout",
     "output_type": "stream",
     "text": [
      "-1\n",
      "-1\n",
      "0.0\n",
      "False\n",
      "False\n",
      "False\n",
      "False\n",
      "False\n",
      "None\n"
     ]
    },
    {
     "ename": "TypeError",
     "evalue": "can't assign a NoneType to a torch.HalfTensor",
     "output_type": "error",
     "traceback": [
      "\u001B[0;31m---------------------------------------------------------------------------\u001B[0m",
      "\u001B[0;31mTypeError\u001B[0m                                 Traceback (most recent call last)",
      "Cell \u001B[0;32mIn[67], line 12\u001B[0m\n\u001B[1;32m      8\u001B[0m records \u001B[38;5;241m=\u001B[39m session\u001B[38;5;241m.\u001B[39mrun(query)  \u001B[38;5;66;03m# type: ignore\u001B[39;00m\n\u001B[1;32m      9\u001B[0m \u001B[38;5;28;01mfor\u001B[39;00m i, record \u001B[38;5;129;01min\u001B[39;00m \u001B[38;5;28menumerate\u001B[39m(records):\n\u001B[1;32m     10\u001B[0m     \n\u001B[1;32m     11\u001B[0m     \u001B[38;5;66;03m# Nodes\u001B[39;00m\n\u001B[0;32m---> 12\u001B[0m     \u001B[43madd_node_to_dataset\u001B[49m\u001B[43m(\u001B[49m\u001B[43mrecord\u001B[49m\u001B[43m[\u001B[49m\u001B[38;5;124;43m\"\u001B[39;49m\u001B[38;5;124;43ma\u001B[39;49m\u001B[38;5;124;43m\"\u001B[39;49m\u001B[43m]\u001B[49m\u001B[43m)\u001B[49m\n\u001B[1;32m     13\u001B[0m     add_node_to_dataset(record[\u001B[38;5;124m\"\u001B[39m\u001B[38;5;124mb\u001B[39m\u001B[38;5;124m\"\u001B[39m])\n\u001B[1;32m     15\u001B[0m     \u001B[38;5;66;03m# Relationships\u001B[39;00m\n\u001B[1;32m     16\u001B[0m     \u001B[38;5;66;03m# TODO: Maybe change TAGS and HAS_TAGS to be different depending on the node type (Artist or Track), should make this loop faster\u001B[39;00m\n",
      "Cell \u001B[0;32mIn[66], line 20\u001B[0m, in \u001B[0;36madd_node_to_dataset\u001B[0;34m(node)\u001B[0m\n\u001B[1;32m     16\u001B[0m \u001B[38;5;28;01mmatch\u001B[39;00m node, \u001B[38;5;124m\"\u001B[39m\u001B[38;5;124mArtist\u001B[39m\u001B[38;5;124m\"\u001B[39m \u001B[38;5;129;01min\u001B[39;00m node\u001B[38;5;241m.\u001B[39mlabels, \u001B[38;5;124m\"\u001B[39m\u001B[38;5;124mTrack\u001B[39m\u001B[38;5;124m\"\u001B[39m \u001B[38;5;129;01min\u001B[39;00m node\u001B[38;5;241m.\u001B[39mlabels, \u001B[38;5;124m\"\u001B[39m\u001B[38;5;124mTag\u001B[39m\u001B[38;5;124m\"\u001B[39m \u001B[38;5;129;01min\u001B[39;00m node\u001B[38;5;241m.\u001B[39mlabels:\n\u001B[1;32m     17\u001B[0m \n\u001B[1;32m     18\u001B[0m     \u001B[38;5;66;03m# Artist\u001B[39;00m\n\u001B[1;32m     19\u001B[0m     \u001B[38;5;28;01mcase\u001B[39;00m node, \u001B[38;5;28;01mTrue\u001B[39;00m, \u001B[38;5;28;01mFalse\u001B[39;00m, \u001B[38;5;28;01mFalse\u001B[39;00m:\n\u001B[0;32m---> 20\u001B[0m         \u001B[43madd_node\u001B[49m\u001B[43m(\u001B[49m\n\u001B[1;32m     21\u001B[0m \u001B[43m            \u001B[49m\u001B[43martist_map\u001B[49m\u001B[43m[\u001B[49m\u001B[43mnode\u001B[49m\u001B[43m[\u001B[49m\u001B[38;5;124;43m\"\u001B[39;49m\u001B[38;5;124;43mmain_id\u001B[39;49m\u001B[38;5;124;43m\"\u001B[39;49m\u001B[43m]\u001B[49m\u001B[43m]\u001B[49m\u001B[43m,\u001B[49m\n\u001B[1;32m     22\u001B[0m \u001B[43m            \u001B[49m\u001B[43martist_seen\u001B[49m\u001B[43m,\u001B[49m\n\u001B[1;32m     23\u001B[0m \u001B[43m            \u001B[49m\u001B[43m[\u001B[49m\n\u001B[1;32m     24\u001B[0m \u001B[43m                \u001B[49m\u001B[43mnode\u001B[49m\u001B[38;5;241;43m.\u001B[39;49m\u001B[43mget\u001B[49m\u001B[43m(\u001B[49m\u001B[38;5;124;43m\"\u001B[39;49m\u001B[38;5;124;43mbegin_date\u001B[39;49m\u001B[38;5;124;43m\"\u001B[39;49m\u001B[43m,\u001B[49m\u001B[43m \u001B[49m\u001B[38;5;241;43m-\u001B[39;49m\u001B[38;5;241;43m1\u001B[39;49m\u001B[43m)\u001B[49m\u001B[43m,\u001B[49m\n\u001B[1;32m     25\u001B[0m \u001B[43m                \u001B[49m\u001B[43mnode\u001B[49m\u001B[38;5;241;43m.\u001B[39;49m\u001B[43mget\u001B[49m\u001B[43m(\u001B[49m\u001B[38;5;124;43m\"\u001B[39;49m\u001B[38;5;124;43mend_date\u001B[39;49m\u001B[38;5;124;43m\"\u001B[39;49m\u001B[43m,\u001B[49m\u001B[43m \u001B[49m\u001B[38;5;241;43m-\u001B[39;49m\u001B[38;5;241;43m1\u001B[39;49m\u001B[43m)\u001B[49m\u001B[43m,\u001B[49m\n\u001B[1;32m     26\u001B[0m \u001B[43m                \u001B[49m\u001B[43mnode\u001B[49m\u001B[43m[\u001B[49m\u001B[38;5;124;43m\"\u001B[39;49m\u001B[38;5;124;43mended\u001B[39;49m\u001B[38;5;124;43m\"\u001B[39;49m\u001B[43m]\u001B[49m\u001B[43m,\u001B[49m\n\u001B[1;32m     27\u001B[0m \u001B[43m                \u001B[49m\u001B[38;5;241;43m*\u001B[39;49m\u001B[43m[\u001B[49m\u001B[43mnode\u001B[49m\u001B[43m[\u001B[49m\u001B[38;5;124;43mf\u001B[39;49m\u001B[38;5;124;43m\"\u001B[39;49m\u001B[38;5;124;43mgender_\u001B[39;49m\u001B[38;5;132;43;01m{\u001B[39;49;00m\u001B[43mj\u001B[49m\u001B[38;5;132;43;01m}\u001B[39;49;00m\u001B[38;5;124;43m\"\u001B[39;49m\u001B[43m]\u001B[49m\u001B[43m \u001B[49m\u001B[38;5;28;43;01mfor\u001B[39;49;00m\u001B[43m \u001B[49m\u001B[43mj\u001B[49m\u001B[43m \u001B[49m\u001B[38;5;129;43;01min\u001B[39;49;00m\u001B[43m \u001B[49m\u001B[38;5;28;43mrange\u001B[39;49m\u001B[43m(\u001B[49m\u001B[38;5;241;43m1\u001B[39;49m\u001B[43m,\u001B[49m\u001B[43m \u001B[49m\u001B[38;5;241;43m6\u001B[39;49m\u001B[43m)\u001B[49m\u001B[43m]\u001B[49m\u001B[43m,\u001B[49m\n\u001B[1;32m     28\u001B[0m \u001B[43m                \u001B[49m\u001B[43mnode\u001B[49m\u001B[43m[\u001B[49m\u001B[38;5;124;43m\"\u001B[39;49m\u001B[38;5;124;43mpopularity_scaled\u001B[39;49m\u001B[38;5;124;43m\"\u001B[39;49m\u001B[43m]\u001B[49m\u001B[43m,\u001B[49m\n\u001B[1;32m     29\u001B[0m \u001B[43m                \u001B[49m\u001B[38;5;241;43m*\u001B[39;49m\u001B[43m[\u001B[49m\u001B[43mnode\u001B[49m\u001B[43m[\u001B[49m\u001B[38;5;124;43mf\u001B[39;49m\u001B[38;5;124;43m\"\u001B[39;49m\u001B[38;5;124;43mtype_\u001B[39;49m\u001B[38;5;132;43;01m{\u001B[39;49;00m\u001B[43mj\u001B[49m\u001B[38;5;132;43;01m}\u001B[39;49;00m\u001B[38;5;124;43m\"\u001B[39;49m\u001B[43m]\u001B[49m\u001B[43m \u001B[49m\u001B[38;5;28;43;01mfor\u001B[39;49;00m\u001B[43m \u001B[49m\u001B[43mj\u001B[49m\u001B[43m \u001B[49m\u001B[38;5;129;43;01min\u001B[39;49;00m\u001B[43m \u001B[49m\u001B[38;5;28;43mrange\u001B[39;49m\u001B[43m(\u001B[49m\u001B[38;5;241;43m1\u001B[39;49m\u001B[43m,\u001B[49m\u001B[43m \u001B[49m\u001B[38;5;241;43m7\u001B[39;49m\u001B[43m)\u001B[49m\u001B[43m]\u001B[49m\u001B[43m,\u001B[49m\n\u001B[1;32m     30\u001B[0m \u001B[43m                \u001B[49m\u001B[38;5;241;43m1\u001B[39;49m\n\u001B[1;32m     31\u001B[0m \u001B[43m            \u001B[49m\u001B[43m]\u001B[49m\u001B[43m,\u001B[49m\n\u001B[1;32m     32\u001B[0m \u001B[43m            \u001B[49m\u001B[43martist_x\u001B[49m\n\u001B[1;32m     33\u001B[0m \u001B[43m        \u001B[49m\u001B[43m)\u001B[49m\n\u001B[1;32m     35\u001B[0m     \u001B[38;5;66;03m# Track\u001B[39;00m\n\u001B[1;32m     36\u001B[0m     \u001B[38;5;28;01mcase\u001B[39;00m node, \u001B[38;5;28;01mFalse\u001B[39;00m, \u001B[38;5;28;01mTrue\u001B[39;00m, \u001B[38;5;28;01mFalse\u001B[39;00m:\n",
      "Cell \u001B[0;32mIn[66], line 14\u001B[0m, in \u001B[0;36madd_node_to_dataset.<locals>.add_node\u001B[0;34m(id, seen, attributes, attributes_tensor)\u001B[0m\n\u001B[1;32m     12\u001B[0m \u001B[38;5;28;01mfor\u001B[39;00m j, attribute \u001B[38;5;129;01min\u001B[39;00m \u001B[38;5;28menumerate\u001B[39m(attributes):\n\u001B[1;32m     13\u001B[0m     \u001B[38;5;28mprint\u001B[39m(attribute)\n\u001B[0;32m---> 14\u001B[0m     \u001B[43mattributes_tensor\u001B[49m\u001B[43m[\u001B[49m\u001B[38;5;28;43mid\u001B[39;49m\u001B[43m,\u001B[49m\u001B[43m \u001B[49m\u001B[43mj\u001B[49m\u001B[43m]\u001B[49m \u001B[38;5;241m=\u001B[39m attribute\n",
      "\u001B[0;31mTypeError\u001B[0m: can't assign a NoneType to a torch.HalfTensor"
     ]
    }
   ],
   "execution_count": 67
  },
  {
   "cell_type": "code",
   "id": "00e96469-ab5a-4645-ac1e-aa4d844a51c9",
   "metadata": {
    "ExecuteTime": {
     "end_time": "2025-01-03T16:09:44.443253Z",
     "start_time": "2025-01-03T16:09:44.439949Z"
    }
   },
   "source": [
    "driver.close()"
   ],
   "outputs": [],
   "execution_count": 68
  }
 ],
 "metadata": {
  "kernelspec": {
   "display_name": "Python 3 (ipykernel)",
   "language": "python",
   "name": "python3"
  },
  "language_info": {
   "codemirror_mode": {
    "name": "ipython",
    "version": 3
   },
   "file_extension": ".py",
   "mimetype": "text/x-python",
   "name": "python",
   "nbconvert_exporter": "python",
   "pygments_lexer": "ipython3",
   "version": "3.12.7"
  }
 },
 "nbformat": 4,
 "nbformat_minor": 5
}
