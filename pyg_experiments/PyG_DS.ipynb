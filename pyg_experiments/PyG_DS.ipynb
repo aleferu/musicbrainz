{
 "cells": [
  {
   "cell_type": "markdown",
   "id": "4555dc82-32f6-490f-982c-96f49dd267c6",
   "metadata": {},
   "source": [
    "# DataSet PyG\n",
    "\n",
    "by Alejandro Fernández Sánchez"
   ]
  },
  {
   "cell_type": "markdown",
   "id": "e3e3c1b2-72e4-4811-8421-c680d091faac",
   "metadata": {},
   "source": [
    "## Initialization"
   ]
  },
  {
   "cell_type": "code",
   "id": "2bfbfb49-7057-426e-a87a-72834be5573d",
   "metadata": {
    "ExecuteTime": {
     "end_time": "2025-01-03T12:36:46.758615Z",
     "start_time": "2025-01-03T12:36:44.255336Z"
    }
   },
   "source": [
    "from neo4j.graph import Node\n",
    "from neo4j import GraphDatabase, basic_auth\n",
    "from dotenv import load_dotenv\n",
    "import numpy as np\n",
    "import os\n",
    "from typing import Optional\n",
    "import torch\n",
    "\n",
    "from torch_geometric.data import HeteroData"
   ],
   "outputs": [],
   "execution_count": 1
  },
  {
   "cell_type": "code",
   "id": "fbc7a3e8-3adb-492d-918f-db7f9dbc017d",
   "metadata": {
    "ExecuteTime": {
     "end_time": "2025-01-03T12:36:46.784835Z",
     "start_time": "2025-01-03T12:36:46.776596Z"
    }
   },
   "source": [
    "load_dotenv()"
   ],
   "outputs": [
    {
     "data": {
      "text/plain": [
       "True"
      ]
     },
     "execution_count": 2,
     "metadata": {},
     "output_type": "execute_result"
    }
   ],
   "execution_count": 2
  },
  {
   "cell_type": "code",
   "id": "6a9eb8cb-5f11-4bba-af8e-3a7a26fe10f4",
   "metadata": {
    "ExecuteTime": {
     "end_time": "2025-01-03T12:36:46.864534Z",
     "start_time": "2025-01-03T12:36:46.862358Z"
    }
   },
   "source": [
    "DB_HOST = os.getenv(\"NEO4J_HOST\")\n",
    "DB_PORT = os.getenv(\"NEO4J_PORT\")\n",
    "DB_USER = os.getenv(\"NEO4J_USER\")\n",
    "DB_PASS = os.getenv(\"NEO4J_PASS\")\n",
    "LAST_FM_API_KEY = os.getenv(\"LAST_FM_API_KEY\")\n",
    "\n",
    "# .env validation\n",
    "assert DB_HOST is not None and \\\n",
    "    DB_PORT is not None and \\\n",
    "    DB_USER is not None and \\\n",
    "    DB_PASS is not None, \\\n",
    "    \"INVALID .env\""
   ],
   "outputs": [],
   "execution_count": 3
  },
  {
   "cell_type": "code",
   "id": "56c346ad-8560-4842-bc60-11be1d86cffb",
   "metadata": {
    "ExecuteTime": {
     "end_time": "2025-01-03T12:36:46.918120Z",
     "start_time": "2025-01-03T12:36:46.914749Z"
    }
   },
   "source": [
    "driver = GraphDatabase.driver(f\"bolt://{DB_HOST}:{DB_PORT}\", auth=basic_auth(DB_USER, DB_PASS))\n",
    "driver"
   ],
   "outputs": [
    {
     "data": {
      "text/plain": [
       "<neo4j._sync.driver.BoltDriver at 0x78b46c0ee2d0>"
      ]
     },
     "execution_count": 4,
     "metadata": {},
     "output_type": "execute_result"
    }
   ],
   "execution_count": 4
  },
  {
   "cell_type": "code",
   "id": "8e6af8ca-c06d-4ef6-babf-b8cdf6f1f7b9",
   "metadata": {
    "ExecuteTime": {
     "end_time": "2025-01-03T12:36:47.152569Z",
     "start_time": "2025-01-03T12:36:47.001710Z"
    }
   },
   "source": [
    "!mkdir -p ds"
   ],
   "outputs": [],
   "execution_count": 5
  },
  {
   "cell_type": "code",
   "id": "d2b34e66-5351-411e-b57a-819acef09e36",
   "metadata": {
    "ExecuteTime": {
     "end_time": "2025-01-03T12:36:47.165140Z",
     "start_time": "2025-01-03T12:36:47.162099Z"
    }
   },
   "source": [
    "if not torch.cuda.is_available():\n",
    "    raise Exception(\"No cuda found!\")"
   ],
   "outputs": [],
   "execution_count": 6
  },
  {
   "cell_type": "code",
   "id": "df74ea6e-a417-434b-a89e-9ffce252ea91",
   "metadata": {
    "ExecuteTime": {
     "end_time": "2025-01-03T12:36:47.216817Z",
     "start_time": "2025-01-03T12:36:47.213322Z"
    }
   },
   "source": [
    "device = torch.device(\"cuda\" if torch.cuda.is_available() else \"cpu\")\n",
    "device"
   ],
   "outputs": [
    {
     "data": {
      "text/plain": [
       "device(type='cuda')"
      ]
     },
     "execution_count": 7,
     "metadata": {},
     "output_type": "execute_result"
    }
   ],
   "execution_count": 7
  },
  {
   "cell_type": "markdown",
   "id": "49721501-0269-451e-b322-a5e28e27a55f",
   "metadata": {},
   "source": [
    "## Dataset creation"
   ]
  },
  {
   "cell_type": "markdown",
   "id": "45fa46ae-f88b-4ada-8350-67aa1f79de68",
   "metadata": {},
   "source": [
    "### Helper class"
   ]
  },
  {
   "cell_type": "code",
   "id": "3ec3a859-835f-428d-bc54-566701814dff",
   "metadata": {
    "ExecuteTime": {
     "end_time": "2025-01-03T12:36:47.272057Z",
     "start_time": "2025-01-03T12:36:47.266056Z"
    }
   },
   "source": [
    "class IdMap:\n",
    "    \"\"\"Helper class to store a mapping from strings to ids.\"\"\"\n",
    "    def __init__(self):\n",
    "        self.str_to_id = dict()\n",
    "        self.id_to_str = list()\n",
    "\n",
    "    def __len__(self):\n",
    "        \"\"\"Return number of terms stored in the IdMap\"\"\"\n",
    "        assert len(self.str_to_id) == len(self.id_to_str)\n",
    "        return len(self.id_to_str)\n",
    "\n",
    "    def _get_str(self, i):\n",
    "        \"\"\"Returns the string corresponding to a given id (`i`).\"\"\"\n",
    "        return self.id_to_str[i]\n",
    "\n",
    "    def _get_id(self, s):\n",
    "        \"\"\"Returns the id corresponding to a string (`s`). \n",
    "        If `s` is not in the IdMap yet, then assigns a new id and returns the new id.\n",
    "        \"\"\"\n",
    "        if s in self.str_to_id:\n",
    "            idx = self.str_to_id[s]\n",
    "        else:\n",
    "            idx = len(self.str_to_id)\n",
    "            self.str_to_id[s] = idx\n",
    "            self.id_to_str.append(s)\n",
    "        assert len(self.str_to_id) == len(self.id_to_str)  \n",
    "        return idx\n",
    "\n",
    "    def __getitem__(self, key):\n",
    "        \"\"\"If `key` is a integer, use _get_str; \n",
    "           If `key` is a string, use _get_id;\"\"\"\n",
    "        if type(key) is int:\n",
    "            return self._get_str(key)\n",
    "        elif type(key) is str:\n",
    "            return self._get_id(key)\n",
    "        else:\n",
    "            raise TypeError(\"Type not supported\")\n",
    "\n",
    "artist_map = IdMap()\n",
    "track_map = IdMap()\n",
    "tag_map = IdMap()"
   ],
   "outputs": [],
   "execution_count": 8
  },
  {
   "cell_type": "markdown",
   "id": "1e9cf2df-6d1c-4cd6-89fd-4909a9fa8b3d",
   "metadata": {},
   "source": [
    "### Helper vars"
   ]
  },
  {
   "metadata": {
    "ExecuteTime": {
     "end_time": "2025-01-03T12:45:58.562849Z",
     "start_time": "2025-01-03T12:45:58.283908Z"
    }
   },
   "cell_type": "code",
   "source": [
    "def get_x_count(x: str):\n",
    "    with driver.session() as session:\n",
    "        query = f\"MATCH {x} return COUNT(*) AS c\"\n",
    "        return session.run(query).data()[0][\"c\"]\n",
    "\n",
    "artist_count = get_x_count(\"(:Artist)\")\n",
    "track_count = get_x_count(\"(:Track)\")\n",
    "tag_count = get_x_count(\"(:Tag)\")\n",
    "\n",
    "print(\"artist_count:\", artist_count)\n",
    "print(\"track_count:\", track_count)\n",
    "print(\"tag_count:\", tag_count)\n",
    "\n",
    "print()\n",
    "\n",
    "worked_in_count = get_x_count(\"()-[:WORKED_IN]->()\")\n",
    "worked_by_count = get_x_count(\"()-[:WORKED_BY]->()\")\n",
    "collab_with_count = get_x_count(\"()-[:COLLAB_WITH]->()\")\n",
    "musically_related_to_count = get_x_count(\"()-[:MUSICALLY_RELATED_TO]->()\")\n",
    "personally_related_to_count = get_x_count(\"()-[:PERSONALLY_RELATED_TO]->()\")\n",
    "linked_to_count = get_x_count(\"()-[:LINKED_TO]->()\")\n",
    "last_fm_match_count = get_x_count(\"()-[:LAST_FM_MATCH]->()\")\n",
    "artist_has_tag_count = get_x_count(\"(:Artist)-[:HAS_TAG]->()\")\n",
    "artist_tags_count = get_x_count(\"()-[:TAGS]->(:Artist)\")\n",
    "track_has_tag_count = get_x_count(\"(:Track)-[:HAS_TAG]->()\")\n",
    "track_tags_count = get_x_count(\"()-[:TAGS]->(:Track)\")\n",
    "\n",
    "print(\"worked_in_count:\", worked_in_count)\n",
    "print(\"worked_by_count:\", worked_by_count)\n",
    "print(\"collab_with_count:\", collab_with_count)\n",
    "print(\"musically_related_to_count:\", musically_related_to_count)\n",
    "print(\"personally_related_to_count:\", personally_related_to_count)\n",
    "print(\"linked_to_count:\", linked_to_count)\n",
    "print(\"last_fm_match_count:\", last_fm_match_count)\n",
    "print(\"artist_has_tag_count:\", artist_has_tag_count)\n",
    "print(\"artist_tags_count:\", artist_tags_count)\n",
    "print(\"track_has_tag_count:\", track_has_tag_count)\n",
    "print(\"track_tags_count:\", track_tags_count)"
   ],
   "id": "6cc2fc5b5a10149a",
   "outputs": [
    {
     "name": "stdout",
     "output_type": "stream",
     "text": [
      "artist_count: 1489250\n",
      "track_count: 24324100\n",
      "tag_count: 23\n",
      "\n",
      "worked_in_count: 27661673\n",
      "worked_by_count: 27661673\n",
      "collab_with_count: 2463052\n",
      "musically_related_to_count: 373262\n",
      "personally_related_to_count: 26720\n",
      "linked_to_count: 23128\n",
      "last_fm_match_count: 154865250\n",
      "artist_has_tag_count: 2410207\n",
      "artist_tags_count: 2410207\n",
      "track_has_tag_count: 4030735\n",
      "track_tags_count: 4030735\n"
     ]
    }
   ],
   "execution_count": 13
  },
  {
   "metadata": {
    "ExecuteTime": {
     "end_time": "2025-01-03T13:00:02.070723Z",
     "start_time": "2025-01-03T13:00:02.067154Z"
    }
   },
   "cell_type": "code",
   "source": [
    "# 1                        -> begin_date\n",
    "# 2                        -> end_date\n",
    "# 3                        -> ended\n",
    "# 4,5,6,7,8                -> gender1-5\n",
    "# 9                        -> popularity_scaled\n",
    "# 10,11,12,13,14,15        -> type1-6\n",
    "artist_attr_count = 15\n",
    "\n",
    "# 1   -> popularity_scaled\n",
    "# 2   -> year\n",
    "# 3,4 -> sem1-2\n",
    "track_attr_count = 4"
   ],
   "id": "c76889cb6c15d276",
   "outputs": [],
   "execution_count": 14
  },
  {
   "cell_type": "code",
   "id": "040497bc-35f2-49b2-b54c-a8c3f057ccaa",
   "metadata": {
    "ExecuteTime": {
     "end_time": "2025-01-03T13:07:31.340621Z",
     "start_time": "2025-01-03T13:07:31.334261Z"
    }
   },
   "source": [
    "# TODO: Check if everything fits into memory or if I have to process everything separately\n",
    "\n",
    "# Nodes\n",
    "artist_seen = set()\n",
    "artist_x = torch.empty((artist_count, artist_attr_count + 1))\n",
    "\n",
    "track_seen = set()\n",
    "track_x = torch.empty((track_count, track_attr_count + 1))\n",
    "\n",
    "tag_seen = set()\n",
    "tag_x = torch.ones((tag_count, 1))\n",
    "\n",
    "# Relationship indexes\n",
    "worked_in_index = torch.empty((worked_in_count, 2))\n",
    "worked_by_index = torch.empty((worked_by_count, 2))\n",
    "collab_with_index = torch.empty((collab_with_count, 2))\n",
    "musically_related_to_index = torch.empty((musically_related_to_count, 2))\n",
    "personally_related_to_index = torch.empty((personally_related_to_count, 2))\n",
    "linked_to_index = torch.empty((linked_to_count, 2))\n",
    "last_fm_match_index = torch.empty((last_fm_match_count, 2))\n",
    "artist_has_tag_index = torch.empty((artist_has_tag_count, 2))\n",
    "artist_tags_index = torch.empty((artist_tags_count, 2))\n",
    "track_has_tag_index = torch.empty((track_has_tag_count, 2))\n",
    "track_tags_index = torch.empty((track_tags_count, 2))\n",
    "\n",
    "# Relationship attributes\n",
    "collab_with_attributes = torch.empty((collab_with_count, 1))\n",
    "musically_related_to_attributes = torch.empty((musically_related_to_count, 1))\n",
    "personally_related_to_attributes = torch.empty((personally_related_to_count, 1))\n",
    "linked_to_attributes = torch.empty((linked_to_count, 1))\n",
    "last_fm_match_attributes = torch.empty((last_fm_match_count, 1))"
   ],
   "outputs": [],
   "execution_count": 15
  },
  {
   "metadata": {
    "ExecuteTime": {
     "end_time": "2024-11-08T07:00:59.623671Z",
     "start_time": "2024-11-08T07:00:59.615869Z"
    }
   },
   "cell_type": "code",
   "source": [
    "def add_relationship_to_dataset(\n",
    "    id0: int,\n",
    "    id1: int,\n",
    "    relationship_index: list[list[int], list[int]],\n",
    "    attributes: Optional[list] = None,\n",
    "    relationship_attributes: Optional[list] = None\n",
    "):\n",
    "    relationship_index[0].append(id0)\n",
    "    relationship_index[1].append(id1)\n",
    "    if relationship_attributes is not None:\n",
    "        relationship_attributes.append(attributes)"
   ],
   "id": "fc9c0de96386c105",
   "outputs": [],
   "execution_count": 25
  },
  {
   "metadata": {
    "ExecuteTime": {
     "end_time": "2024-11-08T07:25:07.815346Z",
     "start_time": "2024-11-08T07:25:07.798864Z"
    }
   },
   "cell_type": "code",
   "source": [
    "def add_node_to_dataset(node: Node):\n",
    "\n",
    "    def add_node(id: int, seen: set[int], index: list[int], attributes: Optional[list] = None, attributes_tensor: Optional[list] = None):\n",
    "        if id in seen:\n",
    "            return\n",
    "        index.append(id)\n",
    "        if attributes_tensor is not None:\n",
    "            attributes_tensor.append(attributes)\n",
    "\n",
    "    match node, \"Artist\" in node.labels, \"Track\" in node.labels, \"Tag\" in node.labels:\n",
    "        \n",
    "        # FIXME: Node attributes\n",
    "        \n",
    "        # Artist\n",
    "        case node, True, False, False:\n",
    "            add_node(\n",
    "                artist_map[node[\"main_id\"]],\n",
    "                artist_seen,\n",
    "                None,  # FIXME\n",
    "                None,  # FIXME\n",
    "                None   # FIXME\n",
    "            )\n",
    "        \n",
    "        # Track\n",
    "        case node, False, True, False:\n",
    "            add_node(\n",
    "                track_map[node[\"id\"]],\n",
    "                track_seen,\n",
    "                None,  # FIXME\n",
    "                None,  # FIXME\n",
    "                None   # FIXME\n",
    "            )\n",
    "        \n",
    "        # Track\n",
    "        case node, False, False, True:\n",
    "            add_node(\n",
    "                tag_map[node[\"id\"]],\n",
    "                tag_seen,\n",
    "                # tag_tensor\n",
    "                None  # FIXME\n",
    "            )\n",
    "        \n",
    "        case _: raise NotImplementedError(f\"Unknown node: {node}\")"
   ],
   "id": "82a68fa2c0263d4a",
   "outputs": [],
   "execution_count": 31
  },
  {
   "cell_type": "markdown",
   "id": "43c7f69c-4b66-41b3-8d60-546e4505f109",
   "metadata": {},
   "source": "### Main algo"
  },
  {
   "cell_type": "code",
   "id": "1d647070-d5d0-4550-8256-de0ee66da25f",
   "metadata": {
    "ExecuteTime": {
     "end_time": "2024-11-08T07:25:14.505136Z",
     "start_time": "2024-11-08T07:25:14.460841Z"
    }
   },
   "source": [
    "\n",
    "query = \"\"\"\n",
    "    MATCH (a)-[r]->(b)\n",
    "    return a, r, type(r) as r_type, b\n",
    "    limit 5\n",
    "    ;\n",
    "\"\"\"\n",
    "with driver.session() as session:\n",
    "    records = session.run(query)  # type: ignore\n",
    "    for i, record in enumerate(records):\n",
    "        \n",
    "        # Nodes\n",
    "        add_node_to_dataset(record[\"a\"])\n",
    "        add_node_to_dataset(record[\"b\"])\n",
    "        \n",
    "        # Relationships\n",
    "        # TODO: Maybe change TAGS and HAS_TAGS to be different depending on the node type (Artist or Track), should make this loop faster\n",
    "        match record[\"r_type\"], record[\"a\"], \"Artist\" in record[\"a\"].labels, record[\"b\"], \"Artist\" in record[\"b\"].labels, record[\"r\"]:\n",
    "\n",
    "            # ('Artist', 'HAS_TAG', 'Tag')\n",
    "            case \"HAS_TAG\", artist, True, tag, _, _:\n",
    "                add_relationship_to_dataset(\n",
    "                    artist_map[artist[\"main_id\"]],\n",
    "                    tag_map[tag[\"id\"]],\n",
    "                    artist_has_tag_index\n",
    "                )\n",
    "\n",
    "            # ('Tag', 'TAGS', 'Artist')\n",
    "            case \"TAGS\", tag, _, artist, True, _:\n",
    "                add_relationship_to_dataset(\n",
    "                    tag_map[tag[\"id\"]],\n",
    "                    artist_map[artist[\"main_id\"]],\n",
    "                    artist_tags_index\n",
    "                )\n",
    "\n",
    "            # ('Track', 'HAS_TAG', 'Tag')\n",
    "            case \"HAS_TAG\", track, False, tag, _, _:\n",
    "                add_relationship_to_dataset(\n",
    "                    track_map[track[\"id\"]],\n",
    "                    tag_map[tag[\"id\"]],\n",
    "                    track_has_tag_index\n",
    "                )\n",
    "\n",
    "            # ('Tag', 'TAGS', 'Track')\n",
    "            case \"TAGS\", tag, _, track, False, _:\n",
    "                add_relationship_to_dataset(\n",
    "                    tag_map[tag[\"id\"]],\n",
    "                    track_map[track[\"id\"]],\n",
    "                    track_tags_index\n",
    "                )\n",
    "\n",
    "            # ('Artist', 'WORKED_IN', 'Track')\n",
    "            case \"WORKED_IN\", artist, _, track, _, _:\n",
    "                add_relationship_to_dataset(\n",
    "                    artist_map[artist[\"main_id\"]],\n",
    "                    track_map[track[\"id\"]],\n",
    "                    worked_in_index\n",
    "                )\n",
    "\n",
    "            # ('Track', 'WORKED_BY', 'Artist')\n",
    "            case \"WORKED_BY\", track, _, artist, _, _:\n",
    "                add_relationship_to_dataset(\n",
    "                    track_map[track[\"id\"]],\n",
    "                    artist_map[artist[\"main_id\"]],\n",
    "                    worked_by_index\n",
    "                )\n",
    "            \n",
    "            # TODO: Is there something wrong with the inverse of a relationship being itself?\n",
    "\n",
    "            # ('Artist', 'COLLAB_WITH', 'Artist')\n",
    "            case \"COLLAB_WITH\", artist0, _, artist1, _, _:\n",
    "                add_relationship_to_dataset(\n",
    "                    artist_map[artist0[\"main_id\"]],\n",
    "                    artist_map[artist1[\"main_id\"]],\n",
    "                    collab_with_index\n",
    "                )\n",
    "\n",
    "            # ('Artist', 'MUSICALLY_RELATED_TO', 'Artist')\n",
    "            case \"MUSICALLY_RELATED_TO\", artist0, _, artist1, _, _:\n",
    "                add_relationship_to_dataset(\n",
    "                    artist_map[artist0[\"main_id\"]],\n",
    "                    artist_map[artist1[\"main_id\"]],\n",
    "                    musically_related_to_index\n",
    "                )\n",
    "\n",
    "            # ('Artist', 'PERSONALLY_RELATED_TO', 'Artist')\n",
    "            case \"PERSONALLY_RELATED_TO\", artist0, _, artist1, _, _:\n",
    "                add_relationship_to_dataset(\n",
    "                    artist_map[artist0[\"main_id\"]],\n",
    "                    artist_map[artist1[\"main_id\"]],\n",
    "                    personally_related_to_index\n",
    "                )\n",
    "\n",
    "            # ('Artist', 'MUSICALLY_RELATED_TO', 'Artist')\n",
    "            case \"LINKED_TO\", artist0, _, artist1, _, _:\n",
    "                add_relationship_to_dataset(\n",
    "                    artist_map[artist0[\"main_id\"]],\n",
    "                    artist_map[artist1[\"main_id\"]],\n",
    "                    linked_to_index\n",
    "                )\n",
    "\n",
    "            # ('Artist', 'LAST_FM_MATCH', 'Artist')\n",
    "            case \"LAST_FM_MATCH\", artist0, _, artist1, _, attributes:\n",
    "                add_relationship_to_dataset(\n",
    "                    artist_map[artist0[\"main_id\"]],\n",
    "                    artist_map[artist1[\"main_id\"]],\n",
    "                    last_fm_match_index,\n",
    "                    [attributes[\"weight\"]],\n",
    "                    last_fm_match_attributes,\n",
    "                )\n",
    "\n",
    "            case _: raise NotImplementedError(f\"Unknown case in match. Relationship type: {record[\"r_type\"]}\")\n",
    "        "
   ],
   "outputs": [],
   "execution_count": 33
  },
  {
   "cell_type": "code",
   "id": "00e96469-ab5a-4645-ac1e-aa4d844a51c9",
   "metadata": {
    "ExecuteTime": {
     "end_time": "2024-11-07T07:28:23.618969Z",
     "start_time": "2024-11-07T07:28:23.611125Z"
    }
   },
   "source": [
    "driver.close()"
   ],
   "outputs": [],
   "execution_count": 68
  }
 ],
 "metadata": {
  "kernelspec": {
   "display_name": "Python 3 (ipykernel)",
   "language": "python",
   "name": "python3"
  },
  "language_info": {
   "codemirror_mode": {
    "name": "ipython",
    "version": 3
   },
   "file_extension": ".py",
   "mimetype": "text/x-python",
   "name": "python",
   "nbconvert_exporter": "python",
   "pygments_lexer": "ipython3",
   "version": "3.12.7"
  }
 },
 "nbformat": 4,
 "nbformat_minor": 5
}
