{
 "cells": [
  {
   "cell_type": "code",
   "execution_count": 4,
   "metadata": {},
   "outputs": [],
   "source": [
    "from neo4j import GraphDatabase, basic_auth\n",
    "import matplotlib.pyplot as plt\n",
    "import os\n",
    "from dotenv import load_dotenv"
   ]
  },
  {
   "cell_type": "code",
   "execution_count": 5,
   "metadata": {},
   "outputs": [],
   "source": [
    "load_dotenv()\n",
    "DB_HOST = os.getenv(\"NEO4J_HOST\")\n",
    "DB_PORT = os.getenv(\"NEO4J_PORT\")\n",
    "DB_USER = os.getenv(\"NEO4J_USER\")\n",
    "DB_PASS = os.getenv(\"NEO4J_PASS\")"
   ]
  },
  {
   "cell_type": "code",
   "execution_count": 6,
   "metadata": {},
   "outputs": [
    {
     "data": {
      "text/plain": [
       "<neo4j._sync.driver.BoltDriver at 0x7f86b7c97260>"
      ]
     },
     "execution_count": 6,
     "metadata": {},
     "output_type": "execute_result"
    }
   ],
   "source": [
    "driver = GraphDatabase.driver(f\"bolt://{DB_HOST}:{DB_PORT}\", auth=basic_auth(DB_USER, DB_PASS))\n",
    "driver"
   ]
  },
  {
   "cell_type": "code",
   "execution_count": 12,
   "metadata": {},
   "outputs": [],
   "source": [
    "def get_count_year_collab(year: int, artist_count: int) -> int:\n",
    "    with driver.session() as session:\n",
    "        query = f\"\"\"\n",
    "            MATCH (n:Track {{year: \"{year}\", artist_count: \"{collab_count}\"}})\n",
    "            RETURN COUNT(n) AS c;\n",
    "        \"\"\"\n",
    "        count = session.run(query).data()[0][\"c\"]\n",
    "        return count"
   ]
  },
  {
   "cell_type": "code",
   "execution_count": 13,
   "metadata": {},
   "outputs": [],
   "source": [
    "year_info = dict()\n",
    "for year in range(2015, 2025):\n",
    "    year_info[year] = {\n",
    "        artist_count: get_count_year_collab(year, artist_count)\n",
    "        for artist_count in range(1, 6)\n",
    "    }\n"
   ]
  },
  {
   "cell_type": "code",
   "execution_count": null,
   "metadata": {},
   "outputs": [],
   "source": [
    "year_info"
   ]
  }
 ],
 "metadata": {
  "kernelspec": {
   "display_name": "musicbrainz",
   "language": "python",
   "name": "python3"
  },
  "language_info": {
   "codemirror_mode": {
    "name": "ipython",
    "version": 3
   },
   "file_extension": ".py",
   "mimetype": "text/x-python",
   "name": "python",
   "nbconvert_exporter": "python",
   "pygments_lexer": "ipython3",
   "version": "3.12.7"
  }
 },
 "nbformat": 4,
 "nbformat_minor": 2
}
