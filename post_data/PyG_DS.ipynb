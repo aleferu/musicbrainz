{
 "cells": [
  {
   "cell_type": "markdown",
   "id": "4555dc82-32f6-490f-982c-96f49dd267c6",
   "metadata": {},
   "source": [
    "# DataSet PyG\n",
    "\n",
    "by Alejandro Fernández Sánchez"
   ]
  },
  {
   "cell_type": "markdown",
   "id": "e3e3c1b2-72e4-4811-8421-c680d091faac",
   "metadata": {},
   "source": [
    "## Initialization"
   ]
  },
  {
   "cell_type": "code",
   "execution_count": 14,
   "id": "2bfbfb49-7057-426e-a87a-72834be5573d",
   "metadata": {},
   "outputs": [],
   "source": [
    "from neo4j import GraphDatabase, Driver, basic_auth\n",
    "from dotenv import load_dotenv\n",
    "import numpy as np\n",
    "import os\n",
    "from typing import Any\n",
    "import torch\n",
    "\n",
    "from torch_geometric.data import HeteroData"
   ]
  },
  {
   "cell_type": "code",
   "execution_count": 2,
   "id": "fbc7a3e8-3adb-492d-918f-db7f9dbc017d",
   "metadata": {},
   "outputs": [
    {
     "data": {
      "text/plain": [
       "True"
      ]
     },
     "execution_count": 2,
     "metadata": {},
     "output_type": "execute_result"
    }
   ],
   "source": [
    "load_dotenv()"
   ]
  },
  {
   "cell_type": "code",
   "execution_count": 3,
   "id": "6a9eb8cb-5f11-4bba-af8e-3a7a26fe10f4",
   "metadata": {},
   "outputs": [],
   "source": [
    "DB_HOST = os.getenv(\"NEO4J_HOST\")\n",
    "DB_PORT = os.getenv(\"NEO4J_PORT\")\n",
    "DB_USER = os.getenv(\"NEO4J_USER\")\n",
    "DB_PASS = os.getenv(\"NEO4J_PASS\")\n",
    "LAST_FM_API_KEY = os.getenv(\"LAST_FM_API_KEY\")\n",
    "\n",
    "# .env validation\n",
    "assert DB_HOST is not None and \\\n",
    "    DB_PORT is not None and \\\n",
    "    DB_USER is not None and \\\n",
    "    DB_PASS is not None and \\\n",
    "    LAST_FM_API_KEY is not None, \\\n",
    "    \"INVALID .env\""
   ]
  },
  {
   "cell_type": "code",
   "execution_count": 4,
   "id": "56c346ad-8560-4842-bc60-11be1d86cffb",
   "metadata": {},
   "outputs": [
    {
     "data": {
      "text/plain": [
       "<neo4j._sync.driver.BoltDriver at 0x7fb54c309040>"
      ]
     },
     "execution_count": 4,
     "metadata": {},
     "output_type": "execute_result"
    }
   ],
   "source": [
    "driver = GraphDatabase.driver(f\"bolt://{DB_HOST}:{DB_PORT}\", auth=basic_auth(DB_USER, DB_PASS))\n",
    "driver"
   ]
  },
  {
   "cell_type": "code",
   "execution_count": 6,
   "id": "8e6af8ca-c06d-4ef6-babf-b8cdf6f1f7b9",
   "metadata": {},
   "outputs": [],
   "source": [
    "!mkdir -p ds"
   ]
  },
  {
   "cell_type": "code",
   "execution_count": 17,
   "id": "d2b34e66-5351-411e-b57a-819acef09e36",
   "metadata": {},
   "outputs": [],
   "source": [
    "if not torch.cuda.is_available():\n",
    "    raise Exception(\"No cuda found!\")"
   ]
  },
  {
   "cell_type": "code",
   "execution_count": 18,
   "id": "df74ea6e-a417-434b-a89e-9ffce252ea91",
   "metadata": {},
   "outputs": [
    {
     "data": {
      "text/plain": [
       "device(type='cuda')"
      ]
     },
     "execution_count": 18,
     "metadata": {},
     "output_type": "execute_result"
    }
   ],
   "source": [
    "device = torch.device(\"cuda\" if torch.cuda.is_available() else \"cpu\")\n",
    "device"
   ]
  },
  {
   "cell_type": "markdown",
   "id": "49721501-0269-451e-b322-a5e28e27a55f",
   "metadata": {},
   "source": [
    "## Dataset creation"
   ]
  },
  {
   "cell_type": "markdown",
   "id": "45fa46ae-f88b-4ada-8350-67aa1f79de68",
   "metadata": {},
   "source": [
    "### Helper class"
   ]
  },
  {
   "cell_type": "code",
   "execution_count": 54,
   "id": "3ec3a859-835f-428d-bc54-566701814dff",
   "metadata": {},
   "outputs": [],
   "source": [
    "class IdMap:\n",
    "    \"\"\"Helper class to store a mapping from strings to ids.\"\"\"\n",
    "    def __init__(self):\n",
    "        self.str_to_id = dict()\n",
    "        self.id_to_str = list()\n",
    "\n",
    "    def __len__(self):\n",
    "        \"\"\"Return number of terms stored in the IdMap\"\"\"\n",
    "        assert len(self.str_to_id) == len(self.id_to_str)\n",
    "        return len(self.id_to_str)\n",
    "\n",
    "    def _get_str(self, i):\n",
    "        \"\"\"Returns the string corresponding to a given id (`i`).\"\"\"\n",
    "        return self.id_to_str[i]\n",
    "\n",
    "    def _get_id(self, s):\n",
    "        \"\"\"Returns the id corresponding to a string (`s`). \n",
    "        If `s` is not in the IdMap yet, then assigns a new id and returns the new id.\n",
    "        \"\"\"\n",
    "        if s in self.str_to_id:\n",
    "            idx = self.str_to_id[s]\n",
    "        else:\n",
    "            idx = len(self.str_to_id)\n",
    "            self.str_to_id[s] = idx\n",
    "            self.id_to_str.append(s)\n",
    "        assert len(self.str_to_id) == len(self.id_to_str)  \n",
    "        return idx\n",
    "\n",
    "    def __getitem__(self, key):\n",
    "        \"\"\"If `key` is a integer, use _get_str; \n",
    "           If `key` is a string, use _get_id;\"\"\"\n",
    "        if type(key) is int:\n",
    "            return self._get_str(key)\n",
    "        elif type(key) is str:\n",
    "            return self._get_id(key)\n",
    "        else:\n",
    "            raise TypeError(\"Type not supported\")\n",
    "\n",
    "artist_map = IdMap()\n",
    "release_map = IdMap()\n",
    "tag_map = IdMap()"
   ]
  },
  {
   "cell_type": "markdown",
   "id": "1e9cf2df-6d1c-4cd6-89fd-4909a9fa8b3d",
   "metadata": {},
   "source": [
    "### Helper vars"
   ]
  },
  {
   "cell_type": "code",
   "execution_count": null,
   "id": "040497bc-35f2-49b2-b54c-a8c3f057ccaa",
   "metadata": {},
   "outputs": [],
   "source": [
    "# Nodes\n",
    "artist_tensor = list()\n",
    "release_tensor = list()\n",
    "tag_tensor = list()\n",
    "\n",
    "# Relationship indexes\n",
    "worked_in_index = list()\n",
    "worked_by_index = list()\n",
    "collab_with_index = list()\n",
    "musically_related_to_index = list()\n",
    "personally_related_to_index = list()\n",
    "linked_to_index = list()\n",
    "last_fm_match_index = list()\n",
    "has_tag_index = list()\n",
    "tags_index = list()\n",
    "\n",
    "# Relationship attributes\n",
    "worked_in_attributes = list()\n",
    "worked_by_attributes = list()\n",
    "collab_with_attributes = list()\n",
    "musically_related_to_attributes = list()\n",
    "personally_related_to_attributes = list()\n",
    "linked_to_attributes = list()\n",
    "last_fm_match_attributes = list()\n",
    "has_tag_attributes = list()\n",
    "tags_attributes = list()"
   ]
  },
  {
   "cell_type": "markdown",
   "id": "43c7f69c-4b66-41b3-8d60-546e4505f109",
   "metadata": {},
   "source": [
    "### Artists"
   ]
  },
  {
   "cell_type": "code",
   "execution_count": 57,
   "id": "1d647070-d5d0-4550-8256-de0ee66da25f",
   "metadata": {},
   "outputs": [
    {
     "name": "stdout",
     "output_type": "stream",
     "text": [
      "0\n",
      "1\n",
      "2\n",
      "3\n",
      "4\n"
     ]
    }
   ],
   "source": [
    "# TODO: How should we handle dates?\n",
    "\n",
    "\n",
    "query = \"\"\"\n",
    "    MATCH (a)-[r]->(b) return a, r, type(r) as r_type, b limit 5\n",
    "    ;\n",
    "\"\"\"\n",
    "with driver.session() as session:\n",
    "    records = session.run(query)  # type: ignore\n",
    "    for i, record in enumerate(records):\n",
    "        print(i)\n",
    "        # print(record[\"a\"][\"main_id\"])\n",
    "        # print(record[\"r_type\"])\n",
    "        # print(record[\"b\"].labels)\n",
    "        # print()\n",
    "        "
   ]
  },
  {
   "cell_type": "code",
   "execution_count": null,
   "id": "00e96469-ab5a-4645-ac1e-aa4d844a51c9",
   "metadata": {},
   "outputs": [],
   "source": [
    "driver.close()"
   ]
  }
 ],
 "metadata": {
  "kernelspec": {
   "display_name": "Python 3 (ipykernel)",
   "language": "python",
   "name": "python3"
  },
  "language_info": {
   "codemirror_mode": {
    "name": "ipython",
    "version": 3
   },
   "file_extension": ".py",
   "mimetype": "text/x-python",
   "name": "python",
   "nbconvert_exporter": "python",
   "pygments_lexer": "ipython3",
   "version": "3.12.7"
  }
 },
 "nbformat": 4,
 "nbformat_minor": 5
}
