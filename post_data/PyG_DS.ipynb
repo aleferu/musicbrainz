{
 "cells": [
  {
   "cell_type": "markdown",
   "id": "4555dc82-32f6-490f-982c-96f49dd267c6",
   "metadata": {},
   "source": [
    "# DataSet PyG\n",
    "\n",
    "by Alejandro Fernández Sánchez"
   ]
  },
  {
   "cell_type": "markdown",
   "id": "e3e3c1b2-72e4-4811-8421-c680d091faac",
   "metadata": {},
   "source": [
    "## Initialization"
   ]
  },
  {
   "cell_type": "code",
   "id": "2bfbfb49-7057-426e-a87a-72834be5573d",
   "metadata": {
    "ExecuteTime": {
     "end_time": "2024-11-08T06:30:51.658766Z",
     "start_time": "2024-11-08T06:30:46.013973Z"
    }
   },
   "source": [
    "from neo4j import GraphDatabase, Driver, basic_auth\n",
    "from dotenv import load_dotenv\n",
    "import numpy as np\n",
    "import os\n",
    "from typing import Optional\n",
    "import torch\n",
    "\n",
    "from torch_geometric.data import HeteroData"
   ],
   "outputs": [],
   "execution_count": 3
  },
  {
   "cell_type": "code",
   "id": "fbc7a3e8-3adb-492d-918f-db7f9dbc017d",
   "metadata": {
    "ExecuteTime": {
     "end_time": "2024-11-08T06:30:52.316936Z",
     "start_time": "2024-11-08T06:30:52.305683Z"
    }
   },
   "source": [
    "load_dotenv()"
   ],
   "outputs": [
    {
     "data": {
      "text/plain": [
       "True"
      ]
     },
     "execution_count": 4,
     "metadata": {},
     "output_type": "execute_result"
    }
   ],
   "execution_count": 4
  },
  {
   "cell_type": "code",
   "id": "6a9eb8cb-5f11-4bba-af8e-3a7a26fe10f4",
   "metadata": {
    "ExecuteTime": {
     "end_time": "2024-11-08T06:30:53.096074Z",
     "start_time": "2024-11-08T06:30:53.088273Z"
    }
   },
   "source": [
    "DB_HOST = os.getenv(\"NEO4J_HOST\")\n",
    "DB_PORT = os.getenv(\"NEO4J_PORT\")\n",
    "DB_USER = os.getenv(\"NEO4J_USER\")\n",
    "DB_PASS = os.getenv(\"NEO4J_PASS\")\n",
    "LAST_FM_API_KEY = os.getenv(\"LAST_FM_API_KEY\")\n",
    "\n",
    "# .env validation\n",
    "assert DB_HOST is not None and \\\n",
    "    DB_PORT is not None and \\\n",
    "    DB_USER is not None and \\\n",
    "    DB_PASS is not None, \\\n",
    "    \"INVALID .env\""
   ],
   "outputs": [],
   "execution_count": 5
  },
  {
   "cell_type": "code",
   "id": "56c346ad-8560-4842-bc60-11be1d86cffb",
   "metadata": {
    "ExecuteTime": {
     "end_time": "2024-11-08T06:30:53.402747Z",
     "start_time": "2024-11-08T06:30:53.398392Z"
    }
   },
   "source": [
    "driver = GraphDatabase.driver(f\"bolt://{DB_HOST}:{DB_PORT}\", auth=basic_auth(DB_USER, DB_PASS))\n",
    "driver"
   ],
   "outputs": [
    {
     "data": {
      "text/plain": [
       "<neo4j._sync.driver.BoltDriver at 0x7f59cd3ac470>"
      ]
     },
     "execution_count": 6,
     "metadata": {},
     "output_type": "execute_result"
    }
   ],
   "execution_count": 6
  },
  {
   "cell_type": "code",
   "id": "8e6af8ca-c06d-4ef6-babf-b8cdf6f1f7b9",
   "metadata": {
    "ExecuteTime": {
     "end_time": "2024-11-08T06:30:54.066624Z",
     "start_time": "2024-11-08T06:30:53.756049Z"
    }
   },
   "source": [
    "!mkdir -p ds"
   ],
   "outputs": [],
   "execution_count": 7
  },
  {
   "cell_type": "code",
   "id": "d2b34e66-5351-411e-b57a-819acef09e36",
   "metadata": {
    "ExecuteTime": {
     "end_time": "2024-11-08T06:30:54.531670Z",
     "start_time": "2024-11-08T06:30:54.528373Z"
    }
   },
   "source": [
    "if not torch.cuda.is_available():\n",
    "    raise Exception(\"No cuda found!\")"
   ],
   "outputs": [],
   "execution_count": 8
  },
  {
   "cell_type": "code",
   "id": "df74ea6e-a417-434b-a89e-9ffce252ea91",
   "metadata": {
    "ExecuteTime": {
     "end_time": "2024-11-08T06:30:54.904474Z",
     "start_time": "2024-11-08T06:30:54.899819Z"
    }
   },
   "source": [
    "device = torch.device(\"cuda\" if torch.cuda.is_available() else \"cpu\")\n",
    "device"
   ],
   "outputs": [
    {
     "data": {
      "text/plain": [
       "device(type='cuda')"
      ]
     },
     "execution_count": 9,
     "metadata": {},
     "output_type": "execute_result"
    }
   ],
   "execution_count": 9
  },
  {
   "cell_type": "markdown",
   "id": "49721501-0269-451e-b322-a5e28e27a55f",
   "metadata": {},
   "source": [
    "## Dataset creation"
   ]
  },
  {
   "cell_type": "markdown",
   "id": "45fa46ae-f88b-4ada-8350-67aa1f79de68",
   "metadata": {},
   "source": [
    "### Helper class"
   ]
  },
  {
   "cell_type": "code",
   "id": "3ec3a859-835f-428d-bc54-566701814dff",
   "metadata": {
    "ExecuteTime": {
     "end_time": "2024-11-08T07:00:58.303181Z",
     "start_time": "2024-11-08T07:00:58.297714Z"
    }
   },
   "source": [
    "class IdMap:\n",
    "    \"\"\"Helper class to store a mapping from strings to ids.\"\"\"\n",
    "    def __init__(self):\n",
    "        self.str_to_id = dict()\n",
    "        self.id_to_str = list()\n",
    "\n",
    "    def __len__(self):\n",
    "        \"\"\"Return number of terms stored in the IdMap\"\"\"\n",
    "        assert len(self.str_to_id) == len(self.id_to_str)\n",
    "        return len(self.id_to_str)\n",
    "\n",
    "    def _get_str(self, i):\n",
    "        \"\"\"Returns the string corresponding to a given id (`i`).\"\"\"\n",
    "        return self.id_to_str[i]\n",
    "\n",
    "    def _get_id(self, s):\n",
    "        \"\"\"Returns the id corresponding to a string (`s`). \n",
    "        If `s` is not in the IdMap yet, then assigns a new id and returns the new id.\n",
    "        \"\"\"\n",
    "        if s in self.str_to_id:\n",
    "            idx = self.str_to_id[s]\n",
    "        else:\n",
    "            idx = len(self.str_to_id)\n",
    "            self.str_to_id[s] = idx\n",
    "            self.id_to_str.append(s)\n",
    "        assert len(self.str_to_id) == len(self.id_to_str)  \n",
    "        return idx\n",
    "\n",
    "    def __getitem__(self, key):\n",
    "        \"\"\"If `key` is a integer, use _get_str; \n",
    "           If `key` is a string, use _get_id;\"\"\"\n",
    "        if type(key) is int:\n",
    "            return self._get_str(key)\n",
    "        elif type(key) is str:\n",
    "            return self._get_id(key)\n",
    "        else:\n",
    "            raise TypeError(\"Type not supported\")\n",
    "\n",
    "artist_map = IdMap()\n",
    "track_map = IdMap()\n",
    "tag_map = IdMap()"
   ],
   "outputs": [],
   "execution_count": 23
  },
  {
   "cell_type": "markdown",
   "id": "1e9cf2df-6d1c-4cd6-89fd-4909a9fa8b3d",
   "metadata": {},
   "source": [
    "### Helper vars"
   ]
  },
  {
   "cell_type": "code",
   "id": "040497bc-35f2-49b2-b54c-a8c3f057ccaa",
   "metadata": {
    "ExecuteTime": {
     "end_time": "2024-11-08T07:00:58.918263Z",
     "start_time": "2024-11-08T07:00:58.912264Z"
    }
   },
   "source": [
    "# Nodes\n",
    "artist_tensor = list()\n",
    "artist_seen = set()\n",
    "track_tensor = list()\n",
    "track_seen = set()\n",
    "tag_tensor = list()\n",
    "tag_seen = set()\n",
    "\n",
    "# Relationship indexes\n",
    "worked_in_index = [list(), list()]\n",
    "worked_by_index = [list(), list()]\n",
    "collab_with_index = [list(), list()]\n",
    "musically_related_to_index = [list(), list()]\n",
    "personally_related_to_index = [list(), list()]\n",
    "linked_to_index = [list(), list()]\n",
    "last_fm_match_index = [list(), list()]\n",
    "artist_has_tag_index = [list(), list()]\n",
    "artist_tags_index = [list(), list()]\n",
    "track_has_tag_index = [list(), list()]\n",
    "track_tags_index = [list(), list()]\n",
    "\n",
    "# Relationship attributes\n",
    "last_fm_match_attributes = list()"
   ],
   "outputs": [],
   "execution_count": 24
  },
  {
   "metadata": {
    "ExecuteTime": {
     "end_time": "2024-11-08T07:00:59.623671Z",
     "start_time": "2024-11-08T07:00:59.615869Z"
    }
   },
   "cell_type": "code",
   "source": [
    "def add_relationship_to_dataset(\n",
    "    id0: int,\n",
    "    id1: int,\n",
    "    relationship_index: list[list[int], list[int]],\n",
    "    attributes: Optional[list] = None,\n",
    "    relationship_attributes: Optional[list] = None\n",
    "):\n",
    "    relationship_index[0].append(id0)\n",
    "    relationship_index[1].append(id1)\n",
    "    if relationship_attributes is not None:\n",
    "        relationship_attributes.append(attributes)"
   ],
   "id": "fc9c0de96386c105",
   "outputs": [],
   "execution_count": 25
  },
  {
   "metadata": {},
   "cell_type": "code",
   "outputs": [],
   "execution_count": null,
   "source": "",
   "id": "82a68fa2c0263d4a"
  },
  {
   "cell_type": "markdown",
   "id": "43c7f69c-4b66-41b3-8d60-546e4505f109",
   "metadata": {},
   "source": [
    "### Artists"
   ]
  },
  {
   "cell_type": "code",
   "id": "1d647070-d5d0-4550-8256-de0ee66da25f",
   "metadata": {
    "ExecuteTime": {
     "end_time": "2024-11-08T07:01:11.973019Z",
     "start_time": "2024-11-08T07:01:11.957380Z"
    }
   },
   "source": [
    "\n",
    "query = \"\"\"\n",
    "    MATCH (a)-[r]->(b)\n",
    "    return a, r, type(r) as r_type, b\n",
    "    limit 5\n",
    "    ;\n",
    "\"\"\"\n",
    "with driver.session() as session:\n",
    "    records = session.run(query)  # type: ignore\n",
    "    for i, record in enumerate(records):\n",
    "        match record[\"r_type\"], record[\"a\"], \"Artist\" in record[\"a\"].labels, record[\"b\"], \"Artist\" in record[\"b\"].labels, record[\"r\"]:\n",
    "\n",
    "            # ('Artist', 'HAS_TAG', 'Tag')\n",
    "            case \"HAS_TAG\", artist, True, tag, _, _:\n",
    "                add_relationship_to_dataset(\n",
    "                    artist_map[artist[\"main_id\"]],\n",
    "                    tag_map[tag[\"id\"]],\n",
    "                    artist_has_tag_index\n",
    "                )\n",
    "\n",
    "            # ('Tag', 'TAGS', 'Artist')\n",
    "            case \"TAGS\", tag, _, artist, True, _:\n",
    "                add_relationship_to_dataset(\n",
    "                    tag_map[tag[\"id\"]],\n",
    "                    artist_map[artist[\"main_id\"]],\n",
    "                    artist_tags_index\n",
    "                )\n",
    "\n",
    "            # ('Track', 'HAS_TAG', 'Tag')\n",
    "            case \"HAS_TAG\", track, False, tag, _, _:\n",
    "                add_relationship_to_dataset(\n",
    "                    track_map[track[\"id\"]],\n",
    "                    tag_map[tag[\"id\"]],\n",
    "                    track_has_tag_index\n",
    "                )\n",
    "\n",
    "            # ('Tag', 'TAGS', 'Track')\n",
    "            case \"TAGS\", tag, _, track, False, _:\n",
    "                add_relationship_to_dataset(\n",
    "                    tag_map[tag[\"id\"]],\n",
    "                    track_map[track[\"id\"]],\n",
    "                    track_tags_index\n",
    "                )\n",
    "\n",
    "            # ('Artist', 'WORKED_IN', 'Track')\n",
    "            case \"WORKED_IN\", artist, _, track, _, _:\n",
    "                add_relationship_to_dataset(\n",
    "                    artist_map[artist[\"main_id\"]],\n",
    "                    track_map[track[\"id\"]],\n",
    "                    worked_in_index\n",
    "                )\n",
    "\n",
    "            # ('Track', 'WORKED_BY', 'Artist')\n",
    "            case \"WORKED_BY\", track, _, artist, _, _:\n",
    "                add_relationship_to_dataset(\n",
    "                    track_map[track[\"id\"]],\n",
    "                    artist_map[artist[\"main_id\"]],\n",
    "                    worked_by_index\n",
    "                )\n",
    "\n",
    "            # ('Artist', 'COLLAB_WITH', 'Artist')\n",
    "            case \"COLLAB_WITH\", artist0, _, artist1, _, _:\n",
    "                add_relationship_to_dataset(\n",
    "                    artist_map[artist0[\"main_id\"]],\n",
    "                    artist_map[artist1[\"main_id\"]],\n",
    "                    collab_with_index\n",
    "                )\n",
    "            \n",
    "            # TODO: Is there something wrong with the inverse of a relationship being itself?\n",
    "\n",
    "            # ('Artist', 'MUSICALLY_RELATED_TO', 'Artist')\n",
    "            case \"MUSICALLY_RELATED_TO\", artist0, _, artist1, _, _:\n",
    "                add_relationship_to_dataset(\n",
    "                    artist_map[artist0[\"main_id\"]],\n",
    "                    artist_map[artist1[\"main_id\"]],\n",
    "                    musically_related_to_index\n",
    "                )\n",
    "\n",
    "            # ('Artist', 'PERSONALLY_RELATED_TO', 'Artist')\n",
    "            case \"PERSONALLY_RELATED_TO\", artist0, _, artist1, _, _:\n",
    "                add_relationship_to_dataset(\n",
    "                    artist_map[artist0[\"main_id\"]],\n",
    "                    artist_map[artist1[\"main_id\"]],\n",
    "                    personally_related_to_index\n",
    "                )\n",
    "\n",
    "            # ('Artist', 'MUSICALLY_RELATED_TO', 'Artist')\n",
    "            case \"LINKED_TO\", artist0, _, artist1, _, _:\n",
    "                add_relationship_to_dataset(\n",
    "                    artist_map[artist0[\"main_id\"]],\n",
    "                    artist_map[artist1[\"main_id\"]],\n",
    "                    linked_to_index\n",
    "                )\n",
    "\n",
    "            # ('Artist', 'LAST_FM_MATCH', 'Artist')\n",
    "            case \"LAST_FM_MATCH\", artist0, _, artist1, _, attributes:\n",
    "                add_relationship_to_dataset(\n",
    "                    artist_map[artist0[\"main_id\"]],\n",
    "                    artist_map[artist1[\"main_id\"]],\n",
    "                    last_fm_match_index,\n",
    "                    [attributes[\"weight\"]],\n",
    "                    last_fm_match_attributes,\n",
    "                )\n",
    "\n",
    "            case _: raise NotImplementedError(f\"Unknown case in match. Relationship type: {record[\"r_type\"]}\")\n",
    "        "
   ],
   "outputs": [],
   "execution_count": 27
  },
  {
   "cell_type": "code",
   "id": "00e96469-ab5a-4645-ac1e-aa4d844a51c9",
   "metadata": {
    "ExecuteTime": {
     "end_time": "2024-11-07T07:28:23.618969Z",
     "start_time": "2024-11-07T07:28:23.611125Z"
    }
   },
   "source": [
    "driver.close()"
   ],
   "outputs": [],
   "execution_count": 68
  }
 ],
 "metadata": {
  "kernelspec": {
   "display_name": "Python 3 (ipykernel)",
   "language": "python",
   "name": "python3"
  },
  "language_info": {
   "codemirror_mode": {
    "name": "ipython",
    "version": 3
   },
   "file_extension": ".py",
   "mimetype": "text/x-python",
   "name": "python",
   "nbconvert_exporter": "python",
   "pygments_lexer": "ipython3",
   "version": "3.12.7"
  }
 },
 "nbformat": 4,
 "nbformat_minor": 5
}
